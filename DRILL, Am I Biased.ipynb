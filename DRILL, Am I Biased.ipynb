{
 "cells": [
  {
   "cell_type": "markdown",
   "metadata": {},
   "source": [
    "### You're testing advertising emails for a bathing suit company and you test one version of the email in February and the other in May.\n",
    "\n",
    "> Type of people responding to the email will be different due to two different time of the email. February will have mojority of people who plan a head and people who don't plan a head might respond much later."
   ]
  },
  {
   "cell_type": "markdown",
   "metadata": {},
   "source": [
    "## You open a clinic to treat anxiety and find that the people who visit show a higher rate of anxiety than the general population.\n",
    "\n",
    "> of course, if they did not have highter anxiety why whould they go to clinic"
   ]
  },
  {
   "cell_type": "markdown",
   "metadata": {},
   "source": [
    "## You launch a new ad billboard based campaign and see an increase in website visits in the first week.\n",
    "\n",
    "> Response to ad may not be that quick therefore some other event might have caused it."
   ]
  },
  {
   "cell_type": "markdown",
   "metadata": {},
   "source": [
    "## You launch a loyalty program but see no change in visits in the first week.\n",
    "\n",
    "> Response to ad may not be that quick therefore result may not reflect program."
   ]
  },
  {
   "cell_type": "code",
   "execution_count": null,
   "metadata": {
    "collapsed": true
   },
   "outputs": [],
   "source": []
  }
 ],
 "metadata": {
  "kernelspec": {
   "display_name": "Python 3",
   "language": "python",
   "name": "python3"
  },
  "language_info": {
   "codemirror_mode": {
    "name": "ipython",
    "version": 3
   },
   "file_extension": ".py",
   "mimetype": "text/x-python",
   "name": "python",
   "nbconvert_exporter": "python",
   "pygments_lexer": "ipython3",
   "version": "3.6.3"
  }
 },
 "nbformat": 4,
 "nbformat_minor": 2
}
