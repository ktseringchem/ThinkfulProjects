{
 "cells": [
  {
   "cell_type": "code",
   "execution_count": 59,
   "metadata": {
    "collapsed": true
   },
   "outputs": [],
   "source": [
    "import numpy as np\n",
    "import pandas as pd\n",
    "import seaborn as sns\n",
    "from sklearn.svm import SVR\n",
    "from sklearn.svm import SVC\n",
    "from sklearn import neighbors\n",
    "import matplotlib.pyplot as plt\n",
    "from sklearn import linear_model\n",
    "from sklearn.decomposition import PCA\n",
    "import statsmodels.formula.api as smf\n",
    "from sklearn.preprocessing import StandardScaler\n",
    "from sklearn.model_selection import cross_val_score\n",
    "from sklearn.model_selection import train_test_split\n",
    "from sklearn.cross_decomposition import PLSRegression"
   ]
  },
  {
   "cell_type": "code",
   "execution_count": 60,
   "metadata": {},
   "outputs": [
    {
     "data": {
      "text/html": [
       "<div>\n",
       "<style>\n",
       "    .dataframe thead tr:only-child th {\n",
       "        text-align: right;\n",
       "    }\n",
       "\n",
       "    .dataframe thead th {\n",
       "        text-align: left;\n",
       "    }\n",
       "\n",
       "    .dataframe tbody tr th {\n",
       "        vertical-align: top;\n",
       "    }\n",
       "</style>\n",
       "<table border=\"1\" class=\"dataframe\">\n",
       "  <thead>\n",
       "    <tr style=\"text-align: right;\">\n",
       "      <th></th>\n",
       "      <th>MPG</th>\n",
       "      <th>Cylinders</th>\n",
       "      <th>Displacement</th>\n",
       "      <th>horsepower</th>\n",
       "      <th>Weight</th>\n",
       "      <th>Acceleration</th>\n",
       "      <th>Model_Year</th>\n",
       "      <th>Origin</th>\n",
       "      <th>Car Name</th>\n",
       "    </tr>\n",
       "  </thead>\n",
       "  <tbody>\n",
       "    <tr>\n",
       "      <th>0</th>\n",
       "      <td>18.0</td>\n",
       "      <td>8</td>\n",
       "      <td>307.0</td>\n",
       "      <td>130.0</td>\n",
       "      <td>3504</td>\n",
       "      <td>12.0</td>\n",
       "      <td>70</td>\n",
       "      <td>1</td>\n",
       "      <td>chevrolet chevelle malibu</td>\n",
       "    </tr>\n",
       "    <tr>\n",
       "      <th>1</th>\n",
       "      <td>15.0</td>\n",
       "      <td>8</td>\n",
       "      <td>350.0</td>\n",
       "      <td>165.0</td>\n",
       "      <td>3693</td>\n",
       "      <td>11.5</td>\n",
       "      <td>70</td>\n",
       "      <td>1</td>\n",
       "      <td>buick skylark 320</td>\n",
       "    </tr>\n",
       "    <tr>\n",
       "      <th>2</th>\n",
       "      <td>18.0</td>\n",
       "      <td>8</td>\n",
       "      <td>318.0</td>\n",
       "      <td>150.0</td>\n",
       "      <td>3436</td>\n",
       "      <td>11.0</td>\n",
       "      <td>70</td>\n",
       "      <td>1</td>\n",
       "      <td>plymouth satellite</td>\n",
       "    </tr>\n",
       "    <tr>\n",
       "      <th>3</th>\n",
       "      <td>16.0</td>\n",
       "      <td>8</td>\n",
       "      <td>304.0</td>\n",
       "      <td>150.0</td>\n",
       "      <td>3433</td>\n",
       "      <td>12.0</td>\n",
       "      <td>70</td>\n",
       "      <td>1</td>\n",
       "      <td>amc rebel sst</td>\n",
       "    </tr>\n",
       "    <tr>\n",
       "      <th>4</th>\n",
       "      <td>17.0</td>\n",
       "      <td>8</td>\n",
       "      <td>302.0</td>\n",
       "      <td>140.0</td>\n",
       "      <td>3449</td>\n",
       "      <td>10.5</td>\n",
       "      <td>70</td>\n",
       "      <td>1</td>\n",
       "      <td>ford torino</td>\n",
       "    </tr>\n",
       "  </tbody>\n",
       "</table>\n",
       "</div>"
      ],
      "text/plain": [
       "    MPG  Cylinders  Displacement  horsepower  Weight  Acceleration  \\\n",
       "0  18.0          8         307.0       130.0    3504          12.0   \n",
       "1  15.0          8         350.0       165.0    3693          11.5   \n",
       "2  18.0          8         318.0       150.0    3436          11.0   \n",
       "3  16.0          8         304.0       150.0    3433          12.0   \n",
       "4  17.0          8         302.0       140.0    3449          10.5   \n",
       "\n",
       "   Model_Year  Origin                   Car Name  \n",
       "0          70       1  chevrolet chevelle malibu  \n",
       "1          70       1          buick skylark 320  \n",
       "2          70       1         plymouth satellite  \n",
       "3          70       1              amc rebel sst  \n",
       "4          70       1                ford torino  "
      ]
     },
     "execution_count": 60,
     "metadata": {},
     "output_type": "execute_result"
    }
   ],
   "source": [
    "auto_mpg_df = pd.read_table('auto-mpg.data-original.csv', delimiter=',').dropna()\n",
    "auto_mpg_df.head()"
   ]
  },
  {
   "cell_type": "code",
   "execution_count": 61,
   "metadata": {
    "collapsed": true
   },
   "outputs": [],
   "source": [
    "auto_mpg_df['Displacement'] = np.log(auto_mpg_df['Displacement'])\n",
    "auto_mpg_df['Weight'] = np.log(auto_mpg_df['Weight'])\n",
    "auto_mpg_df['MPG'] = np.log(auto_mpg_df['MPG'])\n",
    "#auto_mpg_df['horsepower'] = np.log(auto_mpg_df['horsepower'])"
   ]
  },
  {
   "cell_type": "code",
   "execution_count": 62,
   "metadata": {},
   "outputs": [
    {
     "data": {
      "image/png": "[encoded data removed]",
      "text/plain": [
       "<matplotlib.figure.Figure at 0x199f31c1a90>"
      ]
     },
     "metadata": {},
     "output_type": "display_data"
    }
   ],
   "source": [
    "f, (ax1, ax2, ax3, ax4, ax5, ax6) = plt.subplots(1, 6, sharey=True, figsize=(20,6))\n",
    "ax1.scatter(auto_mpg_df['Displacement'], auto_mpg_df['MPG'])\n",
    "ax1.set_title('Sharing Y axis')\n",
    "ax2.scatter(auto_mpg_df['Acceleration'], auto_mpg_df['MPG'])\n",
    "ax3.scatter(auto_mpg_df['horsepower'], auto_mpg_df['MPG'])\n",
    "ax4.scatter(auto_mpg_df['Weight'], auto_mpg_df['MPG'])\n",
    "ax5.scatter(auto_mpg_df['Cylinders'], auto_mpg_df['MPG'])\n",
    "ax6.scatter(auto_mpg_df['Model_Year'], auto_mpg_df['MPG'])\n",
    "plt.show()"
   ]
  },
  {
   "cell_type": "code",
   "execution_count": 64,
   "metadata": {
    "collapsed": true
   },
   "outputs": [],
   "source": [
    "#Drop all the cylinder 3 and 5 data because we don't have enough of them to make good prediction for them\n",
    "cy5 = auto_mpg_df[auto_mpg_df['Cylinders'] == 5]\n",
    "cy3 = auto_mpg_df[auto_mpg_df['Cylinders'] == 3]\n",
    "#my71 = auto_mpg_df[auto_mpg_df['Model_Year'] == 71]\n",
    "cytodrop = pd.concat([cy3, cy5])\n",
    "cyindex = cytodrop.index.values\n",
    "auto_mpg_df = auto_mpg_df.drop(cyindex)"
   ]
  },
  {
   "cell_type": "code",
   "execution_count": 65,
   "metadata": {},
   "outputs": [
    {
     "data": {
      "text/html": [
       "<div>\n",
       "<style>\n",
       "    .dataframe thead tr:only-child th {\n",
       "        text-align: right;\n",
       "    }\n",
       "\n",
       "    .dataframe thead th {\n",
       "        text-align: left;\n",
       "    }\n",
       "\n",
       "    .dataframe tbody tr th {\n",
       "        vertical-align: top;\n",
       "    }\n",
       "</style>\n",
       "<table border=\"1\" class=\"dataframe\">\n",
       "  <thead>\n",
       "    <tr style=\"text-align: right;\">\n",
       "      <th></th>\n",
       "      <th>Cylinders</th>\n",
       "      <th>Displacement</th>\n",
       "      <th>horsepower</th>\n",
       "      <th>Weight</th>\n",
       "      <th>Acceleration</th>\n",
       "      <th>Origin</th>\n",
       "    </tr>\n",
       "  </thead>\n",
       "  <tbody>\n",
       "    <tr>\n",
       "      <th>0</th>\n",
       "      <td>8</td>\n",
       "      <td>5.726848</td>\n",
       "      <td>130.0</td>\n",
       "      <td>8.161660</td>\n",
       "      <td>12.0</td>\n",
       "      <td>1</td>\n",
       "    </tr>\n",
       "    <tr>\n",
       "      <th>1</th>\n",
       "      <td>8</td>\n",
       "      <td>5.857933</td>\n",
       "      <td>165.0</td>\n",
       "      <td>8.214194</td>\n",
       "      <td>11.5</td>\n",
       "      <td>1</td>\n",
       "    </tr>\n",
       "    <tr>\n",
       "      <th>2</th>\n",
       "      <td>8</td>\n",
       "      <td>5.762051</td>\n",
       "      <td>150.0</td>\n",
       "      <td>8.142063</td>\n",
       "      <td>11.0</td>\n",
       "      <td>1</td>\n",
       "    </tr>\n",
       "    <tr>\n",
       "      <th>3</th>\n",
       "      <td>8</td>\n",
       "      <td>5.717028</td>\n",
       "      <td>150.0</td>\n",
       "      <td>8.141190</td>\n",
       "      <td>12.0</td>\n",
       "      <td>1</td>\n",
       "    </tr>\n",
       "    <tr>\n",
       "      <th>4</th>\n",
       "      <td>8</td>\n",
       "      <td>5.710427</td>\n",
       "      <td>140.0</td>\n",
       "      <td>8.145840</td>\n",
       "      <td>10.5</td>\n",
       "      <td>1</td>\n",
       "    </tr>\n",
       "  </tbody>\n",
       "</table>\n",
       "</div>"
      ],
      "text/plain": [
       "   Cylinders  Displacement  horsepower    Weight  Acceleration  Origin\n",
       "0          8      5.726848       130.0  8.161660          12.0       1\n",
       "1          8      5.857933       165.0  8.214194          11.5       1\n",
       "2          8      5.762051       150.0  8.142063          11.0       1\n",
       "3          8      5.717028       150.0  8.141190          12.0       1\n",
       "4          8      5.710427       140.0  8.145840          10.5       1"
      ]
     },
     "execution_count": 65,
     "metadata": {},
     "output_type": "execute_result"
    }
   ],
   "source": [
    "X_noDummie = auto_mpg_df.drop(['MPG', 'Car Name', 'Model_Year'], 1)\n",
    "y_noDummie = auto_mpg_df['MPG']\n",
    "\n",
    "X_train, X_test, y_train, y_test = train_test_split(X_noDummie, y_noDummie, test_size=0.2, random_state=20)\n",
    "X_noDummie.head()"
   ]
  },
  {
   "cell_type": "code",
   "execution_count": 66,
   "metadata": {},
   "outputs": [
    {
     "name": "stdout",
     "output_type": "stream",
     "text": [
      "0.799734571721\n",
      "Cross Validation\n",
      "[ 0.6094151   0.73173631  0.78240156  0.82155156  0.57170189]\n"
     ]
    }
   ],
   "source": [
    "ridgeregr = linear_model.Ridge(alpha=100, fit_intercept=True)\n",
    "\n",
    "ridgeregr.fit(X_train, y_train)\n",
    "print(ridgeregr.score(X_test, y_test))\n",
    "print('Cross Validation')\n",
    "print(cross_val_score(ridgeregr, X_test, y_test, cv=5))"
   ]
  },
  {
   "cell_type": "code",
   "execution_count": 67,
   "metadata": {},
   "outputs": [
    {
     "data": {
      "image/png": "[encoded data removed]",
      "text/plain": [
       "<matplotlib.figure.Figure at 0x199f44c6898>"
      ]
     },
     "metadata": {},
     "output_type": "display_data"
    }
   ],
   "source": [
    "# Extract predicted values.\n",
    "predicted = ridgeregr.predict(X_noDummie).ravel()\n",
    "actual = y_noDummie\n",
    "\n",
    "# Calculate the error, also called the residual.\n",
    "residual = actual - predicted\n",
    "\n",
    "# This looks a bit concerning.\n",
    "plt.hist(residual)\n",
    "plt.title('Residual counts')\n",
    "plt.xlabel('Residual')\n",
    "plt.ylabel('Count')\n",
    "plt.show()"
   ]
  },
  {
   "cell_type": "code",
   "execution_count": 68,
   "metadata": {},
   "outputs": [
    {
     "data": {
      "image/png": "[encoded data removed]",
      "text/plain": [
       "<matplotlib.figure.Figure at 0x199f44bfac8>"
      ]
     },
     "metadata": {},
     "output_type": "display_data"
    }
   ],
   "source": [
    "plt.scatter(predicted, residual)\n",
    "plt.xlabel('Predicted')\n",
    "plt.ylabel('Residual')\n",
    "plt.axhline(y=0)\n",
    "plt.title('Residual vs. Predicted')\n",
    "plt.show()"
   ]
  },
  {
   "cell_type": "code",
   "execution_count": 69,
   "metadata": {},
   "outputs": [
    {
     "data": {
      "text/html": [
       "<div>\n",
       "<style>\n",
       "    .dataframe thead tr:only-child th {\n",
       "        text-align: right;\n",
       "    }\n",
       "\n",
       "    .dataframe thead th {\n",
       "        text-align: left;\n",
       "    }\n",
       "\n",
       "    .dataframe tbody tr th {\n",
       "        vertical-align: top;\n",
       "    }\n",
       "</style>\n",
       "<table border=\"1\" class=\"dataframe\">\n",
       "  <thead>\n",
       "    <tr style=\"text-align: right;\">\n",
       "      <th></th>\n",
       "      <th>MPG</th>\n",
       "      <th>Displacement</th>\n",
       "      <th>horsepower</th>\n",
       "      <th>Weight</th>\n",
       "      <th>Acceleration</th>\n",
       "      <th>Model_Year</th>\n",
       "      <th>4</th>\n",
       "      <th>6</th>\n",
       "      <th>8</th>\n",
       "      <th>1</th>\n",
       "      <th>2</th>\n",
       "      <th>3</th>\n",
       "    </tr>\n",
       "  </thead>\n",
       "  <tbody>\n",
       "    <tr>\n",
       "      <th>0</th>\n",
       "      <td>2.890372</td>\n",
       "      <td>5.726848</td>\n",
       "      <td>130.0</td>\n",
       "      <td>8.161660</td>\n",
       "      <td>12.0</td>\n",
       "      <td>70</td>\n",
       "      <td>0</td>\n",
       "      <td>0</td>\n",
       "      <td>1</td>\n",
       "      <td>1</td>\n",
       "      <td>0</td>\n",
       "      <td>0</td>\n",
       "    </tr>\n",
       "    <tr>\n",
       "      <th>1</th>\n",
       "      <td>2.708050</td>\n",
       "      <td>5.857933</td>\n",
       "      <td>165.0</td>\n",
       "      <td>8.214194</td>\n",
       "      <td>11.5</td>\n",
       "      <td>70</td>\n",
       "      <td>0</td>\n",
       "      <td>0</td>\n",
       "      <td>1</td>\n",
       "      <td>1</td>\n",
       "      <td>0</td>\n",
       "      <td>0</td>\n",
       "    </tr>\n",
       "    <tr>\n",
       "      <th>2</th>\n",
       "      <td>2.890372</td>\n",
       "      <td>5.762051</td>\n",
       "      <td>150.0</td>\n",
       "      <td>8.142063</td>\n",
       "      <td>11.0</td>\n",
       "      <td>70</td>\n",
       "      <td>0</td>\n",
       "      <td>0</td>\n",
       "      <td>1</td>\n",
       "      <td>1</td>\n",
       "      <td>0</td>\n",
       "      <td>0</td>\n",
       "    </tr>\n",
       "    <tr>\n",
       "      <th>3</th>\n",
       "      <td>2.772589</td>\n",
       "      <td>5.717028</td>\n",
       "      <td>150.0</td>\n",
       "      <td>8.141190</td>\n",
       "      <td>12.0</td>\n",
       "      <td>70</td>\n",
       "      <td>0</td>\n",
       "      <td>0</td>\n",
       "      <td>1</td>\n",
       "      <td>1</td>\n",
       "      <td>0</td>\n",
       "      <td>0</td>\n",
       "    </tr>\n",
       "    <tr>\n",
       "      <th>4</th>\n",
       "      <td>2.833213</td>\n",
       "      <td>5.710427</td>\n",
       "      <td>140.0</td>\n",
       "      <td>8.145840</td>\n",
       "      <td>10.5</td>\n",
       "      <td>70</td>\n",
       "      <td>0</td>\n",
       "      <td>0</td>\n",
       "      <td>1</td>\n",
       "      <td>1</td>\n",
       "      <td>0</td>\n",
       "      <td>0</td>\n",
       "    </tr>\n",
       "  </tbody>\n",
       "</table>\n",
       "</div>"
      ],
      "text/plain": [
       "        MPG  Displacement  horsepower    Weight  Acceleration  Model_Year  4  \\\n",
       "0  2.890372      5.726848       130.0  8.161660          12.0          70  0   \n",
       "1  2.708050      5.857933       165.0  8.214194          11.5          70  0   \n",
       "2  2.890372      5.762051       150.0  8.142063          11.0          70  0   \n",
       "3  2.772589      5.717028       150.0  8.141190          12.0          70  0   \n",
       "4  2.833213      5.710427       140.0  8.145840          10.5          70  0   \n",
       "\n",
       "   6  8  1  2  3  \n",
       "0  0  1  1  0  0  \n",
       "1  0  1  1  0  0  \n",
       "2  0  1  1  0  0  \n",
       "3  0  1  1  0  0  \n",
       "4  0  1  1  0  0  "
      ]
     },
     "execution_count": 69,
     "metadata": {},
     "output_type": "execute_result"
    }
   ],
   "source": [
    "# Create a set of dummy variables from the sex variable\n",
    "df_Cylinders = pd.get_dummies(auto_mpg_df['Cylinders'])\n",
    "#df_Model_Year = pd.get_dummies(auto_mpg_df['Model_Year'])\n",
    "df_Origin = pd.get_dummies(auto_mpg_df['Origin'])\n",
    "\n",
    "# Join the dummy variables to the main dataframe\n",
    "auto_mpg_df = pd.concat([auto_mpg_df, df_Cylinders, df_Origin], axis=1)\n",
    "auto_mpg_df = auto_mpg_df.drop(['Cylinders', 'Origin'], 1).drop('Car Name', 1)\n",
    "auto_mpg_df.head()"
   ]
  },
  {
   "cell_type": "code",
   "execution_count": 78,
   "metadata": {
    "collapsed": true
   },
   "outputs": [],
   "source": [
    "X = auto_mpg_df.drop('MPG', 1)\n",
    "y = auto_mpg_df['MPG']\n",
    "\n",
    "X_train2, X_test2, y_train2, y_test2 = train_test_split(X, y, test_size=0.2, random_state=20)"
   ]
  },
  {
   "cell_type": "code",
   "execution_count": 79,
   "metadata": {},
   "outputs": [
    {
     "name": "stdout",
     "output_type": "stream",
     "text": [
      "0.885153434901\n",
      "Cross Validation\n",
      "[ 0.86456469  0.87723342  0.87696728  0.87786842  0.88461137]\n"
     ]
    }
   ],
   "source": [
    "ridgeregr = linear_model.Ridge(alpha=5, fit_intercept=True)\n",
    "\n",
    "ridgeregr.fit(X_train2, y_train2)\n",
    "print(ridgeregr.score(X_test2, y_test2))\n",
    "print('Cross Validation')\n",
    "print(cross_val_score(ridgeregr, X_train2, y_train2, cv=5))"
   ]
  },
  {
   "cell_type": "code",
   "execution_count": 80,
   "metadata": {},
   "outputs": [
    {
     "data": {
      "image/png": "[encoded data removed]",
      "text/plain": [
       "<matplotlib.figure.Figure at 0x199f3789390>"
      ]
     },
     "metadata": {},
     "output_type": "display_data"
    }
   ],
   "source": [
    "# Extract predicted values.\n",
    "predicted = ridgeregr.predict(X).ravel()\n",
    "actual = y\n",
    "\n",
    "# Calculate the error, also called the residual.\n",
    "residual = actual - predicted\n",
    "\n",
    "# This looks a bit concerning.\n",
    "plt.hist(residual)\n",
    "plt.title('Residual counts')\n",
    "plt.xlabel('Residual')\n",
    "plt.ylabel('Count')\n",
    "plt.show()"
   ]
  },
  {
   "cell_type": "code",
   "execution_count": 81,
   "metadata": {},
   "outputs": [
    {
     "data": {
      "image/png": "[encoded data removed]",
      "text/plain": [
       "<matplotlib.figure.Figure at 0x199f3633358>"
      ]
     },
     "metadata": {},
     "output_type": "display_data"
    }
   ],
   "source": [
    "plt.scatter(predicted, residual)\n",
    "plt.xlabel('Predicted')\n",
    "plt.ylabel('Residual')\n",
    "plt.axhline(y=0)\n",
    "plt.title('Residual vs. Predicted')\n",
    "plt.show()"
   ]
  },
  {
   "cell_type": "code",
   "execution_count": 27,
   "metadata": {},
   "outputs": [
    {
     "data": {
      "text/html": [
       "<div>\n",
       "<style>\n",
       "    .dataframe thead tr:only-child th {\n",
       "        text-align: right;\n",
       "    }\n",
       "\n",
       "    .dataframe thead th {\n",
       "        text-align: left;\n",
       "    }\n",
       "\n",
       "    .dataframe tbody tr th {\n",
       "        vertical-align: top;\n",
       "    }\n",
       "</style>\n",
       "<table border=\"1\" class=\"dataframe\">\n",
       "  <thead>\n",
       "    <tr style=\"text-align: right;\">\n",
       "      <th></th>\n",
       "      <th>0</th>\n",
       "      <th>1</th>\n",
       "      <th>2</th>\n",
       "      <th>3</th>\n",
       "      <th>4</th>\n",
       "      <th>5</th>\n",
       "      <th>6</th>\n",
       "    </tr>\n",
       "  </thead>\n",
       "  <tbody>\n",
       "    <tr>\n",
       "      <th>0</th>\n",
       "      <td>2.968557</td>\n",
       "      <td>-1.262797</td>\n",
       "      <td>0.097765</td>\n",
       "      <td>0.352749</td>\n",
       "      <td>0.845260</td>\n",
       "      <td>-0.095004</td>\n",
       "      <td>0.688005</td>\n",
       "    </tr>\n",
       "    <tr>\n",
       "      <th>1</th>\n",
       "      <td>3.453872</td>\n",
       "      <td>-1.449451</td>\n",
       "      <td>0.051880</td>\n",
       "      <td>0.450327</td>\n",
       "      <td>0.636303</td>\n",
       "      <td>-0.175649</td>\n",
       "      <td>0.259570</td>\n",
       "    </tr>\n",
       "    <tr>\n",
       "      <th>2</th>\n",
       "      <td>3.219144</td>\n",
       "      <td>-1.473614</td>\n",
       "      <td>0.029039</td>\n",
       "      <td>0.450001</td>\n",
       "      <td>0.720076</td>\n",
       "      <td>-0.415737</td>\n",
       "      <td>0.541763</td>\n",
       "    </tr>\n",
       "    <tr>\n",
       "      <th>3</th>\n",
       "      <td>3.092045</td>\n",
       "      <td>-1.344239</td>\n",
       "      <td>0.078741</td>\n",
       "      <td>0.395156</td>\n",
       "      <td>0.793716</td>\n",
       "      <td>-0.136375</td>\n",
       "      <td>0.504239</td>\n",
       "    </tr>\n",
       "    <tr>\n",
       "      <th>4</th>\n",
       "      <td>3.152929</td>\n",
       "      <td>-1.504458</td>\n",
       "      <td>0.013670</td>\n",
       "      <td>0.455169</td>\n",
       "      <td>0.728408</td>\n",
       "      <td>-0.562918</td>\n",
       "      <td>0.661547</td>\n",
       "    </tr>\n",
       "  </tbody>\n",
       "</table>\n",
       "</div>"
      ],
      "text/plain": [
       "          0         1         2         3         4         5         6\n",
       "0  2.968557 -1.262797  0.097765  0.352749  0.845260 -0.095004  0.688005\n",
       "1  3.453872 -1.449451  0.051880  0.450327  0.636303 -0.175649  0.259570\n",
       "2  3.219144 -1.473614  0.029039  0.450001  0.720076 -0.415737  0.541763\n",
       "3  3.092045 -1.344239  0.078741  0.395156  0.793716 -0.136375  0.504239\n",
       "4  3.152929 -1.504458  0.013670  0.455169  0.728408 -0.562918  0.661547"
      ]
     },
     "execution_count": 27,
     "metadata": {},
     "output_type": "execute_result"
    }
   ],
   "source": [
    "# ###### High multi-corrilation, applying PCA\n",
    "# Standardizing the features\n",
    "X_pca = auto_mpg_df.drop('MPG', 1)\n",
    "X_pca = pd.DataFrame(StandardScaler().fit_transform(X_pca))\n",
    "\n",
    "pca = PCA(n_components=0.99, svd_solver='full')\n",
    "principalComponents = pca.fit_transform(X_pca)\n",
    "principalDf = pd.DataFrame(data = principalComponents)\n",
    "#principalDf.columns = ['zero','one', 'two', 'three', 'four', 'five', 'six', 'seven', 'eight', 'nine', 'ten', 'eleven', 'twelve', 'thirteen', 'fourteen', 'fifteen']\n",
    "#principalDf['MPG'] = auto_mpg_df['MPG']\n",
    "principalDf.head()"
   ]
  },
  {
   "cell_type": "code",
   "execution_count": 28,
   "metadata": {
    "collapsed": true
   },
   "outputs": [],
   "source": [
    "X_cpa = principalDf\n",
    "y_cpa = auto_mpg_df['MPG']\n",
    "\n",
    "X_train3, X_test3, y_train3, y_test3 = train_test_split(X_cpa, y_cpa, test_size=0.2)"
   ]
  },
  {
   "cell_type": "code",
   "execution_count": 29,
   "metadata": {},
   "outputs": [
    {
     "name": "stdout",
     "output_type": "stream",
     "text": [
      "0.887174039178\n",
      "Cross Validation\n",
      "[ 0.91473761  0.83233533  0.90103027  0.84368367  0.79995858]\n"
     ]
    }
   ],
   "source": [
    "ridgeregr3 = linear_model.Ridge(alpha=10, fit_intercept=True)\n",
    "\n",
    "ridgeregr3.fit(X_train3, y_train3)\n",
    "print(ridgeregr3.score(X_test3, y_test3))\n",
    "print('Cross Validation')\n",
    "print(cross_val_score(ridgeregr3, X_test3, y_test3, cv=5))"
   ]
  },
  {
   "cell_type": "code",
   "execution_count": 30,
   "metadata": {},
   "outputs": [
    {
     "ename": "ValueError",
     "evalue": "shapes (385,7) and (11,) not aligned: 7 (dim 1) != 11 (dim 0)",
     "output_type": "error",
     "traceback": [
      "\u001b[1;31m---------------------------------------------------------------------------\u001b[0m",
      "\u001b[1;31mValueError\u001b[0m                                Traceback (most recent call last)",
      "\u001b[1;32m<ipython-input-30-f6f5803f14c1>\u001b[0m in \u001b[0;36m<module>\u001b[1;34m()\u001b[0m\n\u001b[0;32m      1\u001b[0m \u001b[1;31m# Extract predicted values.\u001b[0m\u001b[1;33m\u001b[0m\u001b[1;33m\u001b[0m\u001b[0m\n\u001b[1;32m----> 2\u001b[1;33m \u001b[0mpredicted\u001b[0m \u001b[1;33m=\u001b[0m \u001b[0mridgeregr\u001b[0m\u001b[1;33m.\u001b[0m\u001b[0mpredict\u001b[0m\u001b[1;33m(\u001b[0m\u001b[0mX_cpa\u001b[0m\u001b[1;33m)\u001b[0m\u001b[1;33m.\u001b[0m\u001b[0mravel\u001b[0m\u001b[1;33m(\u001b[0m\u001b[1;33m)\u001b[0m\u001b[1;33m\u001b[0m\u001b[0m\n\u001b[0m\u001b[0;32m      3\u001b[0m \u001b[0mactual\u001b[0m \u001b[1;33m=\u001b[0m \u001b[0my_cpa\u001b[0m\u001b[1;33m\u001b[0m\u001b[0m\n\u001b[0;32m      4\u001b[0m \u001b[1;33m\u001b[0m\u001b[0m\n\u001b[0;32m      5\u001b[0m \u001b[1;31m# Calculate the error, also called the residual.\u001b[0m\u001b[1;33m\u001b[0m\u001b[1;33m\u001b[0m\u001b[0m\n",
      "\u001b[1;32m~\\Anaconda3\\lib\\site-packages\\sklearn\\linear_model\\base.py\u001b[0m in \u001b[0;36mpredict\u001b[1;34m(self, X)\u001b[0m\n\u001b[0;32m    254\u001b[0m             \u001b[0mReturns\u001b[0m \u001b[0mpredicted\u001b[0m \u001b[0mvalues\u001b[0m\u001b[1;33m.\u001b[0m\u001b[1;33m\u001b[0m\u001b[0m\n\u001b[0;32m    255\u001b[0m         \"\"\"\n\u001b[1;32m--> 256\u001b[1;33m         \u001b[1;32mreturn\u001b[0m \u001b[0mself\u001b[0m\u001b[1;33m.\u001b[0m\u001b[0m_decision_function\u001b[0m\u001b[1;33m(\u001b[0m\u001b[0mX\u001b[0m\u001b[1;33m)\u001b[0m\u001b[1;33m\u001b[0m\u001b[0m\n\u001b[0m\u001b[0;32m    257\u001b[0m \u001b[1;33m\u001b[0m\u001b[0m\n\u001b[0;32m    258\u001b[0m     \u001b[0m_preprocess_data\u001b[0m \u001b[1;33m=\u001b[0m \u001b[0mstaticmethod\u001b[0m\u001b[1;33m(\u001b[0m\u001b[0m_preprocess_data\u001b[0m\u001b[1;33m)\u001b[0m\u001b[1;33m\u001b[0m\u001b[0m\n",
      "\u001b[1;32m~\\Anaconda3\\lib\\site-packages\\sklearn\\linear_model\\base.py\u001b[0m in \u001b[0;36m_decision_function\u001b[1;34m(self, X)\u001b[0m\n\u001b[0;32m    239\u001b[0m         \u001b[0mX\u001b[0m \u001b[1;33m=\u001b[0m \u001b[0mcheck_array\u001b[0m\u001b[1;33m(\u001b[0m\u001b[0mX\u001b[0m\u001b[1;33m,\u001b[0m \u001b[0maccept_sparse\u001b[0m\u001b[1;33m=\u001b[0m\u001b[1;33m[\u001b[0m\u001b[1;34m'csr'\u001b[0m\u001b[1;33m,\u001b[0m \u001b[1;34m'csc'\u001b[0m\u001b[1;33m,\u001b[0m \u001b[1;34m'coo'\u001b[0m\u001b[1;33m]\u001b[0m\u001b[1;33m)\u001b[0m\u001b[1;33m\u001b[0m\u001b[0m\n\u001b[0;32m    240\u001b[0m         return safe_sparse_dot(X, self.coef_.T,\n\u001b[1;32m--> 241\u001b[1;33m                                dense_output=True) + self.intercept_\n\u001b[0m\u001b[0;32m    242\u001b[0m \u001b[1;33m\u001b[0m\u001b[0m\n\u001b[0;32m    243\u001b[0m     \u001b[1;32mdef\u001b[0m \u001b[0mpredict\u001b[0m\u001b[1;33m(\u001b[0m\u001b[0mself\u001b[0m\u001b[1;33m,\u001b[0m \u001b[0mX\u001b[0m\u001b[1;33m)\u001b[0m\u001b[1;33m:\u001b[0m\u001b[1;33m\u001b[0m\u001b[0m\n",
      "\u001b[1;32m~\\Anaconda3\\lib\\site-packages\\sklearn\\utils\\extmath.py\u001b[0m in \u001b[0;36msafe_sparse_dot\u001b[1;34m(a, b, dense_output)\u001b[0m\n\u001b[0;32m    138\u001b[0m         \u001b[1;32mreturn\u001b[0m \u001b[0mret\u001b[0m\u001b[1;33m\u001b[0m\u001b[0m\n\u001b[0;32m    139\u001b[0m     \u001b[1;32melse\u001b[0m\u001b[1;33m:\u001b[0m\u001b[1;33m\u001b[0m\u001b[0m\n\u001b[1;32m--> 140\u001b[1;33m         \u001b[1;32mreturn\u001b[0m \u001b[0mnp\u001b[0m\u001b[1;33m.\u001b[0m\u001b[0mdot\u001b[0m\u001b[1;33m(\u001b[0m\u001b[0ma\u001b[0m\u001b[1;33m,\u001b[0m \u001b[0mb\u001b[0m\u001b[1;33m)\u001b[0m\u001b[1;33m\u001b[0m\u001b[0m\n\u001b[0m\u001b[0;32m    141\u001b[0m \u001b[1;33m\u001b[0m\u001b[0m\n\u001b[0;32m    142\u001b[0m \u001b[1;33m\u001b[0m\u001b[0m\n",
      "\u001b[1;31mValueError\u001b[0m: shapes (385,7) and (11,) not aligned: 7 (dim 1) != 11 (dim 0)"
     ]
    }
   ],
   "source": [
    "# Extract predicted values.\n",
    "predicted = ridgeregr.predict(X_cpa).ravel()\n",
    "actual = y_cpa\n",
    "\n",
    "# Calculate the error, also called the residual.\n",
    "residual = actual - predicted\n",
    "\n",
    "# This looks a bit concerning.\n",
    "plt.hist(residual)\n",
    "plt.title('Residual counts')\n",
    "plt.xlabel('Residual')\n",
    "plt.ylabel('Count')\n",
    "plt.show()"
   ]
  },
  {
   "cell_type": "code",
   "execution_count": 208,
   "metadata": {},
   "outputs": [
    {
     "data": {
      "image/png": "[encoded data removed]",
      "text/plain": [
       "<matplotlib.figure.Figure at 0x18fceea02e8>"
      ]
     },
     "metadata": {},
     "output_type": "display_data"
    }
   ],
   "source": [
    "plt.scatter(predicted, residual)\n",
    "plt.xlabel('Predicted')\n",
    "plt.ylabel('Residual')\n",
    "plt.axhline(y=0)\n",
    "plt.title('Residual vs. Predicted')\n",
    "plt.show()"
   ]
  },
  {
   "cell_type": "code",
   "execution_count": null,
   "metadata": {
    "collapsed": true
   },
   "outputs": [],
   "source": []
  }
 ],
 "metadata": {
  "kernelspec": {
   "display_name": "Python 3",
   "language": "python",
   "name": "python3"
  },
  "language_info": {
   "codemirror_mode": {
    "name": "ipython",
    "version": 3
   },
   "file_extension": ".py",
   "mimetype": "text/x-python",
   "name": "python",
   "nbconvert_exporter": "python",
   "pygments_lexer": "ipython3",
   "version": "3.6.3"
  }
 },
 "nbformat": 4,
 "nbformat_minor": 2
}
