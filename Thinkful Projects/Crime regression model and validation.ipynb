{
 "cells": [
  {
   "cell_type": "code",
   "execution_count": 116,
   "metadata": {},
   "outputs": [],
   "source": [
    "import numpy as np\n",
    "import pandas as pd\n",
    "import math\n",
    "import matplotlib.pyplot as plt\n",
    "from sklearn import linear_model\n",
    "from sklearn.model_selection import cross_val_score\n",
    "from sklearn.model_selection import train_test_split"
   ]
  },
  {
   "cell_type": "code",
   "execution_count": 99,
   "metadata": {},
   "outputs": [
    {
     "data": {
      "text/html": [
       "<div>\n",
       "<style>\n",
       "    .dataframe thead tr:only-child th {\n",
       "        text-align: right;\n",
       "    }\n",
       "\n",
       "    .dataframe thead th {\n",
       "        text-align: left;\n",
       "    }\n",
       "\n",
       "    .dataframe tbody tr th {\n",
       "        vertical-align: top;\n",
       "    }\n",
       "</style>\n",
       "<table border=\"1\" class=\"dataframe\">\n",
       "  <thead>\n",
       "    <tr style=\"text-align: right;\">\n",
       "      <th></th>\n",
       "      <th>City</th>\n",
       "      <th>Population</th>\n",
       "      <th>Violent\n",
       "crime</th>\n",
       "      <th>Murder and\n",
       "nonnegligent\n",
       "manslaughter</th>\n",
       "      <th>Rape\n",
       "(revised\n",
       "definition)1</th>\n",
       "      <th>Rape\n",
       "(legacy\n",
       "definition)2</th>\n",
       "      <th>Robbery</th>\n",
       "      <th>Aggravated\n",
       "assault</th>\n",
       "      <th>Property\n",
       "crime</th>\n",
       "      <th>Burglary</th>\n",
       "      <th>Larceny-\n",
       "theft</th>\n",
       "      <th>Motor\n",
       "vehicle\n",
       "theft</th>\n",
       "      <th>Arson3</th>\n",
       "    </tr>\n",
       "  </thead>\n",
       "  <tbody>\n",
       "    <tr>\n",
       "      <th>0</th>\n",
       "      <td>Adams Village</td>\n",
       "      <td>1,861</td>\n",
       "      <td>0</td>\n",
       "      <td>0.0</td>\n",
       "      <td>0.0</td>\n",
       "      <td>0</td>\n",
       "      <td>0</td>\n",
       "      <td>0</td>\n",
       "      <td>12</td>\n",
       "      <td>2</td>\n",
       "      <td>10</td>\n",
       "      <td>0</td>\n",
       "      <td>0.0</td>\n",
       "    </tr>\n",
       "    <tr>\n",
       "      <th>1</th>\n",
       "      <td>Addison Town and Village</td>\n",
       "      <td>2,577</td>\n",
       "      <td>3</td>\n",
       "      <td>0.0</td>\n",
       "      <td>0.0</td>\n",
       "      <td>0</td>\n",
       "      <td>0</td>\n",
       "      <td>3</td>\n",
       "      <td>24</td>\n",
       "      <td>3</td>\n",
       "      <td>20</td>\n",
       "      <td>1</td>\n",
       "      <td>0.0</td>\n",
       "    </tr>\n",
       "    <tr>\n",
       "      <th>2</th>\n",
       "      <td>Akron Village</td>\n",
       "      <td>2,846</td>\n",
       "      <td>3</td>\n",
       "      <td>0.0</td>\n",
       "      <td>0.0</td>\n",
       "      <td>0</td>\n",
       "      <td>0</td>\n",
       "      <td>3</td>\n",
       "      <td>16</td>\n",
       "      <td>1</td>\n",
       "      <td>15</td>\n",
       "      <td>0</td>\n",
       "      <td>0.0</td>\n",
       "    </tr>\n",
       "    <tr>\n",
       "      <th>3</th>\n",
       "      <td>Albany</td>\n",
       "      <td>97,956</td>\n",
       "      <td>791</td>\n",
       "      <td>8.0</td>\n",
       "      <td>0.0</td>\n",
       "      <td>30</td>\n",
       "      <td>227</td>\n",
       "      <td>526</td>\n",
       "      <td>4,090</td>\n",
       "      <td>705</td>\n",
       "      <td>3,243</td>\n",
       "      <td>142</td>\n",
       "      <td>0.0</td>\n",
       "    </tr>\n",
       "    <tr>\n",
       "      <th>4</th>\n",
       "      <td>Albion Village</td>\n",
       "      <td>6,388</td>\n",
       "      <td>23</td>\n",
       "      <td>0.0</td>\n",
       "      <td>0.0</td>\n",
       "      <td>3</td>\n",
       "      <td>4</td>\n",
       "      <td>16</td>\n",
       "      <td>223</td>\n",
       "      <td>53</td>\n",
       "      <td>165</td>\n",
       "      <td>5</td>\n",
       "      <td>0.0</td>\n",
       "    </tr>\n",
       "  </tbody>\n",
       "</table>\n",
       "</div>"
      ],
      "text/plain": [
       "                       City Population Violent\\ncrime  \\\n",
       "0             Adams Village      1,861              0   \n",
       "1  Addison Town and Village      2,577              3   \n",
       "2             Akron Village      2,846              3   \n",
       "3                    Albany     97,956            791   \n",
       "4            Albion Village      6,388             23   \n",
       "\n",
       "   Murder and\\nnonnegligent\\nmanslaughter  Rape\\n(revised\\ndefinition)1  \\\n",
       "0                                     0.0                           0.0   \n",
       "1                                     0.0                           0.0   \n",
       "2                                     0.0                           0.0   \n",
       "3                                     8.0                           0.0   \n",
       "4                                     0.0                           0.0   \n",
       "\n",
       "  Rape\\n(legacy\\ndefinition)2 Robbery Aggravated\\nassault Property\\ncrime  \\\n",
       "0                           0       0                   0              12   \n",
       "1                           0       0                   3              24   \n",
       "2                           0       0                   3              16   \n",
       "3                          30     227                 526           4,090   \n",
       "4                           3       4                  16             223   \n",
       "\n",
       "  Burglary Larceny-\\ntheft Motor\\nvehicle\\ntheft  Arson3  \n",
       "0        2              10                     0     0.0  \n",
       "1        3              20                     1     0.0  \n",
       "2        1              15                     0     0.0  \n",
       "3      705           3,243                   142     0.0  \n",
       "4       53             165                     5     0.0  "
      ]
     },
     "execution_count": 99,
     "metadata": {},
     "output_type": "execute_result"
    }
   ],
   "source": [
    "NYcrimeDf = pd.read_csv('NEW_YORK-Offenses_Known_to_Law_Enforcement_by_City_2013 - 13tbl8ny.csv', skiprows=4).fillna(0)\n",
    "NYcrimeDf.head()"
   ]
  },
  {
   "cell_type": "code",
   "execution_count": 100,
   "metadata": {},
   "outputs": [
    {
     "name": "stderr",
     "output_type": "stream",
     "text": [
      "C:\\Users\\ktser\\Anaconda3\\lib\\site-packages\\ipykernel_launcher.py:40: RuntimeWarning: divide by zero encountered in log\n"
     ]
    },
    {
     "data": {
      "text/html": [
       "<div>\n",
       "<style>\n",
       "    .dataframe thead tr:only-child th {\n",
       "        text-align: right;\n",
       "    }\n",
       "\n",
       "    .dataframe thead th {\n",
       "        text-align: left;\n",
       "    }\n",
       "\n",
       "    .dataframe tbody tr th {\n",
       "        vertical-align: top;\n",
       "    }\n",
       "</style>\n",
       "<table border=\"1\" class=\"dataframe\">\n",
       "  <thead>\n",
       "    <tr style=\"text-align: right;\">\n",
       "      <th></th>\n",
       "      <th>Population</th>\n",
       "      <th>Population^2</th>\n",
       "      <th>Murder</th>\n",
       "      <th>Robbery</th>\n",
       "      <th>Property crime</th>\n",
       "    </tr>\n",
       "  </thead>\n",
       "  <tbody>\n",
       "    <tr>\n",
       "      <th>0</th>\n",
       "      <td>2.562821</td>\n",
       "      <td>6.568052</td>\n",
       "      <td>0</td>\n",
       "      <td>0</td>\n",
       "      <td>2.484907</td>\n",
       "    </tr>\n",
       "    <tr>\n",
       "      <th>1</th>\n",
       "      <td>2.669250</td>\n",
       "      <td>7.124897</td>\n",
       "      <td>0</td>\n",
       "      <td>0</td>\n",
       "      <td>3.178054</td>\n",
       "    </tr>\n",
       "    <tr>\n",
       "      <th>2</th>\n",
       "      <td>2.702585</td>\n",
       "      <td>7.303966</td>\n",
       "      <td>0</td>\n",
       "      <td>0</td>\n",
       "      <td>2.772589</td>\n",
       "    </tr>\n",
       "    <tr>\n",
       "      <th>3</th>\n",
       "      <td>4.206093</td>\n",
       "      <td>17.691219</td>\n",
       "      <td>1</td>\n",
       "      <td>1</td>\n",
       "      <td>8.316300</td>\n",
       "    </tr>\n",
       "    <tr>\n",
       "      <th>4</th>\n",
       "      <td>2.989996</td>\n",
       "      <td>8.940076</td>\n",
       "      <td>0</td>\n",
       "      <td>1</td>\n",
       "      <td>5.407172</td>\n",
       "    </tr>\n",
       "  </tbody>\n",
       "</table>\n",
       "</div>"
      ],
      "text/plain": [
       "   Population  Population^2  Murder  Robbery  Property crime\n",
       "0    2.562821      6.568052       0        0        2.484907\n",
       "1    2.669250      7.124897       0        0        3.178054\n",
       "2    2.702585      7.303966       0        0        2.772589\n",
       "3    4.206093     17.691219       1        1        8.316300\n",
       "4    2.989996      8.940076       0        1        5.407172"
      ]
     },
     "execution_count": 100,
     "metadata": {},
     "output_type": "execute_result"
    }
   ],
   "source": [
    "#Propertycrime = α + Population + Population2 + Murder + Robbery\n",
    "#creating features using above variables\n",
    "murder = 0\n",
    "\n",
    "population = []\n",
    "for x in NYcrimeDf['Population']:\n",
    "    pop = str(x).replace(',','')\n",
    "    population.append(int(pop))\n",
    "    \n",
    "Population = pd.DataFrame(population)\n",
    "multivarReg = pd.DataFrame()\n",
    "multivarReg['Population'] = Population[0]**(1/8)\n",
    "multivarReg['Population^2'] = multivarReg['Population']**2\n",
    "\n",
    "\n",
    "Murder_Cate = []\n",
    "for key in NYcrimeDf['Murder and\\nnonnegligent\\nmanslaughter']:\n",
    "    if key > 0:\n",
    "        Murder_Cate.append(1)\n",
    "    else:\n",
    "        Murder_Cate.append(0)\n",
    "\n",
    "multivarReg['Murder'] = Murder_Cate\n",
    "\n",
    "robbery = []\n",
    "for key in NYcrimeDf['Robbery']:\n",
    "    rob = int(str(key).replace(',',''))\n",
    "    \n",
    "    if rob > 0:\n",
    "        robbery.append(1)\n",
    "    else:\n",
    "        robbery.append(0)\n",
    "multivarReg['Robbery'] = robbery\n",
    "\n",
    "PropertyCrime = []\n",
    "for x in NYcrimeDf['Property\\ncrime']:\n",
    "    propCrime = str(x).replace(',','')\n",
    "    PropertyCrime.append(int(propCrime))\n",
    "\n",
    "PropertyCrime = pd.DataFrame(PropertyCrime)\n",
    "multivarReg['Property crime'] = np.log(PropertyCrime[0])\n",
    "\n",
    "multivarReg.head()"
   ]
  },
  {
   "cell_type": "code",
   "execution_count": 101,
   "metadata": {
    "collapsed": true
   },
   "outputs": [],
   "source": [
    "#Removing the values below because they are -infinity due to taking log of zero\n",
    "i = multivarReg[multivarReg['Property crime'] <= 0].index.tolist()\n",
    "i = i +[216, 346]\n",
    "\n",
    "multivarReg = multivarReg.drop(i)\n"
   ]
  },
  {
   "cell_type": "code",
   "execution_count": 102,
   "metadata": {},
   "outputs": [
    {
     "data": {
      "image/png": "[encoded data removed]",
      "text/plain": [
       "<matplotlib.figure.Figure at 0x2bbb0e1dc18>"
      ]
     },
     "metadata": {},
     "output_type": "display_data"
    }
   ],
   "source": [
    "#comparing the linear relation of population feature and the outcome\n",
    "#because model assumes linear relation\n",
    "plt.scatter(multivarReg['Population'],multivarReg['Property crime'])\n",
    "plt.axhline(y=0)\n",
    "plt.show()"
   ]
  },
  {
   "cell_type": "markdown",
   "metadata": {},
   "source": [
    "## Data modeling using sklearn"
   ]
  },
  {
   "cell_type": "code",
   "execution_count": 118,
   "metadata": {},
   "outputs": [
    {
     "name": "stdout",
     "output_type": "stream",
     "text": [
      "\n",
      "Coefficients: \n",
      " [[ 2.28378037  0.23499398  0.85698579]]\n",
      "\n",
      "Intercept: \n",
      " [-2.84319579]\n",
      "\n",
      "R-squared:\n",
      "0.810192051293\n"
     ]
    }
   ],
   "source": [
    "#the linear model\n",
    "regr = linear_model.LinearRegression()\n",
    "\n",
    "#Property crime, the outcome\n",
    "Y_train = multivarReg['Property crime'].values.reshape(-1, 1)\n",
    "\n",
    "#The independen variables, features\n",
    "X_train = multivarReg[['Population','Murder', 'Robbery']]\n",
    "\n",
    "model = regr.fit(X_train, Y_train)\n",
    "\n",
    "# Inspect the results.\n",
    "print('\\nCoefficients: \\n', regr.coef_)\n",
    "print('\\nIntercept: \\n', regr.intercept_)\n",
    "print('\\nR-squared:')\n",
    "print(regr.score(X_train, Y_train))\n"
   ]
  },
  {
   "cell_type": "code",
   "execution_count": 25,
   "metadata": {
    "collapsed": true
   },
   "outputs": [],
   "source": [
    "# multivariable normality\n",
    "# Extract predicted values.\n",
    "predicted = regr.predict(X).ravel()\n",
    "actual = multivarReg['Property crime']\n",
    "\n",
    "# Calculate the error, also called the residual.\n",
    "residual = actual - predicted\n"
   ]
  },
  {
   "cell_type": "code",
   "execution_count": 26,
   "metadata": {},
   "outputs": [
    {
     "data": {
      "image/png": "[encoded data removed]",
      "text/plain": [
       "<matplotlib.figure.Figure at 0x2bbb0615828>"
      ]
     },
     "metadata": {},
     "output_type": "display_data"
    }
   ],
   "source": [
    "#Showing normal distribution of residual (a.k.a. error)\n",
    "#Its improtant for the distribution to be normal, which means that each independent variables\n",
    "#contributes equaly to the outcome.\n",
    "plt.hist(residual)\n",
    "plt.title('residual counts')\n",
    "plt.xlabel('residual')\n",
    "plt.ylabel('Count')\n",
    "plt.show()"
   ]
  },
  {
   "cell_type": "code",
   "execution_count": 27,
   "metadata": {},
   "outputs": [
    {
     "data": {
      "image/png": "[encoded data removed]",
      "text/plain": [
       "<matplotlib.figure.Figure at 0x2bbb06367f0>"
      ]
     },
     "metadata": {},
     "output_type": "display_data"
    }
   ],
   "source": [
    "#Homoscedasticity\n",
    "#Scedastic, meaning distribution of your error, needs to be consistent for all the predicted values.\n",
    "#If not, that means different predicted outcomes have different errors and since confedance intervals\n",
    "#is calculated using mean error squared. It will be skewed one way or the other.\n",
    "plt.scatter(predicted, residual)\n",
    "plt.xlabel('Predicted')\n",
    "plt.ylabel('Residual')\n",
    "plt.axhline(y=0)\n",
    "plt.title('Residual vs. Predicted')\n",
    "plt.show()\n"
   ]
  },
  {
   "cell_type": "markdown",
   "metadata": {},
   "source": [
    "<p>For the above analysis, I used the Population, Murder, and Robbery as the variables.</p>\n",
    "\n",
    "<p>The initial analysis had high R^2, indicating high corrolation between input and output variables but the error did not have normal distribution and the error for outcome valuse varried greatly. This tell us that there are overfitting and the model is claming much higher accuracy than actualy is.</p>\n",
    "\n",
    "<p>The model assumes a linear relation between outcome and input variables and that is not true. Since Murder and Robbery were categorical variables, there was nothing much to be done to create linear relations with the outcome. For the population variable I took 1/8 power of variable and natural log of the outcome (Property crime) to create linear relation and removing some outliers.For this reason, it was not practical to include population squred feature in the model, it has opposit effect of an linear relation.</p>\n",
    "\n",
    "<p>After the transformation of the variables, the error distribution is normal, linear relation amongs the variables and the outcome, and the error variance is much lower and uniforme than initial analysis.</p>"
   ]
  },
  {
   "cell_type": "markdown",
   "metadata": {},
   "source": [
    "# Data modeling using Statsmodels"
   ]
  },
  {
   "cell_type": "code",
   "execution_count": 109,
   "metadata": {},
   "outputs": [
    {
     "name": "stderr",
     "output_type": "stream",
     "text": [
      "C:\\Users\\ktser\\Anaconda3\\lib\\site-packages\\statsmodels\\compat\\pandas.py:56: FutureWarning: The pandas.core.datetools module is deprecated and will be removed in a future version. Please use the pandas.tseries module instead.\n",
      "  from pandas.core import datetools\n"
     ]
    }
   ],
   "source": [
    "import statsmodels.api as sm"
   ]
  },
  {
   "cell_type": "code",
   "execution_count": 113,
   "metadata": {},
   "outputs": [
    {
     "data": {
      "text/html": [
       "<table class=\"simpletable\">\n",
       "<caption>OLS Regression Results</caption>\n",
       "<tr>\n",
       "  <th>Dep. Variable:</th>     <td>Property crime</td>  <th>  R-squared:         </th> <td>   0.810</td> \n",
       "</tr>\n",
       "<tr>\n",
       "  <th>Model:</th>                   <td>OLS</td>       <th>  Adj. R-squared:    </th> <td>   0.808</td> \n",
       "</tr>\n",
       "<tr>\n",
       "  <th>Method:</th>             <td>Least Squares</td>  <th>  F-statistic:       </th> <td>   473.8</td> \n",
       "</tr>\n",
       "<tr>\n",
       "  <th>Date:</th>             <td>Sat, 14 Jul 2018</td> <th>  Prob (F-statistic):</th> <td>9.08e-120</td>\n",
       "</tr>\n",
       "<tr>\n",
       "  <th>Time:</th>                 <td>21:05:57</td>     <th>  Log-Likelihood:    </th> <td> -339.17</td> \n",
       "</tr>\n",
       "<tr>\n",
       "  <th>No. Observations:</th>      <td>   337</td>      <th>  AIC:               </th> <td>   686.3</td> \n",
       "</tr>\n",
       "<tr>\n",
       "  <th>Df Residuals:</th>          <td>   333</td>      <th>  BIC:               </th> <td>   701.6</td> \n",
       "</tr>\n",
       "<tr>\n",
       "  <th>Df Model:</th>              <td>     3</td>      <th>                     </th>     <td> </td>    \n",
       "</tr>\n",
       "<tr>\n",
       "  <th>Covariance Type:</th>      <td>nonrobust</td>    <th>                     </th>     <td> </td>    \n",
       "</tr>\n",
       "</table>\n",
       "<table class=\"simpletable\">\n",
       "<tr>\n",
       "       <td></td>         <th>coef</th>     <th>std err</th>      <th>t</th>      <th>P>|t|</th>  <th>[0.025</th>    <th>0.975]</th>  \n",
       "</tr>\n",
       "<tr>\n",
       "  <th>const</th>      <td>   -2.8432</td> <td>    0.299</td> <td>   -9.497</td> <td> 0.000</td> <td>   -3.432</td> <td>   -2.254</td>\n",
       "</tr>\n",
       "<tr>\n",
       "  <th>Population</th> <td>    2.2838</td> <td>    0.106</td> <td>   21.551</td> <td> 0.000</td> <td>    2.075</td> <td>    2.492</td>\n",
       "</tr>\n",
       "<tr>\n",
       "  <th>Murder</th>     <td>    0.2350</td> <td>    0.121</td> <td>    1.944</td> <td> 0.053</td> <td>   -0.003</td> <td>    0.473</td>\n",
       "</tr>\n",
       "<tr>\n",
       "  <th>Robbery</th>    <td>    0.8570</td> <td>    0.090</td> <td>    9.472</td> <td> 0.000</td> <td>    0.679</td> <td>    1.035</td>\n",
       "</tr>\n",
       "</table>\n",
       "<table class=\"simpletable\">\n",
       "<tr>\n",
       "  <th>Omnibus:</th>       <td>10.878</td> <th>  Durbin-Watson:     </th> <td>   1.912</td>\n",
       "</tr>\n",
       "<tr>\n",
       "  <th>Prob(Omnibus):</th> <td> 0.004</td> <th>  Jarque-Bera (JB):  </th> <td>  10.996</td>\n",
       "</tr>\n",
       "<tr>\n",
       "  <th>Skew:</th>          <td>-0.424</td> <th>  Prob(JB):          </th> <td> 0.00409</td>\n",
       "</tr>\n",
       "<tr>\n",
       "  <th>Kurtosis:</th>      <td> 3.256</td> <th>  Cond. No.          </th> <td>    29.9</td>\n",
       "</tr>\n",
       "</table>"
      ],
      "text/plain": [
       "<class 'statsmodels.iolib.summary.Summary'>\n",
       "\"\"\"\n",
       "                            OLS Regression Results                            \n",
       "==============================================================================\n",
       "Dep. Variable:         Property crime   R-squared:                       0.810\n",
       "Model:                            OLS   Adj. R-squared:                  0.808\n",
       "Method:                 Least Squares   F-statistic:                     473.8\n",
       "Date:                Sat, 14 Jul 2018   Prob (F-statistic):          9.08e-120\n",
       "Time:                        21:05:57   Log-Likelihood:                -339.17\n",
       "No. Observations:                 337   AIC:                             686.3\n",
       "Df Residuals:                     333   BIC:                             701.6\n",
       "Df Model:                           3                                         \n",
       "Covariance Type:            nonrobust                                         \n",
       "==============================================================================\n",
       "                 coef    std err          t      P>|t|      [0.025      0.975]\n",
       "------------------------------------------------------------------------------\n",
       "const         -2.8432      0.299     -9.497      0.000      -3.432      -2.254\n",
       "Population     2.2838      0.106     21.551      0.000       2.075       2.492\n",
       "Murder         0.2350      0.121      1.944      0.053      -0.003       0.473\n",
       "Robbery        0.8570      0.090      9.472      0.000       0.679       1.035\n",
       "==============================================================================\n",
       "Omnibus:                       10.878   Durbin-Watson:                   1.912\n",
       "Prob(Omnibus):                  0.004   Jarque-Bera (JB):               10.996\n",
       "Skew:                          -0.424   Prob(JB):                      0.00409\n",
       "Kurtosis:                       3.256   Cond. No.                         29.9\n",
       "==============================================================================\n",
       "\n",
       "Warnings:\n",
       "[1] Standard Errors assume that the covariance matrix of the errors is correctly specified.\n",
       "\"\"\""
      ]
     },
     "execution_count": 113,
     "metadata": {},
     "output_type": "execute_result"
    }
   ],
   "source": [
    "#The outcome, \"target\"\n",
    "Y_train = multivarReg['Property crime']\n",
    "\n",
    "#The independen variables, features\n",
    "X_train = multivarReg[['Population','Murder', 'Robbery']]\n",
    "X_train = sm.add_constant(X_train)\n",
    "\n",
    "model = sm.OLS(Y_train, X_train).fit()\n",
    "\n",
    "# make the predictions by the model\n",
    "predictions = model.predict(X_train) \n",
    "\n",
    "#print stats\n",
    "model.summary()"
   ]
  },
  {
   "cell_type": "code",
   "execution_count": null,
   "metadata": {
    "collapsed": true
   },
   "outputs": [],
   "source": []
  },
  {
   "cell_type": "markdown",
   "metadata": {},
   "source": [
    "# Validating regression models for prediction"
   ]
  },
  {
   "cell_type": "code",
   "execution_count": 87,
   "metadata": {},
   "outputs": [
    {
     "data": {
      "text/html": [
       "<div>\n",
       "<style>\n",
       "    .dataframe thead tr:only-child th {\n",
       "        text-align: right;\n",
       "    }\n",
       "\n",
       "    .dataframe thead th {\n",
       "        text-align: left;\n",
       "    }\n",
       "\n",
       "    .dataframe tbody tr th {\n",
       "        vertical-align: top;\n",
       "    }\n",
       "</style>\n",
       "<table border=\"1\" class=\"dataframe\">\n",
       "  <thead>\n",
       "    <tr style=\"text-align: right;\">\n",
       "      <th></th>\n",
       "      <th>City</th>\n",
       "      <th>Population</th>\n",
       "      <th>Violent\n",
       "crime</th>\n",
       "      <th>Murder and\n",
       "nonnegligent\n",
       "manslaughter</th>\n",
       "      <th>Rape\n",
       "(revised\n",
       "definition)1</th>\n",
       "      <th>Rape\n",
       "(legacy\n",
       "definition)2</th>\n",
       "      <th>Robbery</th>\n",
       "      <th>Aggravated\n",
       "assault</th>\n",
       "      <th>Property\n",
       "crime</th>\n",
       "      <th>Burglary</th>\n",
       "      <th>Larceny-\n",
       "theft</th>\n",
       "      <th>Motor\n",
       "vehicle\n",
       "theft</th>\n",
       "      <th>Arson3</th>\n",
       "      <th>Unnamed: 13</th>\n",
       "    </tr>\n",
       "  </thead>\n",
       "  <tbody>\n",
       "    <tr>\n",
       "      <th>0</th>\n",
       "      <td>Abington</td>\n",
       "      <td>16,121</td>\n",
       "      <td>48</td>\n",
       "      <td>0.0</td>\n",
       "      <td>5.0</td>\n",
       "      <td>0.0</td>\n",
       "      <td>7</td>\n",
       "      <td>36</td>\n",
       "      <td>297</td>\n",
       "      <td>82</td>\n",
       "      <td>201</td>\n",
       "      <td>14</td>\n",
       "      <td>1.0</td>\n",
       "      <td>0.0</td>\n",
       "    </tr>\n",
       "    <tr>\n",
       "      <th>1</th>\n",
       "      <td>Acton</td>\n",
       "      <td>22,871</td>\n",
       "      <td>8</td>\n",
       "      <td>0.0</td>\n",
       "      <td>1.0</td>\n",
       "      <td>0.0</td>\n",
       "      <td>2</td>\n",
       "      <td>5</td>\n",
       "      <td>178</td>\n",
       "      <td>31</td>\n",
       "      <td>144</td>\n",
       "      <td>3</td>\n",
       "      <td>0.0</td>\n",
       "      <td>0.0</td>\n",
       "    </tr>\n",
       "    <tr>\n",
       "      <th>2</th>\n",
       "      <td>Acushnet</td>\n",
       "      <td>10,362</td>\n",
       "      <td>19</td>\n",
       "      <td>0.0</td>\n",
       "      <td>2.0</td>\n",
       "      <td>0.0</td>\n",
       "      <td>0</td>\n",
       "      <td>17</td>\n",
       "      <td>74</td>\n",
       "      <td>27</td>\n",
       "      <td>40</td>\n",
       "      <td>7</td>\n",
       "      <td>2.0</td>\n",
       "      <td>0.0</td>\n",
       "    </tr>\n",
       "    <tr>\n",
       "      <th>3</th>\n",
       "      <td>Adams</td>\n",
       "      <td>8,352</td>\n",
       "      <td>21</td>\n",
       "      <td>0.0</td>\n",
       "      <td>3.0</td>\n",
       "      <td>0.0</td>\n",
       "      <td>3</td>\n",
       "      <td>15</td>\n",
       "      <td>157</td>\n",
       "      <td>40</td>\n",
       "      <td>109</td>\n",
       "      <td>8</td>\n",
       "      <td>1.0</td>\n",
       "      <td>0.0</td>\n",
       "    </tr>\n",
       "    <tr>\n",
       "      <th>4</th>\n",
       "      <td>Agawam</td>\n",
       "      <td>28,659</td>\n",
       "      <td>41</td>\n",
       "      <td>0.0</td>\n",
       "      <td>12.0</td>\n",
       "      <td>0.0</td>\n",
       "      <td>3</td>\n",
       "      <td>26</td>\n",
       "      <td>270</td>\n",
       "      <td>105</td>\n",
       "      <td>130</td>\n",
       "      <td>35</td>\n",
       "      <td>1.0</td>\n",
       "      <td>0.0</td>\n",
       "    </tr>\n",
       "  </tbody>\n",
       "</table>\n",
       "</div>"
      ],
      "text/plain": [
       "       City Population Violent\\ncrime  Murder and\\nnonnegligent\\nmanslaughter  \\\n",
       "0  Abington     16,121             48                                     0.0   \n",
       "1     Acton     22,871              8                                     0.0   \n",
       "2  Acushnet     10,362             19                                     0.0   \n",
       "3     Adams      8,352             21                                     0.0   \n",
       "4    Agawam     28,659             41                                     0.0   \n",
       "\n",
       "   Rape\\n(revised\\ndefinition)1  Rape\\n(legacy\\ndefinition)2 Robbery  \\\n",
       "0                           5.0                          0.0       7   \n",
       "1                           1.0                          0.0       2   \n",
       "2                           2.0                          0.0       0   \n",
       "3                           3.0                          0.0       3   \n",
       "4                          12.0                          0.0       3   \n",
       "\n",
       "  Aggravated\\nassault Property\\ncrime Burglary Larceny-\\ntheft  \\\n",
       "0                  36             297       82             201   \n",
       "1                   5             178       31             144   \n",
       "2                  17              74       27              40   \n",
       "3                  15             157       40             109   \n",
       "4                  26             270      105             130   \n",
       "\n",
       "  Motor\\nvehicle\\ntheft  Arson3  Unnamed: 13  \n",
       "0                    14     1.0          0.0  \n",
       "1                     3     0.0          0.0  \n",
       "2                     7     2.0          0.0  \n",
       "3                     8     1.0          0.0  \n",
       "4                    35     1.0          0.0  "
      ]
     },
     "execution_count": 87,
     "metadata": {},
     "output_type": "execute_result"
    }
   ],
   "source": [
    "MAcrimeDf = pd.read_csv('offenses_known_to_law_enforcement_massachusetts_by_city_2013.csv', skiprows=4).fillna(0)\n",
    "MAcrimeDf.head()"
   ]
  },
  {
   "cell_type": "code",
   "execution_count": 88,
   "metadata": {},
   "outputs": [
    {
     "name": "stderr",
     "output_type": "stream",
     "text": [
      "C:\\Users\\ktser\\Anaconda3\\lib\\site-packages\\ipykernel_launcher.py:39: RuntimeWarning: divide by zero encountered in log\n"
     ]
    },
    {
     "data": {
      "text/html": [
       "<div>\n",
       "<style>\n",
       "    .dataframe thead tr:only-child th {\n",
       "        text-align: right;\n",
       "    }\n",
       "\n",
       "    .dataframe thead th {\n",
       "        text-align: left;\n",
       "    }\n",
       "\n",
       "    .dataframe tbody tr th {\n",
       "        vertical-align: top;\n",
       "    }\n",
       "</style>\n",
       "<table border=\"1\" class=\"dataframe\">\n",
       "  <thead>\n",
       "    <tr style=\"text-align: right;\">\n",
       "      <th></th>\n",
       "      <th>Population</th>\n",
       "      <th>Murder</th>\n",
       "      <th>Robbery</th>\n",
       "      <th>Property crime</th>\n",
       "    </tr>\n",
       "  </thead>\n",
       "  <tbody>\n",
       "    <tr>\n",
       "      <th>0</th>\n",
       "      <td>3.356789</td>\n",
       "      <td>0</td>\n",
       "      <td>1</td>\n",
       "      <td>5.693732</td>\n",
       "    </tr>\n",
       "    <tr>\n",
       "      <th>1</th>\n",
       "      <td>3.506797</td>\n",
       "      <td>0</td>\n",
       "      <td>1</td>\n",
       "      <td>5.181784</td>\n",
       "    </tr>\n",
       "    <tr>\n",
       "      <th>2</th>\n",
       "      <td>3.176365</td>\n",
       "      <td>0</td>\n",
       "      <td>0</td>\n",
       "      <td>4.304065</td>\n",
       "    </tr>\n",
       "    <tr>\n",
       "      <th>3</th>\n",
       "      <td>3.091888</td>\n",
       "      <td>0</td>\n",
       "      <td>1</td>\n",
       "      <td>5.056246</td>\n",
       "    </tr>\n",
       "    <tr>\n",
       "      <th>4</th>\n",
       "      <td>3.607095</td>\n",
       "      <td>0</td>\n",
       "      <td>1</td>\n",
       "      <td>5.598422</td>\n",
       "    </tr>\n",
       "  </tbody>\n",
       "</table>\n",
       "</div>"
      ],
      "text/plain": [
       "   Population  Murder  Robbery  Property crime\n",
       "0    3.356789       0        1        5.693732\n",
       "1    3.506797       0        1        5.181784\n",
       "2    3.176365       0        0        4.304065\n",
       "3    3.091888       0        1        5.056246\n",
       "4    3.607095       0        1        5.598422"
      ]
     },
     "execution_count": 88,
     "metadata": {},
     "output_type": "execute_result"
    }
   ],
   "source": [
    "#Propertycrime = α + Population + Population2 + Murder + Robbery\n",
    "murder = 0\n",
    "\n",
    "population = []\n",
    "for x in MAcrimeDf['Population']:\n",
    "    pop = str(x).replace(',','')\n",
    "    population.append(int(pop))\n",
    "    \n",
    "Population = pd.DataFrame(population)\n",
    "multivarReg2 = pd.DataFrame()\n",
    "\n",
    "multivarReg2['Population'] = Population[0]**(1/8)\n",
    "#multivarReg2['Population^2'] = multivarReg2['Population']**2\n",
    "\n",
    "Murder_Cate = []\n",
    "for key in MAcrimeDf['Murder and\\nnonnegligent\\nmanslaughter']:\n",
    "    if key > 0:\n",
    "        Murder_Cate.append(1)\n",
    "    else:\n",
    "        Murder_Cate.append(0)\n",
    "multivarReg2['Murder'] = Murder_Cate\n",
    "\n",
    "robbery = []\n",
    "for key in MAcrimeDf['Robbery']:\n",
    "    rob = int(str(key).replace(',',''))\n",
    "    \n",
    "    if rob > 0:\n",
    "        robbery.append(1)\n",
    "    else:\n",
    "        robbery.append(0)\n",
    "multivarReg2['Robbery'] = robbery\n",
    "\n",
    "PropertyCrime = []\n",
    "for x in MAcrimeDf['Property\\ncrime']:\n",
    "    propCrime = str(x).replace(',','')\n",
    "    PropertyCrime.append(int(propCrime))\n",
    "\n",
    "PropertyCrime = pd.DataFrame(PropertyCrime)\n",
    "multivarReg2['Property crime'] = np.log(PropertyCrime[0])\n",
    "\n",
    "multivarReg2.head()"
   ]
  },
  {
   "cell_type": "code",
   "execution_count": 89,
   "metadata": {},
   "outputs": [],
   "source": [
    "i = multivarReg2[multivarReg2['Property crime'] <= 0].index.tolist()\n",
    "multivarReg2 = multivarReg2.drop(i)"
   ]
  },
  {
   "cell_type": "code",
   "execution_count": 90,
   "metadata": {
    "collapsed": true
   },
   "outputs": [],
   "source": [
    "#Property crime, the outcome\n",
    "Y_test = multivarReg2['Property crime'].values.reshape(-1, 1)\n",
    "\n",
    "#The independen variables, features\n",
    "X_test = multivarReg2[['Population','Murder', 'Robbery']]"
   ]
  },
  {
   "cell_type": "markdown",
   "metadata": {},
   "source": [
    "ols_model = -2.84319579 + x*2.28378037 + x*0.23499398 + x* 0.85698579"
   ]
  },
  {
   "cell_type": "code",
   "execution_count": 104,
   "metadata": {},
   "outputs": [
    {
     "name": "stdout",
     "output_type": "stream",
     "text": [
      "\n",
      "R-squared:\n",
      "0.781203845437\n"
     ]
    }
   ],
   "source": [
    "#make prediction based on earlier trained model\n",
    "Y_pred = regr.predict(X_test)\n",
    "\n",
    "#Print out the how much of the varience is explained by the features\n",
    "print('\\nR-squared:')\n",
    "print(model.score(X_test, Y_test))"
   ]
  },
  {
   "cell_type": "code",
   "execution_count": 107,
   "metadata": {},
   "outputs": [
    {
     "data": {
      "image/png": "[encoded data removed]",
      "text/plain": [
       "<matplotlib.figure.Figure at 0x2bbb0dea080>"
      ]
     },
     "metadata": {},
     "output_type": "display_data"
    }
   ],
   "source": [
    "## The line / model\n",
    "plt.scatter(Y_test, Y_pred)\n",
    "plt.xlabel('True Values')\n",
    "plt.ylabel('Predictions')\n",
    "plt.show()"
   ]
  },
  {
   "cell_type": "code",
   "execution_count": 108,
   "metadata": {},
   "outputs": [
    {
     "data": {
      "image/png": "[encoded data removed]",
      "text/plain": [
       "<matplotlib.figure.Figure at 0x2bbb0e22240>"
      ]
     },
     "metadata": {},
     "output_type": "display_data"
    }
   ],
   "source": [
    "residual = Y_test - Y_pred\n",
    "#Homoscedasticity\n",
    "plt.scatter(Y_pred, residual)\n",
    "plt.xlabel('Predicted')\n",
    "plt.ylabel('Residual')\n",
    "plt.axhline(y=0)\n",
    "plt.title('Residual vs. Predicted')\n",
    "plt.show()"
   ]
  },
  {
   "cell_type": "code",
   "execution_count": 119,
   "metadata": {},
   "outputs": [
    {
     "name": "stdout",
     "output_type": "stream",
     "text": [
      "[ 0.77229021  0.89266238  0.83202029  0.79445889  0.86760799  0.86244585\n",
      "  0.79190621  0.78953171  0.79215695  0.81835741]\n"
     ]
    }
   ],
   "source": [
    "print(cross_val_score(model, X_test, Y_test, cv=10))"
   ]
  },
  {
   "cell_type": "code",
   "execution_count": null,
   "metadata": {
    "collapsed": true
   },
   "outputs": [],
   "source": []
  }
 ],
 "metadata": {
  "kernelspec": {
   "display_name": "Python 3",
   "language": "python",
   "name": "python3"
  },
  "language_info": {
   "codemirror_mode": {
    "name": "ipython",
    "version": 3
   },
   "file_extension": ".py",
   "mimetype": "text/x-python",
   "name": "python",
   "nbconvert_exporter": "python",
   "pygments_lexer": "ipython3",
   "version": "3.6.3"
  }
 },
 "nbformat": 4,
 "nbformat_minor": 2
}
