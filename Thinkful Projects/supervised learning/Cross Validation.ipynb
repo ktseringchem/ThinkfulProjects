{
 "cells": [
  {
   "cell_type": "code",
   "execution_count": 44,
   "metadata": {
    "collapsed": true
   },
   "outputs": [],
   "source": [
    "import pandas as pd\n",
    "import numpy as np\n",
    "import sklearn\n",
    "import matplotlib.pyplot as plt\n",
    "from sklearn.metrics import confusion_matrix"
   ]
  },
  {
   "cell_type": "code",
   "execution_count": 24,
   "metadata": {
    "collapsed": true
   },
   "outputs": [],
   "source": [
    "# Grab and process the raw data.\n",
    "data_path = (\"https://raw.githubusercontent.com/Thinkful-Ed/data-201-resources/\"\n",
    "             \"master/sms_spam_collection/SMSSpamCollection\"\n",
    "            )\n",
    "sms_raw = pd.read_csv(data_path, delimiter= '\\t', header=None)\n",
    "sms_raw.columns = ['spam', 'message']\n",
    "\n",
    "# Enumerate our spammy keywords.\n",
    "keywords = ['click', 'offer', 'winner', 'buy', 'free', 'cash', 'urgent']\n",
    "\n",
    "for key in keywords:\n",
    "    sms_raw[str(key)] = sms_raw.message.str.contains(\n",
    "        ' ' + str(key) + ' ',\n",
    "        case=False\n",
    ")\n",
    "\n",
    "sms_raw['allcaps'] = sms_raw.message.str.isupper()\n",
    "sms_raw['spam'] = (sms_raw['spam'] == 'spam')\n",
    "data = sms_raw[keywords + ['allcaps']]\n",
    "target = sms_raw['spam']\n",
    "\n",
    "from sklearn.naive_bayes import BernoulliNB\n",
    "bnb = BernoulliNB()\n",
    "y_pred = bnb.fit(data, target).predict(data)"
   ]
  },
  {
   "cell_type": "code",
   "execution_count": 25,
   "metadata": {},
   "outputs": [
    {
     "name": "stdout",
     "output_type": "stream",
     "text": [
      "With 20% Holdout: 0.884304932735\n",
      "Testing on Sample: 0.89160086145\n"
     ]
    }
   ],
   "source": [
    "# Test your model with different holdout groups.\n",
    "\n",
    "from sklearn.model_selection import train_test_split\n",
    "# Use train_test_split to create the necessary training and test groups\n",
    "X_train, X_test, y_train, y_test = train_test_split(data, target, test_size=0.2, random_state=20)\n",
    "print('With 20% Holdout: ' + str(bnb.fit(X_train, y_train).score(X_test, y_test)))\n",
    "print('Testing on Sample: ' + str(bnb.fit(data, target).score(data, target)))"
   ]
  },
  {
   "cell_type": "code",
   "execution_count": 27,
   "metadata": {
    "collapsed": true
   },
   "outputs": [],
   "source": [
    "data_sample = data.sample(frac=.1, replace=False)\n",
    "data_sample_target = data_sample.index.values\n",
    "target_for_data = target.take(data_sample_target)"
   ]
  },
  {
   "cell_type": "code",
   "execution_count": 72,
   "metadata": {},
   "outputs": [
    {
     "name": "stdout",
     "output_type": "stream",
     "text": [
      "With 20% Holdout 0: 0.849816849817\n",
      "[[223   2]\n",
      " [ 39   9]]\n",
      "percentage of true positive: 0.991111111111\n",
      "percentage of true negative: 0.8125\n",
      "\n",
      "With 20% Holdout 1: 0.91061452514\n",
      "[[158   1]\n",
      " [ 15   5]]\n",
      "percentage of true positive: 0.993710691824\n",
      "percentage of true negative: 0.75\n",
      "\n",
      "With 20% Holdout 2: 0.833333333333\n",
      "[[9 1]\n",
      " [1 1]]\n",
      "percentage of true positive: 0.9\n",
      "percentage of true negative: 0.5\n",
      "\n",
      "With 20% Holdout 3: 0.871559633028\n",
      "[[185   3]\n",
      " [ 25   5]]\n",
      "percentage of true positive: 0.984042553191\n",
      "percentage of true negative: 0.833333333333\n",
      "\n",
      "With 20% Holdout 4: 0.899253731343\n",
      "[[235   3]\n",
      " [ 24   6]]\n",
      "percentage of true positive: 0.987394957983\n",
      "percentage of true negative: 0.8\n",
      "\n",
      "With 20% Holdout 5: 0.866666666667\n",
      "[[37  0]\n",
      " [ 6  2]]\n",
      "percentage of true positive: 1.0\n",
      "percentage of true negative: 0.75\n",
      "\n",
      "With 20% Holdout 6: 0.903448275862\n",
      "[[128   0]\n",
      " [ 14   3]]\n",
      "percentage of true positive: 1.0\n",
      "percentage of true negative: 0.823529411765\n",
      "\n",
      "With 20% Holdout 7: 0.883720930233\n",
      "[[110   0]\n",
      " [ 15   4]]\n",
      "percentage of true positive: 1.0\n",
      "percentage of true negative: 0.789473684211\n",
      "\n",
      "With 20% Holdout 8: 0.863247863248\n",
      "[[99  2]\n",
      " [14  2]]\n",
      "percentage of true positive: 0.980198019802\n",
      "percentage of true negative: 0.875\n",
      "\n",
      "With 20% Holdout 9: 0.879120879121\n",
      "[[236   5]\n",
      " [ 28   4]]\n",
      "percentage of true positive: 0.979253112033\n",
      "percentage of true negative: 0.875\n",
      "\n"
     ]
    }
   ],
   "source": [
    "conMatrix = []\n",
    "for x in range(0, 10):\n",
    "    data_sample = data.sample(frac=.1, replace=False)\n",
    "    data_sample_target = data_sample.index.values\n",
    "    target_for_data = target.take(data_sample_target)\n",
    "    \n",
    "    X_train, X_test, y_train, y_test = train_test_split(data_sample, target_for_data, test_size=random.randrange(1, 50)/100, random_state=20)\n",
    "    #X_train, X_test, y_train, y_test = data_sample.sample()\n",
    "    \n",
    "    print('With 20% Holdout {}: '.format(x) + str(bnb.fit(X_train, y_train).score(X_test, y_test)))\n",
    "    #print('Testing on Sample {}: '.format(x) + str(bnb.fit(data, target).score(data, target)))\n",
    "    \n",
    "    y_pred = bnb.fit(X_train, y_train).predict(X_test)\n",
    "    \n",
    "    k = confusion_matrix(target.take(y_test.index.values), y_pred)\n",
    "    \n",
    "    print(confusion_matrix(target.take(y_test.index.values), y_pred))\n",
    "    \n",
    "    print('percentage of true positive: ' + str(k[0][0]/(k[0][0] + k[0][1])))\n",
    "    print('percentage of true negative: ' + str(k[1][0]/(k[1][0] + k[1][1])) + '\\n')\n",
    "\n"
   ]
  },
  {
   "cell_type": "code",
   "execution_count": 37,
   "metadata": {},
   "outputs": [
    {
     "data": {
      "text/plain": [
       "array([ 0.89784946,  0.89426523,  0.89426523,  0.890681  ,  0.89605735,\n",
       "        0.89048474,  0.88150808,  0.89028777,  0.88489209,  0.89568345])"
      ]
     },
     "execution_count": 37,
     "metadata": {},
     "output_type": "execute_result"
    }
   ],
   "source": [
    "from sklearn.model_selection import cross_val_score\n",
    "cross_val_score(bnb, data, target, cv=10)"
   ]
  },
  {
   "cell_type": "code",
   "execution_count": null,
   "metadata": {
    "collapsed": true
   },
   "outputs": [],
   "source": []
  }
 ],
 "metadata": {
  "kernelspec": {
   "display_name": "Python 3",
   "language": "python",
   "name": "python3"
  },
  "language_info": {
   "codemirror_mode": {
    "name": "ipython",
    "version": 3
   },
   "file_extension": ".py",
   "mimetype": "text/x-python",
   "name": "python",
   "nbconvert_exporter": "python",
   "pygments_lexer": "ipython3",
   "version": "3.6.3"
  }
 },
 "nbformat": 4,
 "nbformat_minor": 2
}
