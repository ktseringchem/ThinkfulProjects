{
 "cells": [
  {
   "cell_type": "code",
   "execution_count": 196,
   "metadata": {
    "collapsed": true
   },
   "outputs": [],
   "source": [
    "import pandas as pd\n",
    "from matplotlib import pyplot as plt\n",
    "import numpy as np\n",
    "import math\n",
    "import seaborn as sns\n",
    "from sklearn import linear_model\n",
    "import sklearn\n",
    "from sklearn import linear_model\n",
    "from sklearn import preprocessing\n",
    "from sklearn.model_selection import train_test_split\n",
    "%matplotlib inline\n",
    "sns.set_style('white')"
   ]
  },
  {
   "cell_type": "code",
   "execution_count": 197,
   "metadata": {
    "collapsed": true,
    "scrolled": true
   },
   "outputs": [],
   "source": [
    "MassCrime2013_DF = pd.read_csv('offenses_known_to_law_enforcement_massachusetts_by_city_2013.csv', skiprows=4).drop(['Rape\\n(legacy\\ndefinition)2', 'Unnamed: 13'], axis=1)[:-3]\n",
    "#MassCrime2013_DF = MassCrime2013_DF.drop( 276)\n",
    "MassCrime2013_DF = MassCrime2013_DF.dropna()"
   ]
  },
  {
   "cell_type": "code",
   "execution_count": 198,
   "metadata": {
    "collapsed": true
   },
   "outputs": [],
   "source": [
    "#Remove comma and turn variable population into numaric\n",
    "population = []\n",
    "Propertycrime = []\n",
    "Arsoncrime = []\n",
    "Aggravatedcrime = []\n",
    "\n",
    "for x in MassCrime2013_DF['Population']:\n",
    "    pop1 = str(x).replace(',','')\n",
    "    population.append(int(pop1))\n",
    "\n",
    "MassCrime2013_DF['Population'] = population\n",
    "\n",
    "for x in MassCrime2013_DF['Property\\ncrime']:\n",
    "    pop2 = str(x).replace(',','')\n",
    "    Propertycrime.append(int(pop2))\n",
    "\n",
    "MassCrime2013_DF['Property crime'] = Propertycrime\n",
    "\n",
    "for x in MassCrime2013_DF['Arson3']:\n",
    "    pop3 = str(x).replace(',','')\n",
    "    Arsoncrime.append(float(pop3))\n",
    "\n",
    "MassCrime2013_DF['Arson'] = Arsoncrime\n",
    "\n",
    "#for x in MassCrime2013_DF['Aggravated\\nassault']:\n",
    "#    pop4 = str(x).replace(',','')\n",
    "#    Aggravatedcrime.append(float(pop4))\n",
    "\n",
    "#MassCrime2013_DF['Aggravated assault'] = Aggravatedcrime\n",
    "\n",
    "MassCrime2013_DF['Aggravated assault'] = MassCrime2013_DF['Aggravated\\nassault'].str.replace(',', '')\n",
    "MassCrime2013_DF['Aggravated assault'] = MassCrime2013_DF['Aggravated assault'].astype(int)\n",
    "MassCrime2013_DF['Burglary'] = MassCrime2013_DF['Burglary'].str.replace(',', '')\n",
    "MassCrime2013_DF['Burglary'] = MassCrime2013_DF['Burglary'].astype(int)\n",
    "MassCrime2013_DF['Larceny-theft'] = MassCrime2013_DF['Larceny-\\ntheft'].str.replace(',', '')\n",
    "MassCrime2013_DF['Larceny-theft'] = MassCrime2013_DF['Larceny-theft'].astype(int)\n",
    "MassCrime2013_DF['Motor vehicle theft'] = MassCrime2013_DF['Motor\\nvehicle\\ntheft'].str.replace(',', '')\n",
    "MassCrime2013_DF['Motor vehicle theft'] = MassCrime2013_DF['Motor vehicle theft'].astype(int)\n",
    "MassCrime2013_DF['Robbery'] = MassCrime2013_DF['Robbery'].str.replace(',', '')\n",
    "MassCrime2013_DF['Robbery'] = MassCrime2013_DF['Robbery'].astype(int)\n",
    "\n",
    "MassCrime2013_DF['Violent\\ncrime'] = MassCrime2013_DF['Violent\\ncrime'].str.replace(',', '')\n",
    "MassCrime2013_DF['Violent\\ncrime'] = MassCrime2013_DF['Violent\\ncrime'].astype(int)\n",
    "\n",
    "MassCrime2013_DF =MassCrime2013_DF.dropna()"
   ]
  },
  {
   "cell_type": "code",
   "execution_count": 199,
   "metadata": {
    "collapsed": true
   },
   "outputs": [],
   "source": [
    "MassCrime2013_DF = MassCrime2013_DF.drop(['Aggravated\\nassault', 'Burglary', 'Larceny-\\ntheft', 'Motor\\nvehicle\\ntheft', 'Arson3', 'Property\\ncrime'], axis=1)"
   ]
  },
  {
   "cell_type": "code",
   "execution_count": 200,
   "metadata": {
    "scrolled": true
   },
   "outputs": [
    {
     "data": {
      "text/html": [
       "<div>\n",
       "<style>\n",
       "    .dataframe thead tr:only-child th {\n",
       "        text-align: right;\n",
       "    }\n",
       "\n",
       "    .dataframe thead th {\n",
       "        text-align: left;\n",
       "    }\n",
       "\n",
       "    .dataframe tbody tr th {\n",
       "        vertical-align: top;\n",
       "    }\n",
       "</style>\n",
       "<table border=\"1\" class=\"dataframe\">\n",
       "  <thead>\n",
       "    <tr style=\"text-align: right;\">\n",
       "      <th></th>\n",
       "      <th>City</th>\n",
       "      <th>Population</th>\n",
       "      <th>Violent\n",
       "crime</th>\n",
       "      <th>Murder and\n",
       "nonnegligent\n",
       "manslaughter</th>\n",
       "      <th>Rape\n",
       "(revised\n",
       "definition)1</th>\n",
       "      <th>Robbery</th>\n",
       "      <th>Property crime</th>\n",
       "      <th>Arson</th>\n",
       "      <th>Aggravated assault</th>\n",
       "      <th>Larceny-theft</th>\n",
       "      <th>Motor vehicle theft</th>\n",
       "    </tr>\n",
       "  </thead>\n",
       "  <tbody>\n",
       "    <tr>\n",
       "      <th>0</th>\n",
       "      <td>Abington</td>\n",
       "      <td>16121</td>\n",
       "      <td>48</td>\n",
       "      <td>0.0</td>\n",
       "      <td>5.0</td>\n",
       "      <td>7</td>\n",
       "      <td>297</td>\n",
       "      <td>1.0</td>\n",
       "      <td>36</td>\n",
       "      <td>201</td>\n",
       "      <td>14</td>\n",
       "    </tr>\n",
       "    <tr>\n",
       "      <th>1</th>\n",
       "      <td>Acton</td>\n",
       "      <td>22871</td>\n",
       "      <td>8</td>\n",
       "      <td>0.0</td>\n",
       "      <td>1.0</td>\n",
       "      <td>2</td>\n",
       "      <td>178</td>\n",
       "      <td>0.0</td>\n",
       "      <td>5</td>\n",
       "      <td>144</td>\n",
       "      <td>3</td>\n",
       "    </tr>\n",
       "    <tr>\n",
       "      <th>2</th>\n",
       "      <td>Acushnet</td>\n",
       "      <td>10362</td>\n",
       "      <td>19</td>\n",
       "      <td>0.0</td>\n",
       "      <td>2.0</td>\n",
       "      <td>0</td>\n",
       "      <td>74</td>\n",
       "      <td>2.0</td>\n",
       "      <td>17</td>\n",
       "      <td>40</td>\n",
       "      <td>7</td>\n",
       "    </tr>\n",
       "    <tr>\n",
       "      <th>3</th>\n",
       "      <td>Adams</td>\n",
       "      <td>8352</td>\n",
       "      <td>21</td>\n",
       "      <td>0.0</td>\n",
       "      <td>3.0</td>\n",
       "      <td>3</td>\n",
       "      <td>157</td>\n",
       "      <td>1.0</td>\n",
       "      <td>15</td>\n",
       "      <td>109</td>\n",
       "      <td>8</td>\n",
       "    </tr>\n",
       "    <tr>\n",
       "      <th>4</th>\n",
       "      <td>Agawam</td>\n",
       "      <td>28659</td>\n",
       "      <td>41</td>\n",
       "      <td>0.0</td>\n",
       "      <td>12.0</td>\n",
       "      <td>3</td>\n",
       "      <td>270</td>\n",
       "      <td>1.0</td>\n",
       "      <td>26</td>\n",
       "      <td>130</td>\n",
       "      <td>35</td>\n",
       "    </tr>\n",
       "  </tbody>\n",
       "</table>\n",
       "</div>"
      ],
      "text/plain": [
       "       City  Population  Violent\\ncrime  \\\n",
       "0  Abington       16121              48   \n",
       "1     Acton       22871               8   \n",
       "2  Acushnet       10362              19   \n",
       "3     Adams        8352              21   \n",
       "4    Agawam       28659              41   \n",
       "\n",
       "   Murder and\\nnonnegligent\\nmanslaughter  Rape\\n(revised\\ndefinition)1  \\\n",
       "0                                     0.0                           5.0   \n",
       "1                                     0.0                           1.0   \n",
       "2                                     0.0                           2.0   \n",
       "3                                     0.0                           3.0   \n",
       "4                                     0.0                          12.0   \n",
       "\n",
       "   Robbery  Property crime  Arson  Aggravated assault  Larceny-theft  \\\n",
       "0        7             297    1.0                  36            201   \n",
       "1        2             178    0.0                   5            144   \n",
       "2        0              74    2.0                  17             40   \n",
       "3        3             157    1.0                  15            109   \n",
       "4        3             270    1.0                  26            130   \n",
       "\n",
       "   Motor vehicle theft  \n",
       "0                   14  \n",
       "1                    3  \n",
       "2                    7  \n",
       "3                    8  \n",
       "4                   35  "
      ]
     },
     "execution_count": 200,
     "metadata": {},
     "output_type": "execute_result"
    }
   ],
   "source": [
    "MassCrime2013_DF.head()"
   ]
  },
  {
   "cell_type": "code",
   "execution_count": 201,
   "metadata": {
    "collapsed": true
   },
   "outputs": [],
   "source": [
    "#creating a binary outcome\n",
    "MassCrime2013_DF['Robbery'] = np.where(pd.to_numeric(MassCrime2013_DF['Robbery']) > 1, 1, 0)"
   ]
  },
  {
   "cell_type": "code",
   "execution_count": 202,
   "metadata": {},
   "outputs": [
    {
     "data": {
      "text/html": [
       "<div>\n",
       "<style>\n",
       "    .dataframe thead tr:only-child th {\n",
       "        text-align: right;\n",
       "    }\n",
       "\n",
       "    .dataframe thead th {\n",
       "        text-align: left;\n",
       "    }\n",
       "\n",
       "    .dataframe tbody tr th {\n",
       "        vertical-align: top;\n",
       "    }\n",
       "</style>\n",
       "<table border=\"1\" class=\"dataframe\">\n",
       "  <thead>\n",
       "    <tr style=\"text-align: right;\">\n",
       "      <th></th>\n",
       "      <th>City</th>\n",
       "      <th>Population</th>\n",
       "      <th>Violent\n",
       "crime</th>\n",
       "      <th>Murder and\n",
       "nonnegligent\n",
       "manslaughter</th>\n",
       "      <th>Rape\n",
       "(revised\n",
       "definition)1</th>\n",
       "      <th>Robbery</th>\n",
       "      <th>Property crime</th>\n",
       "      <th>Arson</th>\n",
       "      <th>Aggravated assault</th>\n",
       "      <th>Larceny-theft</th>\n",
       "      <th>Motor vehicle theft</th>\n",
       "    </tr>\n",
       "  </thead>\n",
       "  <tbody>\n",
       "    <tr>\n",
       "      <th>0</th>\n",
       "      <td>Abington</td>\n",
       "      <td>16121</td>\n",
       "      <td>48</td>\n",
       "      <td>0.0</td>\n",
       "      <td>5.0</td>\n",
       "      <td>1</td>\n",
       "      <td>297</td>\n",
       "      <td>1.0</td>\n",
       "      <td>36</td>\n",
       "      <td>201</td>\n",
       "      <td>14</td>\n",
       "    </tr>\n",
       "    <tr>\n",
       "      <th>1</th>\n",
       "      <td>Acton</td>\n",
       "      <td>22871</td>\n",
       "      <td>8</td>\n",
       "      <td>0.0</td>\n",
       "      <td>1.0</td>\n",
       "      <td>1</td>\n",
       "      <td>178</td>\n",
       "      <td>0.0</td>\n",
       "      <td>5</td>\n",
       "      <td>144</td>\n",
       "      <td>3</td>\n",
       "    </tr>\n",
       "    <tr>\n",
       "      <th>2</th>\n",
       "      <td>Acushnet</td>\n",
       "      <td>10362</td>\n",
       "      <td>19</td>\n",
       "      <td>0.0</td>\n",
       "      <td>2.0</td>\n",
       "      <td>0</td>\n",
       "      <td>74</td>\n",
       "      <td>2.0</td>\n",
       "      <td>17</td>\n",
       "      <td>40</td>\n",
       "      <td>7</td>\n",
       "    </tr>\n",
       "    <tr>\n",
       "      <th>3</th>\n",
       "      <td>Adams</td>\n",
       "      <td>8352</td>\n",
       "      <td>21</td>\n",
       "      <td>0.0</td>\n",
       "      <td>3.0</td>\n",
       "      <td>1</td>\n",
       "      <td>157</td>\n",
       "      <td>1.0</td>\n",
       "      <td>15</td>\n",
       "      <td>109</td>\n",
       "      <td>8</td>\n",
       "    </tr>\n",
       "    <tr>\n",
       "      <th>4</th>\n",
       "      <td>Agawam</td>\n",
       "      <td>28659</td>\n",
       "      <td>41</td>\n",
       "      <td>0.0</td>\n",
       "      <td>12.0</td>\n",
       "      <td>1</td>\n",
       "      <td>270</td>\n",
       "      <td>1.0</td>\n",
       "      <td>26</td>\n",
       "      <td>130</td>\n",
       "      <td>35</td>\n",
       "    </tr>\n",
       "  </tbody>\n",
       "</table>\n",
       "</div>"
      ],
      "text/plain": [
       "       City  Population  Violent\\ncrime  \\\n",
       "0  Abington       16121              48   \n",
       "1     Acton       22871               8   \n",
       "2  Acushnet       10362              19   \n",
       "3     Adams        8352              21   \n",
       "4    Agawam       28659              41   \n",
       "\n",
       "   Murder and\\nnonnegligent\\nmanslaughter  Rape\\n(revised\\ndefinition)1  \\\n",
       "0                                     0.0                           5.0   \n",
       "1                                     0.0                           1.0   \n",
       "2                                     0.0                           2.0   \n",
       "3                                     0.0                           3.0   \n",
       "4                                     0.0                          12.0   \n",
       "\n",
       "   Robbery  Property crime  Arson  Aggravated assault  Larceny-theft  \\\n",
       "0        1             297    1.0                  36            201   \n",
       "1        1             178    0.0                   5            144   \n",
       "2        0              74    2.0                  17             40   \n",
       "3        1             157    1.0                  15            109   \n",
       "4        1             270    1.0                  26            130   \n",
       "\n",
       "   Motor vehicle theft  \n",
       "0                   14  \n",
       "1                    3  \n",
       "2                    7  \n",
       "3                    8  \n",
       "4                   35  "
      ]
     },
     "execution_count": 202,
     "metadata": {},
     "output_type": "execute_result"
    }
   ],
   "source": [
    "MassCrime2013_DF.head()"
   ]
  },
  {
   "cell_type": "code",
   "execution_count": 203,
   "metadata": {
    "scrolled": false
   },
   "outputs": [
    {
     "data": {
      "image/png": "[encoded data removed]",
      "text/plain": [
       "<matplotlib.figure.Figure at 0x1dec57e6898>"
      ]
     },
     "metadata": {},
     "output_type": "display_data"
    }
   ],
   "source": [
    "# Make the correlation matrix.\n",
    "corrmat = MassCrime2013_DF.corr()\n",
    "# Set up the matplotlib figure.\n",
    "f, ax = plt.subplots(figsize=(20, 12))\n",
    "\n",
    "# Draw the heatmap using seaborn.\n",
    "sns.heatmap(corrmat, vmax=.8, square=True)\n",
    "plt.show()"
   ]
  },
  {
   "cell_type": "code",
   "execution_count": 252,
   "metadata": {
    "collapsed": true
   },
   "outputs": [],
   "source": [
    "MassCrime2013_DF2 = MassCrime2013_DF.drop(['Murder and\\nnonnegligent\\nmanslaughter', 'Property crime', 'Aggravated assault', 'Violent\\ncrime', 'Larceny-theft', 'Motor vehicle theft', 'Rape\\n(revised\\ndefinition)1'], axis=1)"
   ]
  },
  {
   "cell_type": "code",
   "execution_count": 253,
   "metadata": {
    "scrolled": false
   },
   "outputs": [
    {
     "name": "stdout",
     "output_type": "stream",
     "text": [
      "            Population   Robbery     Arson\n",
      "Population    1.000000  0.497399  0.671999\n",
      "Robbery       0.497399  1.000000  0.293598\n",
      "Arson         0.671999  0.293598  1.000000\n"
     ]
    },
    {
     "data": {
      "image/png": "[encoded data removed]",
      "text/plain": [
       "<matplotlib.figure.Figure at 0x1dec57ccd68>"
      ]
     },
     "metadata": {},
     "output_type": "display_data"
    }
   ],
   "source": [
    "# Make the correlation matrix.\n",
    "corrmat = MassCrime2013_DF2.corr()\n",
    "print(corrmat)\n",
    "\n",
    "# Set up the matplotlib figure.\n",
    "f, ax = plt.subplots(figsize=(20, 12))\n",
    "\n",
    "# Draw the heatmap using seaborn.\n",
    "sns.heatmap(corrmat, vmax=.8, square=True)\n",
    "plt.show()"
   ]
  },
  {
   "cell_type": "code",
   "execution_count": 254,
   "metadata": {
    "collapsed": true
   },
   "outputs": [],
   "source": [
    "#spliting trainning and testing data\n",
    "y = pd.DataFrame(MassCrime2013_DF['Robbery'])\n",
    "X_train, X_test, y_train, y_test = train_test_split(MassCrime2013_DF.drop(['City','Robbery'], axis=1), y, test_size=0.2)\n",
    "X_train2, X_test2, y_train2, y_test2 = train_test_split(MassCrime2013_DF2.drop(['City','Robbery'], axis=1), y, test_size=0.2)"
   ]
  },
  {
   "cell_type": "code",
   "execution_count": 255,
   "metadata": {},
   "outputs": [
    {
     "name": "stdout",
     "output_type": "stream",
     "text": [
      "R² for the model with few features:\n",
      "Linear model:0.271106720036\n",
      "Ridge model:0.158979731521\n",
      "lasso model:0.252672842149\n"
     ]
    }
   ],
   "source": [
    "#Models\n",
    "regr1 = linear_model.LinearRegression()\n",
    "ridgeregr = linear_model.Ridge(alpha=10, fit_intercept=False)\n",
    "lass = linear_model.Lasso(alpha=0.35)\n",
    "\n",
    "#fit\n",
    "regr1.fit(X_train2, y_train2)\n",
    "ridgeregr.fit(X_train2, y_train2)\n",
    "lass.fit(X_train2, y_train2)\n",
    "\n",
    "print('R² for the model with few features:')\n",
    "print('Linear model:' +  str(regr1.score(X_train2, y_train2)))\n",
    "print('Ridge model:' +  str(ridgeregr.score(X_train2, y_train2)))\n",
    "print('lasso model:' +  str(lass.score(X_train2, y_train2)))"
   ]
  },
  {
   "cell_type": "code",
   "execution_count": 256,
   "metadata": {},
   "outputs": [
    {
     "name": "stdout",
     "output_type": "stream",
     "text": [
      "R² for the model with few features:\n",
      "Linear model:0.0825455357456\n",
      "Ridge model:-0.422644921076\n",
      "lasso model:0.205490641098\n"
     ]
    }
   ],
   "source": [
    "print('R² for the model with few features:')\n",
    "print('Linear model:' +  str(regr1.score(X_test2, y_test2)))\n",
    "print('Ridge model:' +  str(ridgeregr.score(X_test2, y_test2)))\n",
    "print('lasso model:' +  str(lass.score(X_test2, y_test2)))"
   ]
  },
  {
   "cell_type": "code",
   "execution_count": 257,
   "metadata": {},
   "outputs": [
    {
     "name": "stdout",
     "output_type": "stream",
     "text": [
      "R² for the model with few features:\n",
      "Linear model:0.35073814801\n",
      "Ridge model:0.297789699079\n",
      "lasso model:0.325921766174\n"
     ]
    }
   ],
   "source": [
    "#fit\n",
    "regr1.fit(X_train, y_train)\n",
    "ridgeregr.fit(X_train, y_train)\n",
    "lass.fit(X_train, y_train)\n",
    "\n",
    "print('R² for the model with many features:')\n",
    "print('Linear model:' +  str(regr1.score(X_train, y_train)))\n",
    "print('Ridge model:' +  str(ridgeregr.score(X_train, y_train)))\n",
    "print('lasso model:' +  str(lass.score(X_train, y_train)))"
   ]
  },
  {
   "cell_type": "code",
   "execution_count": 258,
   "metadata": {},
   "outputs": [
    {
     "name": "stdout",
     "output_type": "stream",
     "text": [
      "R² for the model with few features:\n",
      "Linear model:0.253478923494\n",
      "Ridge model:0.174334399399\n",
      "lasso model:0.230863392124\n"
     ]
    }
   ],
   "source": [
    "print('R² for the model with many features:')\n",
    "print('Linear model:' +  str(regr1.score(X_test, y_test)))\n",
    "print('Ridge model:' +  str(ridgeregr.score(X_test, y_test)))\n",
    "print('lasso model:' +  str(lass.score(X_test, y_test)))"
   ]
  },
  {
   "cell_type": "code",
   "execution_count": null,
   "metadata": {
    "collapsed": true
   },
   "outputs": [],
   "source": []
  }
 ],
 "metadata": {
  "kernelspec": {
   "display_name": "Python 3",
   "language": "python",
   "name": "python3"
  },
  "language_info": {
   "codemirror_mode": {
    "name": "ipython",
    "version": 3
   },
   "file_extension": ".py",
   "mimetype": "text/x-python",
   "name": "python",
   "nbconvert_exporter": "python",
   "pygments_lexer": "ipython3",
   "version": "3.6.3"
  }
 },
 "nbformat": 4,
 "nbformat_minor": 2
}
