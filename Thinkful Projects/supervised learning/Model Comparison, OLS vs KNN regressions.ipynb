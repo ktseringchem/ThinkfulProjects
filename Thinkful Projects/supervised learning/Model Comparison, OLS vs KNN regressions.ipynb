{
 "cells": [
  {
   "cell_type": "code",
   "execution_count": 87,
   "metadata": {
    "collapsed": true,
    "scrolled": true
   },
   "outputs": [],
   "source": [
    "import glob\n",
    "import pandas as pd\n",
    "import numpy as np\n",
    "from sklearn import neighbors\n",
    "import seaborn as sns\n",
    "import matplotlib.pyplot as plt\n",
    "from matplotlib.pyplot import figure\n",
    "import statsmodels.formula.api as smf\n",
    "from sklearn.metrics import r2_score\n",
    "from sklearn import linear_model\n",
    "from sklearn.model_selection import cross_val_score"
   ]
  },
  {
   "cell_type": "code",
   "execution_count": 3,
   "metadata": {
    "collapsed": true
   },
   "outputs": [],
   "source": [
    "AQMadrid = pd.read_csv('California Home Prices_2009.csv').dropna()"
   ]
  },
  {
   "cell_type": "code",
   "execution_count": 4,
   "metadata": {
    "collapsed": true,
    "scrolled": true
   },
   "outputs": [],
   "source": [
    "#AQMadrid = pd.DataFrame(AQMadrid.date.str.split('-',2).tolist(), columns = ['Year', 'Month', 'Day'])"
   ]
  },
  {
   "cell_type": "code",
   "execution_count": 5,
   "metadata": {
    "collapsed": true,
    "scrolled": true
   },
   "outputs": [],
   "source": [
    "status_Cate = []\n",
    "for key in AQMadrid['Status']:\n",
    "    if key == 'Short Sale':\n",
    "        status_Cate.append(1)\n",
    "    else:\n",
    "        status_Cate.append(0)\n",
    "\n",
    "AQMadrid['Status'] = status_Cate"
   ]
  },
  {
   "cell_type": "code",
   "execution_count": 6,
   "metadata": {},
   "outputs": [
    {
     "data": {
      "text/html": [
       "<div>\n",
       "<style>\n",
       "    .dataframe thead tr:only-child th {\n",
       "        text-align: right;\n",
       "    }\n",
       "\n",
       "    .dataframe thead th {\n",
       "        text-align: left;\n",
       "    }\n",
       "\n",
       "    .dataframe tbody tr th {\n",
       "        vertical-align: top;\n",
       "    }\n",
       "</style>\n",
       "<table border=\"1\" class=\"dataframe\">\n",
       "  <thead>\n",
       "    <tr style=\"text-align: right;\">\n",
       "      <th></th>\n",
       "      <th>Price</th>\n",
       "      <th>Bedrooms</th>\n",
       "      <th>Bathrooms</th>\n",
       "      <th>SQFT</th>\n",
       "      <th>Price/SQFT</th>\n",
       "      <th>Status</th>\n",
       "    </tr>\n",
       "  </thead>\n",
       "  <tbody>\n",
       "    <tr>\n",
       "      <th>0</th>\n",
       "      <td>5.900367</td>\n",
       "      <td>3.0</td>\n",
       "      <td>3.0</td>\n",
       "      <td>2371.0</td>\n",
       "      <td>335.30</td>\n",
       "      <td>1.0</td>\n",
       "    </tr>\n",
       "    <tr>\n",
       "      <th>1</th>\n",
       "      <td>5.600973</td>\n",
       "      <td>4.0</td>\n",
       "      <td>3.0</td>\n",
       "      <td>2818.0</td>\n",
       "      <td>141.59</td>\n",
       "      <td>1.0</td>\n",
       "    </tr>\n",
       "    <tr>\n",
       "      <th>2</th>\n",
       "      <td>5.736397</td>\n",
       "      <td>4.0</td>\n",
       "      <td>3.0</td>\n",
       "      <td>3032.0</td>\n",
       "      <td>179.75</td>\n",
       "      <td>1.0</td>\n",
       "    </tr>\n",
       "    <tr>\n",
       "      <th>3</th>\n",
       "      <td>5.958564</td>\n",
       "      <td>4.0</td>\n",
       "      <td>4.0</td>\n",
       "      <td>3540.0</td>\n",
       "      <td>256.78</td>\n",
       "      <td>1.0</td>\n",
       "    </tr>\n",
       "    <tr>\n",
       "      <th>4</th>\n",
       "      <td>5.040998</td>\n",
       "      <td>3.0</td>\n",
       "      <td>1.0</td>\n",
       "      <td>1249.0</td>\n",
       "      <td>87.99</td>\n",
       "      <td>1.0</td>\n",
       "    </tr>\n",
       "  </tbody>\n",
       "</table>\n",
       "</div>"
      ],
      "text/plain": [
       "      Price  Bedrooms  Bathrooms    SQFT  Price/SQFT  Status\n",
       "0  5.900367       3.0        3.0  2371.0      335.30     1.0\n",
       "1  5.600973       4.0        3.0  2818.0      141.59     1.0\n",
       "2  5.736397       4.0        3.0  3032.0      179.75     1.0\n",
       "3  5.958564       4.0        4.0  3540.0      256.78     1.0\n",
       "4  5.040998       3.0        1.0  1249.0       87.99     1.0"
      ]
     },
     "execution_count": 6,
     "metadata": {},
     "output_type": "execute_result"
    }
   ],
   "source": [
    "AQMadrid = AQMadrid.drop([\"MLS#\", \"Location\"], axis=1)\n",
    "AQMadrid = AQMadrid.astype('float')\n",
    "AQMadrid['Price'] = np.log10(AQMadrid['Price'])\n",
    "AQMadrid.head()"
   ]
  },
  {
   "cell_type": "code",
   "execution_count": 62,
   "metadata": {
    "scrolled": false
   },
   "outputs": [
    {
     "data": {
      "image/png": "[encoded data removed]",
      "text/plain": [
       "<matplotlib.figure.Figure at 0x29337025c18>"
      ]
     },
     "metadata": {},
     "output_type": "display_data"
    }
   ],
   "source": [
    "f, (ax1, ax2, ax3, ax4) = plt.subplots(1, 4, sharey='all', sharex='none', figsize=(18,6))\n",
    "\n",
    "ax1.scatter(AQMadrid['Bedrooms'], AQMadrid['Price'], color='r')\n",
    "\n",
    "ax2.scatter(AQMadrid['Bathrooms'], AQMadrid['Price'], color='b')\n",
    "\n",
    "ax3.scatter(AQMadrid['SQFT'], AQMadrid['Price'], color='k')\n",
    "\n",
    "ax4.scatter(AQMadrid['Price/SQFT'], AQMadrid['Price'], color='g')\n",
    "\n",
    "plt.show()"
   ]
  },
  {
   "cell_type": "code",
   "execution_count": 12,
   "metadata": {},
   "outputs": [
    {
     "name": "stdout",
     "output_type": "stream",
     "text": [
      "coefficients: \n",
      "Intercept    -1.998401e-15\n",
      "Bedrooms      7.216450e-16\n",
      "Bathrooms     7.771561e-16\n",
      "SQFT         -5.410169e-17\n",
      "Price         1.000000e+00\n",
      "Price:SQFT   -7.066288e-17\n",
      "Status        1.110223e-16\n",
      "dtype: float64\n",
      "P-Values: \n",
      "Intercept     0.998750\n",
      "Bedrooms      0.988792\n",
      "Bathrooms     0.989784\n",
      "SQFT          0.935628\n",
      "Price         0.000000\n",
      "Price:SQFT    0.532282\n",
      "Status        0.998707\n",
      "dtype: float64\n",
      "R2: \n",
      "1.0\n"
     ]
    }
   ],
   "source": [
    "linear_formula = 'Price ~ Bedrooms+Bathrooms+SQFT+Price/SQFT+Status'\n",
    "\n",
    "# Fit the model to our data using the formula.\n",
    "lm = smf.ols(formula=linear_formula, data=AQMadrid).fit()\n",
    "print(\"coefficients: \\n\" + str(lm.params))\n",
    "print(\"P-Values: \\n\" + str(lm.pvalues))\n",
    "print(\"R2: \\n\" + str(lm.rsquared))"
   ]
  },
  {
   "cell_type": "code",
   "execution_count": 88,
   "metadata": {},
   "outputs": [
    {
     "name": "stdout",
     "output_type": "stream",
     "text": [
      "\n",
      "Coefficients: \n",
      " [[ 0.03165702  0.00204455  0.00018914  0.00153661  0.0138282 ]]\n",
      "\n",
      "Intercept: \n",
      " [ 4.71327457]\n",
      "\n",
      "R-squared:\n",
      "0.849115934925\n"
     ]
    }
   ],
   "source": [
    "# Instantiate and fit our model.\n",
    "regr = linear_model.LinearRegression()\n",
    "Y = AQMadrid.Price.values.reshape(-1, 1)\n",
    "X = AQMadrid[['Bedrooms','Bathrooms','SQFT','Price/SQFT','Status']]\n",
    "regr.fit(X, Y)\n",
    "\n",
    "# Inspect the results.\n",
    "print('\\nCoefficients: \\n', regr.coef_)\n",
    "print('\\nIntercept: \\n', regr.intercept_)\n",
    "print('\\nR-squared:')\n",
    "print(regr.score(X, Y))"
   ]
  },
  {
   "cell_type": "code",
   "execution_count": 90,
   "metadata": {},
   "outputs": [
    {
     "data": {
      "text/plain": [
       "array([ 0.92268804,  0.79213602,  0.84901835,  0.91077905,  0.70535032,\n",
       "        0.91771202,  0.88434287,  0.82344202,  0.80165674,  0.72673325])"
      ]
     },
     "execution_count": 90,
     "metadata": {},
     "output_type": "execute_result"
    }
   ],
   "source": [
    "cross_val_score(regr, X, Y, cv=10)"
   ]
  },
  {
   "cell_type": "code",
   "execution_count": 94,
   "metadata": {},
   "outputs": [
    {
     "data": {
      "text/plain": [
       "1.0"
      ]
     },
     "execution_count": 94,
     "metadata": {},
     "output_type": "execute_result"
    }
   ],
   "source": [
    "from sklearn import neighbors\n",
    "\n",
    "# Build our model.\n",
    "knn = neighbors.KNeighborsRegressor(n_neighbors=10, weights='distance')\n",
    "X = AQMadrid[['Bedrooms','Bathrooms','SQFT','Price/SQFT','Status']]\n",
    "Y = pd.DataFrame(AQMadrid.Price)\n",
    "knn.fit(X, Y)\n",
    "\n",
    "# Set up our prediction line.\n",
    "T = X\n",
    "\n",
    "# Trailing underscores are a common convention for a prediction.\n",
    "Y_ = knn.predict(T)\n",
    "\n",
    "r2_score(Y,Y_)"
   ]
  },
  {
   "cell_type": "code",
   "execution_count": 96,
   "metadata": {},
   "outputs": [
    {
     "data": {
      "text/plain": [
       "array([ 0.88251655,  0.93055884,  0.86703645,  0.92647409,  0.84389745])"
      ]
     },
     "execution_count": 96,
     "metadata": {},
     "output_type": "execute_result"
    }
   ],
   "source": [
    "cross_val_score(knn, X, Y, cv=5)"
   ]
  },
  {
   "cell_type": "code",
   "execution_count": null,
   "metadata": {
    "collapsed": true
   },
   "outputs": [],
   "source": []
  }
 ],
 "metadata": {
  "kernelspec": {
   "display_name": "Python 3",
   "language": "python",
   "name": "python3"
  },
  "language_info": {
   "codemirror_mode": {
    "name": "ipython",
    "version": 3
   },
   "file_extension": ".py",
   "mimetype": "text/x-python",
   "name": "python",
   "nbconvert_exporter": "python",
   "pygments_lexer": "ipython3",
   "version": "3.6.3"
  }
 },
 "nbformat": 4,
 "nbformat_minor": 2
}
