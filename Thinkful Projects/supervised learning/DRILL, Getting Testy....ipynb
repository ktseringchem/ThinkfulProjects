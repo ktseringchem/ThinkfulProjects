{
 "cells": [
  {
   "cell_type": "markdown",
   "metadata": {},
   "source": [
    "## Does a new supplement help people sleep better?\n",
    "\n",
    "1. __Two versions__: Here the assumption is that there are old supplements so; old vs. new. But it would be a bad idea for costly to add third \"version\", a placebo. It would normalize the data by concedering much of the variables that were not foreseen.<br>\n",
    "2. __sample__: three random groups with age concedered in each group.<br>\n",
    "3. __hypothesis__: improve or not improve sleeping relative to old supplement.<br>\n",
    "4. __Outcome__: lenght of sleep and quality of sleep will determine the success or faliure of the product.\n",
    "5. __Other measured variables__: Age, gender, and non-abnormal sleeping condition. Becasue we are using third group with placebo, it will eliminate lot of the variable we could not account for."
   ]
  },
  {
   "cell_type": "markdown",
   "metadata": {},
   "source": [
    "## Will new uniforms help a gym's business?\n",
    "\n",
    "1. __Two versions__: old vs. new uniforms\n",
    "2. __sample__: before and after the release of the uniforms\n",
    "3. __hypothesis__: will or will not improve the business\n",
    "4. __Outcome(s)__: sale's record\n",
    "5. __Other measured variables__: number of people coming in to the store and type of customer"
   ]
  },
  {
   "cell_type": "markdown",
   "metadata": {},
   "source": [
    "## Will a new homepage improve my online exotic pet rental business?\n",
    "\n",
    "1. __Two versions__: Old and new homepage\n",
    "2. __sample__: Anyone who visits the web. Release both homepages simultaneously and randomize who sees which one\n",
    "3. __hypothesis__: will or will not improve\n",
    "4. __Outcome(s)__: compare number of rental with seeing either homepage\n",
    "5. __Other measured variables__: Duration of stay, time of the day, location, type of pet, age and genter of customer and"
   ]
  },
  {
   "cell_type": "markdown",
   "metadata": {},
   "source": [
    "## If I put 'please read' in the email subject will more people read my emails?\n",
    "\n",
    "1. __Two versions__: with and without \"please read\" in the email\n",
    "2. __sample__: Everyone who recevies the email, divided equally and randomly between the two versions\n",
    "3. __hypothesis__: will or will read\n",
    "4. __Outcome(s)__: Can't know if someone read the email so will have to use opened\n",
    "5. __Other measured variables__: time, locations, age, gender and subject matter."
   ]
  }
 ],
 "metadata": {
  "kernelspec": {
   "display_name": "Python 3",
   "language": "python",
   "name": "python3"
  },
  "language_info": {
   "codemirror_mode": {
    "name": "ipython",
    "version": 3
   },
   "file_extension": ".py",
   "mimetype": "text/x-python",
   "name": "python",
   "nbconvert_exporter": "python",
   "pygments_lexer": "ipython3",
   "version": "3.6.3"
  }
 },
 "nbformat": 4,
 "nbformat_minor": 2
}
