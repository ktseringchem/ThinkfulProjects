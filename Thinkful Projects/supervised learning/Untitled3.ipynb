{
 "cells": [
  {
   "cell_type": "code",
   "execution_count": 1,
   "metadata": {
    "collapsed": true
   },
   "outputs": [],
   "source": [
    "import numpy as np\n",
    "import pandas as pd\n",
    "import matplotlib.pyplot as plt\n",
    "import seaborn as sns\n",
    "%matplotlib inline"
   ]
  },
  {
   "cell_type": "code",
   "execution_count": 2,
   "metadata": {
    "collapsed": true
   },
   "outputs": [],
   "source": [
    "GunViol_DF = pd.read_csv(\"gun-violence-data_01-2013_03-2018.csv\", parse_dates = ['date']).dropna(subset=['participant_type', 'participant_age', \"participant_age_group\"])\n",
    "g = GunViol_DF[0:4]"
   ]
  },
  {
   "cell_type": "code",
   "execution_count": 3,
   "metadata": {},
   "outputs": [
    {
     "ename": "KeyError",
     "evalue": "['Shooter Age(s)']",
     "output_type": "error",
     "traceback": [
      "\u001b[1;31m---------------------------------------------------------------------------\u001b[0m",
      "\u001b[1;31mKeyError\u001b[0m                                  Traceback (most recent call last)",
      "\u001b[1;32m<ipython-input-3-86902fe27cbf>\u001b[0m in \u001b[0;36m<module>\u001b[1;34m()\u001b[0m\n\u001b[0;32m      1\u001b[0m \u001b[0mse\u001b[0m \u001b[1;33m=\u001b[0m \u001b[1;33m[\u001b[0m\u001b[1;33m]\u001b[0m\u001b[1;33m\u001b[0m\u001b[0m\n\u001b[1;32m----> 2\u001b[1;33m \u001b[1;32mfor\u001b[0m \u001b[0mindex\u001b[0m\u001b[1;33m,\u001b[0m \u001b[0mrow\u001b[0m \u001b[1;32min\u001b[0m \u001b[0mGunViol_DF\u001b[0m\u001b[1;33m.\u001b[0m\u001b[0mdropna\u001b[0m\u001b[1;33m(\u001b[0m\u001b[0msubset\u001b[0m\u001b[1;33m=\u001b[0m\u001b[1;33m[\u001b[0m\u001b[1;34m'Shooter Age(s)'\u001b[0m\u001b[1;33m]\u001b[0m\u001b[1;33m)\u001b[0m\u001b[1;33m.\u001b[0m\u001b[0miterrows\u001b[0m\u001b[1;33m(\u001b[0m\u001b[1;33m)\u001b[0m\u001b[1;33m:\u001b[0m\u001b[1;33m\u001b[0m\u001b[0m\n\u001b[0m\u001b[0;32m      3\u001b[0m     \u001b[0mk\u001b[0m \u001b[1;33m=\u001b[0m \u001b[1;34m'\\r'\u001b[0m\u001b[1;33m\u001b[0m\u001b[0m\n\u001b[0;32m      4\u001b[0m     \u001b[0mx\u001b[0m \u001b[1;33m=\u001b[0m \u001b[1;34m' '\u001b[0m\u001b[1;33m.\u001b[0m\u001b[0mjoin\u001b[0m\u001b[1;33m(\u001b[0m\u001b[0mrow\u001b[0m\u001b[1;33m[\u001b[0m\u001b[1;34m\"Shooter Age(s)\"\u001b[0m\u001b[1;33m]\u001b[0m\u001b[1;33m.\u001b[0m\u001b[0msplit\u001b[0m\u001b[1;33m(\u001b[0m\u001b[1;34m'/'\u001b[0m\u001b[1;33m)\u001b[0m\u001b[1;33m)\u001b[0m\u001b[1;33m\u001b[0m\u001b[0m\n\u001b[0;32m      5\u001b[0m     \u001b[0mx\u001b[0m \u001b[1;33m=\u001b[0m \u001b[1;34m' '\u001b[0m\u001b[1;33m.\u001b[0m\u001b[0mjoin\u001b[0m\u001b[1;33m(\u001b[0m\u001b[0mx\u001b[0m\u001b[1;33m.\u001b[0m\u001b[0msplit\u001b[0m\u001b[1;33m(\u001b[0m\u001b[1;34m','\u001b[0m\u001b[1;33m)\u001b[0m\u001b[1;33m)\u001b[0m\u001b[1;33m\u001b[0m\u001b[0m\n",
      "\u001b[1;32m~\\Anaconda3\\lib\\site-packages\\pandas\\core\\frame.py\u001b[0m in \u001b[0;36mdropna\u001b[1;34m(self, axis, how, thresh, subset, inplace)\u001b[0m\n\u001b[0;32m   3050\u001b[0m                 \u001b[0mcheck\u001b[0m \u001b[1;33m=\u001b[0m \u001b[0mindices\u001b[0m \u001b[1;33m==\u001b[0m \u001b[1;33m-\u001b[0m\u001b[1;36m1\u001b[0m\u001b[1;33m\u001b[0m\u001b[0m\n\u001b[0;32m   3051\u001b[0m                 \u001b[1;32mif\u001b[0m \u001b[0mcheck\u001b[0m\u001b[1;33m.\u001b[0m\u001b[0many\u001b[0m\u001b[1;33m(\u001b[0m\u001b[1;33m)\u001b[0m\u001b[1;33m:\u001b[0m\u001b[1;33m\u001b[0m\u001b[0m\n\u001b[1;32m-> 3052\u001b[1;33m                     \u001b[1;32mraise\u001b[0m \u001b[0mKeyError\u001b[0m\u001b[1;33m(\u001b[0m\u001b[0mlist\u001b[0m\u001b[1;33m(\u001b[0m\u001b[0mnp\u001b[0m\u001b[1;33m.\u001b[0m\u001b[0mcompress\u001b[0m\u001b[1;33m(\u001b[0m\u001b[0mcheck\u001b[0m\u001b[1;33m,\u001b[0m \u001b[0msubset\u001b[0m\u001b[1;33m)\u001b[0m\u001b[1;33m)\u001b[0m\u001b[1;33m)\u001b[0m\u001b[1;33m\u001b[0m\u001b[0m\n\u001b[0m\u001b[0;32m   3053\u001b[0m                 \u001b[0magg_obj\u001b[0m \u001b[1;33m=\u001b[0m \u001b[0mself\u001b[0m\u001b[1;33m.\u001b[0m\u001b[0mtake\u001b[0m\u001b[1;33m(\u001b[0m\u001b[0mindices\u001b[0m\u001b[1;33m,\u001b[0m \u001b[0maxis\u001b[0m\u001b[1;33m=\u001b[0m\u001b[0magg_axis\u001b[0m\u001b[1;33m)\u001b[0m\u001b[1;33m\u001b[0m\u001b[0m\n\u001b[0;32m   3054\u001b[0m \u001b[1;33m\u001b[0m\u001b[0m\n",
      "\u001b[1;31mKeyError\u001b[0m: ['Shooter Age(s)']"
     ]
    }
   ],
   "source": [
    "se = []\n",
    "for index, row in GunViol_DF.dropna(subset=['Shooter Age(s)']).iterrows():\n",
    "    k = '\\r'\n",
    "    x = ' '.join(row[\"Shooter Age(s)\"].split('/'))\n",
    "    x = ' '.join(x.split(','))\n",
    "    x = ' '.join(x.split(k))\n",
    "    x = x.split(' ')\n",
    "    se += x\n",
    "\n",
    "se = pd.DataFrame(se)\n",
    "se.columns = ['Age']\n",
    "se2 = se[\"Age\"] = se[se[\"Age\"] != \"+\"]\n",
    "se2 = se[\"Age\"] = se[se[\"Age\"] != \"Unknown\"]\n",
    "se2 = se[\"Age\"] = se[se[\"Age\"] != \"more\"]\n",
    "se2 = se.sort_values(\"Age\")\n",
    "se2 = se.drop([222, 219, 218, 223, 216]).dropna()\n",
    "se2 = pd.to_numeric(se2[\"Age\"])\n",
    "se2 = pd.DataFrame(se2)\n",
    "se2.columns = ['Age']"
   ]
  },
  {
   "cell_type": "code",
   "execution_count": null,
   "metadata": {
    "collapsed": true
   },
   "outputs": [],
   "source": [
    "f, ax = plt.subplots(figsize=(16, 6))\n",
    "sns.countplot(data=se2, x = 'Age')\n",
    "plt.title('NUMBER OF SHOOTER BY AGE',fontsize=20)\n",
    "plt.show()"
   ]
  },
  {
   "cell_type": "code",
   "execution_count": null,
   "metadata": {
    "collapsed": true
   },
   "outputs": [],
   "source": [
    "\n",
    "se2 = pd.DataFrame()\n",
    "selist2 = []\n",
    "for index, row in GunViol_DF.iterrows():\n",
    "        \n",
    "    age_group = ''.join(row[\"participant_age_group\"].split('::'))\n",
    "    age_group = ''.join(age_group.split('||'))\n",
    "    age_group = ''.join([i for i in age_group if not i.isdigit()])\n",
    "    age_group = ''.join(age_group.split('+'))\n",
    "    age_group = age_group.split(' ')\n",
    "    selist2 += age_group[0:-1]\n",
    "    \n",
    "se2 = pd.DataFrame(selist2)\n",
    "se2.columns = [\"Age Group\"]"
   ]
  },
  {
   "cell_type": "code",
   "execution_count": 100,
   "metadata": {},
   "outputs": [
    {
     "ename": "MemoryError",
     "evalue": "",
     "output_type": "error",
     "traceback": [
      "\u001b[1;31m---------------------------------------------------------------------------\u001b[0m",
      "\u001b[1;31mMemoryError\u001b[0m                               Traceback (most recent call last)",
      "\u001b[1;32m<ipython-input-100-6b2c7d5a5b36>\u001b[0m in \u001b[0;36m<module>\u001b[1;34m()\u001b[0m\n\u001b[0;32m      6\u001b[0m         \u001b[0ml\u001b[0m \u001b[1;33m=\u001b[0m \u001b[0mi\u001b[0m\u001b[1;33m.\u001b[0m\u001b[0msplit\u001b[0m\u001b[1;33m(\u001b[0m\u001b[1;34m'::'\u001b[0m\u001b[1;33m)\u001b[0m\u001b[1;33m[\u001b[0m\u001b[1;36m1\u001b[0m\u001b[1;33m]\u001b[0m\u001b[1;33m\u001b[0m\u001b[0m\n\u001b[0;32m      7\u001b[0m         \u001b[0mselist3\u001b[0m\u001b[1;33m.\u001b[0m\u001b[0mappend\u001b[0m\u001b[1;33m(\u001b[0m\u001b[0ml\u001b[0m\u001b[1;33m)\u001b[0m\u001b[1;33m\u001b[0m\u001b[0m\n\u001b[1;32m----> 8\u001b[1;33m     \u001b[0mselist3\u001b[0m \u001b[1;33m+=\u001b[0m \u001b[0mselist3\u001b[0m\u001b[1;33m\u001b[0m\u001b[0m\n\u001b[0m\u001b[0;32m      9\u001b[0m \u001b[0mse3\u001b[0m \u001b[1;33m=\u001b[0m \u001b[0mpd\u001b[0m\u001b[1;33m.\u001b[0m\u001b[0mDataFrame\u001b[0m\u001b[1;33m(\u001b[0m\u001b[0mselist3\u001b[0m\u001b[1;33m)\u001b[0m\u001b[1;33m\u001b[0m\u001b[0m\n\u001b[0;32m     10\u001b[0m \u001b[0mse3\u001b[0m\u001b[1;33m.\u001b[0m\u001b[0mcolumns\u001b[0m \u001b[1;33m=\u001b[0m \u001b[1;33m[\u001b[0m\u001b[1;34m\"Age\"\u001b[0m\u001b[1;33m]\u001b[0m\u001b[1;33m\u001b[0m\u001b[0m\n",
      "\u001b[1;31mMemoryError\u001b[0m: "
     ]
    }
   ],
   "source": [
    "se3 = pd.DataFrame()\n",
    "selist3 = []\n",
    "for index, row in GunViol_DF.iterrows():\n",
    "    x = row[\"participant_age\"].split('||')\n",
    "    for i in x:\n",
    "        l = i.split('::')[1]\n",
    "        selist3.append(l)\n",
    "    selist3 += selist3\n",
    "se3 = pd.DataFrame(selist3)\n",
    "se3.columns = [\"Age\"]\n",
    "se3"
   ]
  },
  {
   "cell_type": "code",
   "execution_count": null,
   "metadata": {
    "collapsed": true
   },
   "outputs": [],
   "source": [
    "se4 = pd.concat([se, se2], axis=1)\n",
    "Acount = 0\n",
    "Tcount = 0\n",
    "\n",
    "for index, row in se4.iterrows():\n",
    "    if row['Types'] == \"Subject-Suspect\":\n",
    "        if row[\"Age Group\"] == 'Adult':\n",
    "            Acount += 1\n",
    "        else:\n",
    "            Tcount += 1\n",
    "Acount"
   ]
  },
  {
   "cell_type": "code",
   "execution_count": null,
   "metadata": {
    "collapsed": true
   },
   "outputs": [],
   "source": [
    "Par_age_type = []\n",
    "se3 = pd.DataFrame()\n",
    "Acount = 0\n",
    "Tcount = 0\n",
    "\n",
    "for index, row in GunViol_DF.iterrows():\n",
    "    parAgeGroup = []\n",
    "    k = []\n",
    "    \n",
    "    se = pd.DataFrame(columns=[\"Types\"])\n",
    "    se2 = pd.DataFrame(columns=[\"Age Group\"])\n",
    "    \n",
    "    x = ''.join(row[\"participant_type\"].split('::'))\n",
    "    x = ' '.join(x.split('||'))\n",
    "    x = ''.join([i for i in x if not i.isdigit()])\n",
    "    x = x.split(' ')\n",
    "    se[\"Types\"] = x\n",
    "    \n",
    "    age_group = ''.join(row[\"participant_age_group\"].split('::'))\n",
    "    age_group = ''.join(age_group.split('||'))\n",
    "    age_group = ''.join([i for i in age_group if not i.isdigit()])\n",
    "    age_group = ''.join(age_group.split('+'))\n",
    "    age_group = age_group.split(' ')\n",
    "    se2[\"Age Group\"] = age_group[0:-1]\n",
    "    \n",
    "    se3 = pd.concat([se, se2], axis=1)\n",
    "    \n",
    "    k = se3.Types[se3.Types == \"Subject-Suspect\"].index.tolist()\n",
    "    for i in k:\n",
    "        if se3[\"Age Group\"][i] == 'Adult':\n",
    "            Acount += 1\n",
    "        else:\n",
    "            Tcount += 1\n",
    "se3"
   ]
  }
 ],
 "metadata": {
  "kernelspec": {
   "display_name": "Python 3",
   "language": "python",
   "name": "python3"
  },
  "language_info": {
   "codemirror_mode": {
    "name": "ipython",
    "version": 3
   },
   "file_extension": ".py",
   "mimetype": "text/x-python",
   "name": "python",
   "nbconvert_exporter": "python",
   "pygments_lexer": "ipython3",
   "version": "3.6.3"
  }
 },
 "nbformat": 4,
 "nbformat_minor": 2
}
