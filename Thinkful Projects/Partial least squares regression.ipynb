{
 "cells": [
  {
   "cell_type": "code",
   "execution_count": 1,
   "metadata": {
    "collapsed": true
   },
   "outputs": [],
   "source": [
    "import math\n",
    "import warnings\n",
    "\n",
    "from matplotlib import pyplot as plt\n",
    "import numpy as np\n",
    "import pandas as pd\n",
    "import seaborn as sns\n",
    "from sklearn import linear_model\n",
    "from sklearn.cross_decomposition import PLSRegression\n",
    "\n",
    "%matplotlib inline\n",
    "sns.set_style('white')\n",
    "\n",
    "# Suppress annoying harmless error.\n",
    "warnings.filterwarnings(\n",
    "    action=\"ignore\",\n",
    "    module=\"scipy\",\n",
    "    message=\"^internal gelsd\"\n",
    ")"
   ]
  },
  {
   "cell_type": "code",
   "execution_count": 2,
   "metadata": {},
   "outputs": [
    {
     "data": {
      "image/png": "[encoded data removed]",
      "text/plain": [
       "<matplotlib.figure.Figure at 0x22cee0cd198>"
      ]
     },
     "metadata": {},
     "output_type": "display_data"
    }
   ],
   "source": [
    "# Number of datapoints in outcome.\n",
    "n = 1000\n",
    "\n",
    "# Number of features.\n",
    "p = 10\n",
    "\n",
    "# Create random normally distributed data for parameters.\n",
    "X = np.random.normal(size=n * p).reshape((n, p))\n",
    "\n",
    "# Create normally distributed outcome related to parameters but with noise.\n",
    "y = X[:, 0] + 2 * X[:, 1] + np.random.normal(size=n * 1) + 5\n",
    "\n",
    "\n",
    "\n",
    "# Check out correlations. First column is the outcome.\n",
    "f, ax = plt.subplots(figsize=(12, 9))\n",
    "corrmat = pd.DataFrame(np.insert(X, 0, y, axis=1)).corr()\n",
    "\n",
    "# Draw the heatmap using seaborn.\n",
    "sns.heatmap(corrmat, vmax=.8, square=True)\n",
    "plt.show()"
   ]
  },
  {
   "cell_type": "code",
   "execution_count": 3,
   "metadata": {},
   "outputs": [
    {
     "name": "stdout",
     "output_type": "stream",
     "text": [
      "R-squared regression: 0.829199793981\n",
      "R-squared PLSR: 0.829199610237\n"
     ]
    },
    {
     "data": {
      "image/png": "[encoded data removed]",
      "text/plain": [
       "<matplotlib.figure.Figure at 0x22cf1e6b358>"
      ]
     },
     "metadata": {},
     "output_type": "display_data"
    }
   ],
   "source": [
    "# Fit a linear model with all 10 features.\n",
    "regr = linear_model.LinearRegression()\n",
    "regr.fit(X, y)\n",
    "\n",
    "# Save predicted values.\n",
    "Y_pred = regr.predict(X)\n",
    "print('R-squared regression:', regr.score(X, y))\n",
    "\n",
    "# Fit a linear model using Partial Least Squares Regression.\n",
    "# Reduce feature space to 3 dimensions.\n",
    "pls1 = PLSRegression(n_components=3)\n",
    "\n",
    "# Reduce X to R(X) and regress on y.\n",
    "pls1.fit(X, y)\n",
    "\n",
    "# Save predicted values.\n",
    "Y_PLS_pred = pls1.predict(X)\n",
    "print('R-squared PLSR:', pls1.score(X, y))\n",
    "\n",
    "# Compare the predictions of the two models\n",
    "plt.scatter(Y_pred,Y_PLS_pred) \n",
    "plt.xlabel('Predicted by original 10 features')\n",
    "plt.ylabel('Predicted by 3 features')\n",
    "plt.title('Comparing LR and PLSR predictions')\n",
    "plt.show()"
   ]
  },
  {
   "cell_type": "code",
   "execution_count": 5,
   "metadata": {},
   "outputs": [
    {
     "name": "stdout",
     "output_type": "stream",
     "text": [
      "R-squared PLSR = 3: 0.829199610237\n",
      "R-squared PLSR = 5: 0.829199793978\n",
      "R-squared PLSR = 6: 0.829199793981\n",
      "R-squared PLSR = 8: 0.829199793981\n"
     ]
    }
   ],
   "source": [
    "# Your PLSR models here.\n",
    "pls2 = PLSRegression(n_components=5)\n",
    "pls3 = PLSRegression(n_components=7)\n",
    "pls4 = PLSRegression(n_components=8)\n",
    "# Reduce X to R(X) and regress on y.\n",
    "pls1.fit(X, y)\n",
    "pls2.fit(X, y)\n",
    "pls3.fit(X, y)\n",
    "pls4.fit(X, y)\n",
    "# Save predicted values.\n",
    "Y_PLS_pred = pls1.predict(X)\n",
    "print('R-squared PLSR = 3:', pls1.score(X, y))\n",
    "print('R-squared PLSR = 5:', pls2.score(X, y))\n",
    "print('R-squared PLSR = 6:', pls3.score(X, y))\n",
    "print('R-squared PLSR = 8:', pls4.score(X, y))"
   ]
  },
  {
   "cell_type": "code",
   "execution_count": null,
   "metadata": {
    "collapsed": true
   },
   "outputs": [],
   "source": []
  }
 ],
 "metadata": {
  "kernelspec": {
   "display_name": "Python 3",
   "language": "python",
   "name": "python3"
  },
  "language_info": {
   "codemirror_mode": {
    "name": "ipython",
    "version": 3
   },
   "file_extension": ".py",
   "mimetype": "text/x-python",
   "name": "python",
   "nbconvert_exporter": "python",
   "pygments_lexer": "ipython3",
   "version": "3.6.3"
  }
 },
 "nbformat": 4,
 "nbformat_minor": 2
}
