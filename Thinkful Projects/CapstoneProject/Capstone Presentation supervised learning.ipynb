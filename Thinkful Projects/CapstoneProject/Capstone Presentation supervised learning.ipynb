{
 "cells": [
  {
   "cell_type": "code",
   "execution_count": 92,
   "metadata": {
    "collapsed": true
   },
   "outputs": [],
   "source": [
    "import numpy as np\n",
    "import pandas as pd\n",
    "import seaborn as sns\n",
    "from sklearn.svm import SVR\n",
    "from sklearn.svm import SVC\n",
    "from sklearn import neighbors\n",
    "import matplotlib.pyplot as plt\n",
    "from sklearn.decomposition import PCA\n",
    "import statsmodels.formula.api as smf\n",
    "from sklearn.preprocessing import scale\n",
    "from sklearn.metrics import mean_squared_error\n",
    "from sklearn.preprocessing import StandardScaler\n",
    "from sklearn.model_selection import cross_val_score\n",
    "from sklearn.model_selection import train_test_split\n",
    "from sklearn.cross_decomposition import PLSRegression\n",
    "from sklearn.linear_model import Ridge, RidgeCV, Lasso, LassoCV"
   ]
  },
  {
   "cell_type": "markdown",
   "metadata": {
    "scrolled": true
   },
   "source": [
    "auto_mpg_df = pd.read_table('auto-mpg.data-original.csv', delimiter=',').dropna().sample(frac=1) #.reset_index(drop=True)\n",
    "auto_mpg_df.to_csv('auto-mpg.data-original2.csv')\n",
    "auto_mpg_df.head()"
   ]
  },
  {
   "cell_type": "code",
   "execution_count": 55,
   "metadata": {
    "slideshow": {
     "slide_type": "slide"
    }
   },
   "outputs": [
    {
     "data": {
      "text/html": [
       "<div>\n",
       "<style>\n",
       "    .dataframe thead tr:only-child th {\n",
       "        text-align: right;\n",
       "    }\n",
       "\n",
       "    .dataframe thead th {\n",
       "        text-align: left;\n",
       "    }\n",
       "\n",
       "    .dataframe tbody tr th {\n",
       "        vertical-align: top;\n",
       "    }\n",
       "</style>\n",
       "<table border=\"1\" class=\"dataframe\">\n",
       "  <thead>\n",
       "    <tr style=\"text-align: right;\">\n",
       "      <th></th>\n",
       "      <th>MPG</th>\n",
       "      <th>Cylinders</th>\n",
       "      <th>Displacement</th>\n",
       "      <th>horsepower</th>\n",
       "      <th>Weight</th>\n",
       "      <th>Acceleration</th>\n",
       "      <th>Model_Year</th>\n",
       "      <th>Origin</th>\n",
       "      <th>Car Name</th>\n",
       "    </tr>\n",
       "  </thead>\n",
       "  <tbody>\n",
       "    <tr>\n",
       "      <th>0</th>\n",
       "      <td>12.0</td>\n",
       "      <td>8</td>\n",
       "      <td>400.0</td>\n",
       "      <td>167.0</td>\n",
       "      <td>4906</td>\n",
       "      <td>12.5</td>\n",
       "      <td>73</td>\n",
       "      <td>1</td>\n",
       "      <td>ford country</td>\n",
       "    </tr>\n",
       "    <tr>\n",
       "      <th>1</th>\n",
       "      <td>28.0</td>\n",
       "      <td>4</td>\n",
       "      <td>116.0</td>\n",
       "      <td>90.0</td>\n",
       "      <td>2123</td>\n",
       "      <td>14.0</td>\n",
       "      <td>71</td>\n",
       "      <td>2</td>\n",
       "      <td>opel 1900</td>\n",
       "    </tr>\n",
       "    <tr>\n",
       "      <th>2</th>\n",
       "      <td>39.4</td>\n",
       "      <td>4</td>\n",
       "      <td>85.0</td>\n",
       "      <td>70.0</td>\n",
       "      <td>2070</td>\n",
       "      <td>18.6</td>\n",
       "      <td>78</td>\n",
       "      <td>3</td>\n",
       "      <td>datsun b210 gx</td>\n",
       "    </tr>\n",
       "    <tr>\n",
       "      <th>3</th>\n",
       "      <td>23.8</td>\n",
       "      <td>4</td>\n",
       "      <td>151.0</td>\n",
       "      <td>85.0</td>\n",
       "      <td>2855</td>\n",
       "      <td>17.6</td>\n",
       "      <td>78</td>\n",
       "      <td>1</td>\n",
       "      <td>oldsmobile starfire sx</td>\n",
       "    </tr>\n",
       "    <tr>\n",
       "      <th>4</th>\n",
       "      <td>23.0</td>\n",
       "      <td>4</td>\n",
       "      <td>140.0</td>\n",
       "      <td>78.0</td>\n",
       "      <td>2592</td>\n",
       "      <td>18.5</td>\n",
       "      <td>75</td>\n",
       "      <td>1</td>\n",
       "      <td>pontiac astro</td>\n",
       "    </tr>\n",
       "  </tbody>\n",
       "</table>\n",
       "</div>"
      ],
      "text/plain": [
       "    MPG  Cylinders  Displacement  horsepower  Weight  Acceleration  \\\n",
       "0  12.0          8         400.0       167.0    4906          12.5   \n",
       "1  28.0          4         116.0        90.0    2123          14.0   \n",
       "2  39.4          4          85.0        70.0    2070          18.6   \n",
       "3  23.8          4         151.0        85.0    2855          17.6   \n",
       "4  23.0          4         140.0        78.0    2592          18.5   \n",
       "\n",
       "   Model_Year  Origin                Car Name  \n",
       "0          73       1            ford country  \n",
       "1          71       2               opel 1900  \n",
       "2          78       3          datsun b210 gx  \n",
       "3          78       1  oldsmobile starfire sx  \n",
       "4          75       1           pontiac astro  "
      ]
     },
     "execution_count": 55,
     "metadata": {},
     "output_type": "execute_result"
    }
   ],
   "source": [
    "auto_mpg_df = pd.read_table('auto-mpg.data-original2.csv', delimiter=',')\n",
    "auto_mpg_df = auto_mpg_df.drop('Unnamed: 0', 1)\n",
    "auto_mpg_df.head()"
   ]
  },
  {
   "cell_type": "code",
   "execution_count": 56,
   "metadata": {
    "collapsed": true
   },
   "outputs": [],
   "source": [
    "Origin = pd.DataFrame(auto_mpg_df['Origin'].where(auto_mpg_df['Origin'] != 1, 'North America'))\n",
    "Origin = Origin.where(Origin != 2, 'Europe')\n",
    "Origin = Origin.where(Origin != 3, 'Asia')\n",
    "auto_mpg_df2 = auto_mpg_df.drop('Cylinders', 1)\n",
    "auto_mpg_df2['Origin'] = Origin "
   ]
  },
  {
   "cell_type": "markdown",
   "metadata": {
    "scrolled": true
   },
   "source": [
    "sns.pairplot(auto_mpg_df2, kind='scatter', hue='Origin', plot_kws=dict(s=80, edgecolor=\"white\", linewidth=2.5))\n",
    "plt.savefig('autompg_expolatory.png', bbox_inches='tight')\n",
    "plt.show()"
   ]
  },
  {
   "cell_type": "code",
   "execution_count": 57,
   "metadata": {
    "collapsed": true
   },
   "outputs": [],
   "source": [
    "auto_mpg_df = auto_mpg_df.drop([121, 129, 204])\n",
    "auto_mpg_df['Engin'] = auto_mpg_df['Displacement'] * auto_mpg_df['Cylinders']\n",
    "auto_mpg_df = auto_mpg_df.drop(['Weight', 'Displacement'], 1)"
   ]
  },
  {
   "cell_type": "code",
   "execution_count": 58,
   "metadata": {
    "collapsed": true
   },
   "outputs": [],
   "source": [
    "#applying a non-linear transformation function to a feature\n",
    "#auto_mpg_df['Displacement'] = np.log(auto_mpg_df['Displacement'])\n",
    "#auto_mpg_df['Weight'] = np.log(auto_mpg_df['Weight'])\n",
    "auto_mpg_df['MPG'] = np.log(auto_mpg_df['MPG'])\n",
    "auto_mpg_df['Engin'] = np.log(auto_mpg_df['Engin'])\n",
    "auto_mpg_df['horsepower'] = np.log(auto_mpg_df['horsepower'])"
   ]
  },
  {
   "cell_type": "markdown",
   "metadata": {},
   "source": [
    "plt.subplots(figsize=(25,20)) \n",
    "sns.heatmap(auto_mpg_df.corr(), annot=True, vmin=0, vmax=1) \n",
    "plt.show()"
   ]
  },
  {
   "cell_type": "code",
   "execution_count": 59,
   "metadata": {
    "collapsed": true
   },
   "outputs": [],
   "source": [
    "#Drop all the cylinder 3 and 5 data because we don't have enough of them to make good prediction for them\n",
    "cy5 = auto_mpg_df[auto_mpg_df['Cylinders'] == 5]\n",
    "cy3 = auto_mpg_df[auto_mpg_df['Cylinders'] == 3]\n",
    "#my71 = auto_mpg_df[auto_mpg_df['Model_Year'] == 71]\n",
    "cytodrop = pd.concat([cy3, cy5])\n",
    "cyindex = cytodrop.index.values\n",
    "auto_mpg_df = auto_mpg_df.drop(cyindex)"
   ]
  },
  {
   "cell_type": "code",
   "execution_count": 60,
   "metadata": {
    "scrolled": true
   },
   "outputs": [
    {
     "data": {
      "text/html": [
       "<div>\n",
       "<style>\n",
       "    .dataframe thead tr:only-child th {\n",
       "        text-align: right;\n",
       "    }\n",
       "\n",
       "    .dataframe thead th {\n",
       "        text-align: left;\n",
       "    }\n",
       "\n",
       "    .dataframe tbody tr th {\n",
       "        vertical-align: top;\n",
       "    }\n",
       "</style>\n",
       "<table border=\"1\" class=\"dataframe\">\n",
       "  <thead>\n",
       "    <tr style=\"text-align: right;\">\n",
       "      <th></th>\n",
       "      <th>MPG</th>\n",
       "      <th>horsepower</th>\n",
       "      <th>Acceleration</th>\n",
       "      <th>Model_Year</th>\n",
       "      <th>Engin</th>\n",
       "      <th>4</th>\n",
       "      <th>6</th>\n",
       "      <th>8</th>\n",
       "      <th>1</th>\n",
       "      <th>2</th>\n",
       "      <th>3</th>\n",
       "    </tr>\n",
       "  </thead>\n",
       "  <tbody>\n",
       "    <tr>\n",
       "      <th>0</th>\n",
       "      <td>2.484907</td>\n",
       "      <td>5.117994</td>\n",
       "      <td>12.5</td>\n",
       "      <td>73</td>\n",
       "      <td>8.070906</td>\n",
       "      <td>0</td>\n",
       "      <td>0</td>\n",
       "      <td>1</td>\n",
       "      <td>1</td>\n",
       "      <td>0</td>\n",
       "      <td>0</td>\n",
       "    </tr>\n",
       "    <tr>\n",
       "      <th>1</th>\n",
       "      <td>3.332205</td>\n",
       "      <td>4.499810</td>\n",
       "      <td>14.0</td>\n",
       "      <td>71</td>\n",
       "      <td>6.139885</td>\n",
       "      <td>1</td>\n",
       "      <td>0</td>\n",
       "      <td>0</td>\n",
       "      <td>0</td>\n",
       "      <td>1</td>\n",
       "      <td>0</td>\n",
       "    </tr>\n",
       "    <tr>\n",
       "      <th>2</th>\n",
       "      <td>3.673766</td>\n",
       "      <td>4.248495</td>\n",
       "      <td>18.6</td>\n",
       "      <td>78</td>\n",
       "      <td>5.828946</td>\n",
       "      <td>1</td>\n",
       "      <td>0</td>\n",
       "      <td>0</td>\n",
       "      <td>0</td>\n",
       "      <td>0</td>\n",
       "      <td>1</td>\n",
       "    </tr>\n",
       "    <tr>\n",
       "      <th>3</th>\n",
       "      <td>3.169686</td>\n",
       "      <td>4.442651</td>\n",
       "      <td>17.6</td>\n",
       "      <td>78</td>\n",
       "      <td>6.403574</td>\n",
       "      <td>1</td>\n",
       "      <td>0</td>\n",
       "      <td>0</td>\n",
       "      <td>1</td>\n",
       "      <td>0</td>\n",
       "      <td>0</td>\n",
       "    </tr>\n",
       "    <tr>\n",
       "      <th>4</th>\n",
       "      <td>3.135494</td>\n",
       "      <td>4.356709</td>\n",
       "      <td>18.5</td>\n",
       "      <td>75</td>\n",
       "      <td>6.327937</td>\n",
       "      <td>1</td>\n",
       "      <td>0</td>\n",
       "      <td>0</td>\n",
       "      <td>1</td>\n",
       "      <td>0</td>\n",
       "      <td>0</td>\n",
       "    </tr>\n",
       "  </tbody>\n",
       "</table>\n",
       "</div>"
      ],
      "text/plain": [
       "        MPG  horsepower  Acceleration  Model_Year     Engin  4  6  8  1  2  3\n",
       "0  2.484907    5.117994          12.5          73  8.070906  0  0  1  1  0  0\n",
       "1  3.332205    4.499810          14.0          71  6.139885  1  0  0  0  1  0\n",
       "2  3.673766    4.248495          18.6          78  5.828946  1  0  0  0  0  1\n",
       "3  3.169686    4.442651          17.6          78  6.403574  1  0  0  1  0  0\n",
       "4  3.135494    4.356709          18.5          75  6.327937  1  0  0  1  0  0"
      ]
     },
     "execution_count": 60,
     "metadata": {},
     "output_type": "execute_result"
    }
   ],
   "source": [
    "# Create a set of dummy variables from the sex variable\n",
    "df_Cylinders = pd.get_dummies(auto_mpg_df['Cylinders'])\n",
    "#df_Model_Year = pd.get_dummies(auto_mpg_df['Model_Year'])\n",
    "df_Origin = pd.get_dummies(auto_mpg_df['Origin'])\n",
    "\n",
    "# Join the dummy variables to the main dataframe\n",
    "auto_mpg_df = pd.concat([auto_mpg_df, df_Cylinders, df_Origin], axis=1)\n",
    "auto_mpg_df = auto_mpg_df.drop(['Cylinders', 'Origin'], 1).drop('Car Name', 1)\n",
    "auto_mpg_df.head()"
   ]
  },
  {
   "cell_type": "code",
   "execution_count": 61,
   "metadata": {
    "collapsed": true
   },
   "outputs": [],
   "source": [
    "X = auto_mpg_df.drop('MPG', 1)\n",
    "y = auto_mpg_df['MPG']\n",
    "\n",
    "X_train2, X_test2, y_train2, y_test2 = train_test_split(X, y, test_size=0.2, random_state=20)"
   ]
  },
  {
   "cell_type": "markdown",
   "metadata": {},
   "source": [
    "# OLS regression"
   ]
  },
  {
   "cell_type": "code",
   "execution_count": 62,
   "metadata": {},
   "outputs": [
    {
     "name": "stdout",
     "output_type": "stream",
     "text": [
      "\n",
      "Coefficients: \n",
      " [-0.50983001 -0.02838541  0.02662433 -0.19960601 -0.02956603 -0.01546803\n",
      "  0.04503406 -0.02531642 -0.00722392  0.03254034]\n",
      "\n",
      "Intercept: \n",
      " 5.23265505879\n",
      "\n",
      "R-squared:\n",
      "0.881677325371\n"
     ]
    },
    {
     "data": {
      "text/plain": [
       "array([ 0.86378288,  0.88234551,  0.8837266 ,  0.88735642,  0.90444042])"
      ]
     },
     "execution_count": 62,
     "metadata": {},
     "output_type": "execute_result"
    }
   ],
   "source": [
    "regr = linear_model.LinearRegression()\n",
    "regr.fit(X_train2, y_train2)\n",
    "\n",
    "# Inspect the results.\n",
    "print('\\nCoefficients: \\n', regr.coef_)\n",
    "print('\\nIntercept: \\n', regr.intercept_)\n",
    "print('\\nR-squared:')\n",
    "print(regr.score(X_test2, y_test2))\n",
    "\n",
    "#Looks very good\n",
    "k = cross_val_score(regr, X, y, cv=5)\n",
    "k.sort()\n",
    "k"
   ]
  },
  {
   "cell_type": "code",
   "execution_count": 63,
   "metadata": {},
   "outputs": [
    {
     "data": {
      "text/plain": [
       "0.040657540952818594"
      ]
     },
     "execution_count": 63,
     "metadata": {},
     "output_type": "execute_result"
    }
   ],
   "source": [
    "max(k) -min(k)"
   ]
  },
  {
   "cell_type": "code",
   "execution_count": 64,
   "metadata": {},
   "outputs": [
    {
     "data": {
      "image/png": "[encoded data removed]",
      "text/plain": [
       "<matplotlib.figure.Figure at 0x1c4841f1f98>"
      ]
     },
     "metadata": {},
     "output_type": "display_data"
    }
   ],
   "source": [
    "# Extract predicted values.\n",
    "predicted = regr.predict(X).ravel()\n",
    "actual = y\n",
    "\n",
    "# Calculate the error, also called the residual.\n",
    "residual = actual - predicted\n",
    "\n",
    "# This looks a bit concerning.\n",
    "plt.hist(residual)\n",
    "plt.title('Residual counts')\n",
    "plt.xlabel('Residual')\n",
    "plt.ylabel('Count')\n",
    "plt.show()"
   ]
  },
  {
   "cell_type": "code",
   "execution_count": 65,
   "metadata": {},
   "outputs": [
    {
     "data": {
      "image/png": "[encoded data removed]",
      "text/plain": [
       "<matplotlib.figure.Figure at 0x1c484239748>"
      ]
     },
     "metadata": {},
     "output_type": "display_data"
    },
    {
     "name": "stdout",
     "output_type": "stream",
     "text": [
      "0.790230745568\n"
     ]
    }
   ],
   "source": [
    "plt.scatter(predicted, residual)\n",
    "plt.xlabel('Predicted')\n",
    "plt.ylabel('Residual')\n",
    "plt.axhline(y=0)\n",
    "plt.title('Residual vs. Predicted')\n",
    "plt.show()\n",
    "print(max(residual)-min(residual))"
   ]
  },
  {
   "cell_type": "markdown",
   "metadata": {},
   "source": [
    "# Lasso regression"
   ]
  },
  {
   "cell_type": "code",
   "execution_count": 103,
   "metadata": {},
   "outputs": [
    {
     "name": "stdout",
     "output_type": "stream",
     "text": [
      "R² for the model with few features:\n",
      "0.881614005923\n",
      "\n",
      "Parameter estimates for the model with few features:\n",
      "[ -5.09229141e-01  -2.82578466e-02   2.66245480e-02  -1.90528515e-01\n",
      "  -4.28641017e-03   0.00000000e+00   5.37157502e-02  -1.90696126e-02\n",
      "  -0.00000000e+00   3.97504019e-02   5.14075517e+00]\n",
      "\n"
     ]
    },
    {
     "data": {
      "text/plain": [
       "array([ 0.86437477,  0.88152292,  0.8842141 ,  0.8874949 ,  0.90450763])"
      ]
     },
     "execution_count": 103,
     "metadata": {},
     "output_type": "execute_result"
    }
   ],
   "source": [
    "lass = linear_model.Lasso(alpha=8.0228537978002239e-05)\n",
    "lass.fit(X_train2, y_train2)\n",
    "\n",
    "print('R² for the model with few features:')\n",
    "print(lass.score(X_test2, y_test2))\n",
    "origparams = np.append(lass.coef_, lass.intercept_)\n",
    "print('\\nParameter estimates for the model with few features:')\n",
    "print(str(origparams) + '\\n')\n",
    "\n",
    "k = cross_val_score(lass, X, y, cv=5)\n",
    "k.sort()\n",
    "k"
   ]
  },
  {
   "cell_type": "code",
   "execution_count": 90,
   "metadata": {},
   "outputs": [
    {
     "data": {
      "image/png": "[encoded data removed]",
      "text/plain": [
       "<matplotlib.figure.Figure at 0x1c484bf8160>"
      ]
     },
     "metadata": {},
     "output_type": "display_data"
    }
   ],
   "source": [
    "lasso = Lasso(max_iter = 10000, normalize = True)\n",
    "coefs = []\n",
    "\n",
    "for a in alphas:\n",
    "    lasso.set_params(alpha=a)\n",
    "    lasso.fit(scale(X_train2), y_train2)\n",
    "    coefs.append(lasso.coef_)\n",
    "    \n",
    "ax = plt.gca()\n",
    "ax.plot(alphas*2, coefs)\n",
    "ax.set_xscale('log')\n",
    "plt.axis('tight')\n",
    "plt.xlabel('alpha')\n",
    "plt.ylabel('weights')\n",
    "plt.show()"
   ]
  },
  {
   "cell_type": "code",
   "execution_count": 94,
   "metadata": {
    "scrolled": true
   },
   "outputs": [
    {
     "data": {
      "text/plain": [
       "0.0128035557930441"
      ]
     },
     "execution_count": 94,
     "metadata": {},
     "output_type": "execute_result"
    }
   ],
   "source": [
    "lassocv = LassoCV(alphas = None, cv = 10, max_iter = 100000, normalize = True)\n",
    "lassocv.fit(X_train2, y_train2)\n",
    "\n",
    "lasso.set_params(alpha=lassocv.alpha_)\n",
    "lasso.fit(X_train2, y_train2)\n",
    "mean_squared_error(y, lasso.predict(X))"
   ]
  },
  {
   "cell_type": "code",
   "execution_count": 104,
   "metadata": {},
   "outputs": [
    {
     "data": {
      "text/plain": [
       "0.040132858607863642"
      ]
     },
     "execution_count": 104,
     "metadata": {},
     "output_type": "execute_result"
    }
   ],
   "source": [
    "max(k) -min(k)"
   ]
  },
  {
   "cell_type": "code",
   "execution_count": 105,
   "metadata": {},
   "outputs": [
    {
     "data": {
      "image/png": "[encoded data removed]",
      "text/plain": [
       "<matplotlib.figure.Figure at 0x1c482e060b8>"
      ]
     },
     "metadata": {},
     "output_type": "display_data"
    }
   ],
   "source": [
    "# Extract predicted values.\n",
    "predicted = lassfit.predict(X).ravel()\n",
    "actual = y\n",
    "\n",
    "# Calculate the error, also called the residual.\n",
    "residual = actual - predicted\n",
    "\n",
    "# This looks a bit concerning.\n",
    "plt.hist(residual)\n",
    "plt.title('Residual counts')\n",
    "plt.xlabel('Residual')\n",
    "plt.ylabel('Count')\n",
    "plt.show()"
   ]
  },
  {
   "cell_type": "code",
   "execution_count": 106,
   "metadata": {},
   "outputs": [
    {
     "data": {
      "image/png": "[encoded data removed]",
      "text/plain": [
       "<matplotlib.figure.Figure at 0x1c48295e940>"
      ]
     },
     "metadata": {},
     "output_type": "display_data"
    },
    {
     "name": "stdout",
     "output_type": "stream",
     "text": [
      "1.32894328717\n"
     ]
    }
   ],
   "source": [
    "plt.scatter(predicted, residual)\n",
    "plt.xlabel('Predicted')\n",
    "plt.ylabel('Residual')\n",
    "plt.axhline(y=0)\n",
    "plt.title('Residual vs. Predicted')\n",
    "plt.show()\n",
    "print(max(residual)-min(residual))"
   ]
  },
  {
   "cell_type": "markdown",
   "metadata": {},
   "source": [
    "alphanum = np.arange(0.05, 2, 0.05)\n",
    "r2 = []\n",
    "r2max = []\n",
    "for x in alphanum:\n",
    "    lassloop = linear_model.Lasso(alpha=x)\n",
    "    lassloop.fit(X_train2, y_train2)\n",
    "    crossval = cross_val_score(lassloop, X_test2, y_test2, cv=5)\n",
    "    crossmax = max(crossval)\n",
    "    crossmin = min(crossval)\n",
    "    r2.append(100*(crossmax-crossmin))\n",
    "    r2max.append(crossmax)\n",
    "\n",
    "print(min(r2))"
   ]
  },
  {
   "cell_type": "markdown",
   "metadata": {},
   "source": [
    "# ridge regression"
   ]
  },
  {
   "cell_type": "code",
   "execution_count": 82,
   "metadata": {},
   "outputs": [
    {
     "name": "stdout",
     "output_type": "stream",
     "text": [
      "0.880966917799\n",
      "Cross Validation\n",
      "\n",
      "Parameter estimates for the model with few features:\n",
      "[ -5.08837060e-01  -2.76545337e-02   2.65210828e-02  -1.70493043e-01\n",
      "  -4.22204178e-03  -1.90274872e-02   2.19703866e-02  -2.50125420e-02\n",
      "  -1.76179026e-03   3.96336054e-02   5.01768206e+00]\n",
      "\n"
     ]
    },
    {
     "data": {
      "text/plain": [
       "array([ 0.86576326,  0.87886679,  0.88530691,  0.88722718,  0.90421599])"
      ]
     },
     "execution_count": 82,
     "metadata": {},
     "output_type": "execute_result"
    }
   ],
   "source": [
    "#ridgeregr = linear_model.Ridge(alpha=5, fit_intercept=True)\n",
    "ridgeregr = Ridge(alpha=0.005, normalize = True)\n",
    "ridgeregr.fit(X_train2, y_train2)\n",
    "print(ridgeregr.score(X_test2, y_test2))\n",
    "print('Cross Validation')\n",
    "origparams = np.append(ridgeregr.coef_, ridgeregr.intercept_)\n",
    "print('\\nParameter estimates for the model with few features:')\n",
    "print(str(origparams) + '\\n')\n",
    "k = cross_val_score(ridgeregr, X, y, cv=5)\n",
    "k.sort()\n",
    "k"
   ]
  },
  {
   "cell_type": "code",
   "execution_count": 83,
   "metadata": {},
   "outputs": [
    {
     "data": {
      "text/plain": [
       "0.038452733859136945"
      ]
     },
     "execution_count": 83,
     "metadata": {},
     "output_type": "execute_result"
    }
   ],
   "source": [
    "max(k) -min(k)"
   ]
  },
  {
   "cell_type": "code",
   "execution_count": 84,
   "metadata": {},
   "outputs": [],
   "source": [
    "alphas = 10**np.linspace(10,-2,100)*0.5\n",
    "alphas\n",
    "coefs = []\n",
    "\n",
    "for a in alphas:\n",
    "    ridgeregr.set_params(alpha = a)\n",
    "    ridgeregr.fit(X_train2, y_train2)\n",
    "    coefs.append(ridgeregr.coef_)\n",
    "    "
   ]
  },
  {
   "cell_type": "code",
   "execution_count": 85,
   "metadata": {},
   "outputs": [
    {
     "data": {
      "image/png": "[encoded data removed]",
      "text/plain": [
       "<matplotlib.figure.Figure at 0x1c4842842e8>"
      ]
     },
     "metadata": {},
     "output_type": "display_data"
    }
   ],
   "source": [
    "ax = plt.gca()\n",
    "ax.plot(alphas, coefs)\n",
    "ax.set_xscale('log')\n",
    "plt.axis('tight')\n",
    "plt.xlabel('alpha')\n",
    "plt.ylabel('weights')\n",
    "plt.show()"
   ]
  },
  {
   "cell_type": "code",
   "execution_count": 86,
   "metadata": {},
   "outputs": [
    {
     "data": {
      "text/plain": [
       "0.0050000000000000001"
      ]
     },
     "execution_count": 86,
     "metadata": {},
     "output_type": "execute_result"
    }
   ],
   "source": [
    "ridgecv = RidgeCV(alphas = alphas, scoring = 'neg_mean_squared_error', normalize = True)\n",
    "ridgecv.fit(X_train2, y_train2)\n",
    "ridgecv.alpha_"
   ]
  },
  {
   "cell_type": "code",
   "execution_count": 19,
   "metadata": {},
   "outputs": [
    {
     "data": {
      "image/png": "[encoded data removed]",
      "text/plain": [
       "<matplotlib.figure.Figure at 0x1c48293bac8>"
      ]
     },
     "metadata": {},
     "output_type": "display_data"
    }
   ],
   "source": [
    "# Extract predicted values.\n",
    "predicted = ridgeregr.predict(X).ravel()\n",
    "actual = y\n",
    "\n",
    "# Calculate the error, also called the residual.\n",
    "residual = actual - predicted\n",
    "\n",
    "# This looks a bit concerning.\n",
    "plt.hist(residual)\n",
    "plt.title('Residual counts')\n",
    "plt.xlabel('Residual')\n",
    "plt.ylabel('Count')\n",
    "plt.show()"
   ]
  },
  {
   "cell_type": "code",
   "execution_count": 20,
   "metadata": {},
   "outputs": [
    {
     "data": {
      "image/png": "[encoded data removed]",
      "text/plain": [
       "<matplotlib.figure.Figure at 0x1c483eef978>"
      ]
     },
     "metadata": {},
     "output_type": "display_data"
    },
    {
     "name": "stdout",
     "output_type": "stream",
     "text": [
      "0.797398617738\n"
     ]
    }
   ],
   "source": [
    "plt.scatter(predicted, residual)\n",
    "plt.xlabel('Predicted')\n",
    "plt.ylabel('Residual')\n",
    "plt.axhline(y=0)\n",
    "plt.title('Residual vs. Predicted')\n",
    "plt.show()\n",
    "print(max(residual)-min(residual))"
   ]
  },
  {
   "cell_type": "markdown",
   "metadata": {},
   "source": [
    "# SVM"
   ]
  },
  {
   "cell_type": "code",
   "execution_count": 21,
   "metadata": {},
   "outputs": [
    {
     "name": "stdout",
     "output_type": "stream",
     "text": [
      "0.885568354663\n",
      "Cross Validation\n"
     ]
    },
    {
     "data": {
      "text/plain": [
       "array([ 0.85820354,  0.86808363,  0.88117441,  0.88221406,  0.89669855])"
      ]
     },
     "execution_count": 21,
     "metadata": {},
     "output_type": "execute_result"
    }
   ],
   "source": [
    "svr = SVR()\n",
    "\n",
    "svr.fit(X_train2, y_train2)\n",
    "print(ridgeregr.score(X_test2, y_test2))\n",
    "print('Cross Validation')\n",
    "k = cross_val_score(ridgeregr, X, y, cv=5)\n",
    "k.sort()\n",
    "k"
   ]
  },
  {
   "cell_type": "code",
   "execution_count": 22,
   "metadata": {},
   "outputs": [
    {
     "data": {
      "text/plain": [
       "0.038495004655795695"
      ]
     },
     "execution_count": 22,
     "metadata": {},
     "output_type": "execute_result"
    }
   ],
   "source": [
    "max(k) -min(k)"
   ]
  },
  {
   "cell_type": "code",
   "execution_count": 23,
   "metadata": {},
   "outputs": [
    {
     "data": {
      "image/png": "[encoded data removed]",
      "text/plain": [
       "<matplotlib.figure.Figure at 0x1c482a1bfd0>"
      ]
     },
     "metadata": {},
     "output_type": "display_data"
    }
   ],
   "source": [
    "# Extract predicted values.\n",
    "predicted = svr.predict(X).ravel()\n",
    "actual = y\n",
    "\n",
    "# Calculate the error, also called the residual.\n",
    "residual = actual - predicted\n",
    "\n",
    "# This looks a bit concerning.\n",
    "plt.hist(residual)\n",
    "plt.title('Residual counts')\n",
    "plt.xlabel('Residual')\n",
    "plt.ylabel('Count')\n",
    "plt.show()"
   ]
  },
  {
   "cell_type": "code",
   "execution_count": 24,
   "metadata": {},
   "outputs": [
    {
     "data": {
      "image/png": "[encoded data removed]",
      "text/plain": [
       "<matplotlib.figure.Figure at 0x1c483f85b38>"
      ]
     },
     "metadata": {},
     "output_type": "display_data"
    },
    {
     "name": "stdout",
     "output_type": "stream",
     "text": [
      "0.61219501396\n"
     ]
    }
   ],
   "source": [
    "plt.scatter(predicted, residual)\n",
    "plt.xlabel('Predicted')\n",
    "plt.ylabel('Residual')\n",
    "plt.axhline(y=0)\n",
    "plt.title('Residual vs. Predicted')\n",
    "plt.show()\n",
    "print(max(residual)-min(residual))"
   ]
  },
  {
   "cell_type": "markdown",
   "metadata": {},
   "source": [
    "# End of model"
   ]
  },
  {
   "cell_type": "code",
   "execution_count": 33,
   "metadata": {
    "collapsed": true
   },
   "outputs": [
    {
     "name": "stdout",
     "output_type": "stream",
     "text": [
      "4    199\n",
      "8    103\n",
      "6     83\n",
      "3      4\n",
      "5      3\n",
      "Name: Cylinders, dtype: int64\n"
     ]
    },
    {
     "data": {
      "image/png": "[encoded data removed]",
      "text/plain": [
       "<matplotlib.figure.Figure at 0x23e011c0a90>"
      ]
     },
     "metadata": {},
     "output_type": "display_data"
    }
   ],
   "source": [
    "target_count = auto_mpg_df.Cylinders.value_counts()\n",
    "\n",
    "print(target_count)\n",
    "#print('Class 1:', target_count[1])\n",
    "#print('Proportion:', round(target_count[0] / target_count[1], 2), ': 1')\n",
    "\n",
    "target_count.plot(kind='bar', title='Count (target)');\n",
    "plt.savefig('autompg_cylinder_count.png', bbox_inches='tight')\n",
    "plt.show() "
   ]
  },
  {
   "cell_type": "code",
   "execution_count": 60,
   "metadata": {
    "collapsed": true
   },
   "outputs": [
    {
     "data": {
      "image/png": "[encoded data removed]",
      "text/plain": [
       "<matplotlib.figure.Figure at 0x23e2298d828>"
      ]
     },
     "metadata": {},
     "output_type": "display_data"
    }
   ],
   "source": [
    "auto_mpg_df2.groupby(['Cylinders', 'Origin'])['MPG'].size().unstack().plot(kind='bar', stacked=True)\n",
    "plt.ylabel('Count')\n",
    "plt.savefig('autompg_cylinder_count.png', bbox_inches='tight')\n",
    "plt.show()"
   ]
  },
  {
   "cell_type": "code",
   "execution_count": 36,
   "metadata": {
    "collapsed": true
   },
   "outputs": [
    {
     "name": "stdout",
     "output_type": "stream",
     "text": [
      "4    199\n",
      "8    103\n",
      "6     83\n",
      "Name: Cylinders, dtype: int64\n"
     ]
    },
    {
     "data": {
      "image/png": "[encoded data removed]",
      "text/plain": [
       "<matplotlib.figure.Figure at 0x23e7fae7208>"
      ]
     },
     "metadata": {},
     "output_type": "display_data"
    }
   ],
   "source": [
    "target_count = auto_mpg_df.Cylinders.value_counts()\n",
    "\n",
    "print(target_count)\n",
    "#print('Class 1:', target_count[1])\n",
    "#print('Proportion:', round(target_count[0] / target_count[1], 2), ': 1')\n",
    "\n",
    "target_count.plot(kind='bar', title='Count (target)');\n",
    "plt.show()"
   ]
  },
  {
   "cell_type": "code",
   "execution_count": 69,
   "metadata": {
    "collapsed": true
   },
   "outputs": [
    {
     "data": {
      "image/png": "[encoded data removed]",
      "text/plain": [
       "<matplotlib.figure.Figure at 0x23e22c7ca20>"
      ]
     },
     "metadata": {},
     "output_type": "display_data"
    }
   ],
   "source": [
    "auto_mpg_df2.groupby(['Cylinders', 'Origin'])['MPG'].size().unstack().plot(kind='bar', stacked=True)\n",
    "plt.ylabel('Count')\n",
    "plt.savefig('autompg_cylinder_count2.png', bbox_inches='tight')\n",
    "plt.show()"
   ]
  }
 ],
 "metadata": {
  "kernelspec": {
   "display_name": "Python 3",
   "language": "python",
   "name": "python3"
  },
  "language_info": {
   "codemirror_mode": {
    "name": "ipython",
    "version": 3
   },
   "file_extension": ".py",
   "mimetype": "text/x-python",
   "name": "python",
   "nbconvert_exporter": "python",
   "pygments_lexer": "ipython3",
   "version": "3.6.3"
  }
 },
 "nbformat": 4,
 "nbformat_minor": 2
}
