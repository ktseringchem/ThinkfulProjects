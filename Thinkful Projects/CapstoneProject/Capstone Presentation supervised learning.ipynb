{
 "cells": [
  {
   "cell_type": "code",
   "execution_count": 236,
   "metadata": {
    "collapsed": true
   },
   "outputs": [],
   "source": [
    "import numpy as np\n",
    "import pandas as pd\n",
    "import seaborn as sns\n",
    "from sklearn.svm import SVR\n",
    "from sklearn.svm import SVC\n",
    "from sklearn import neighbors\n",
    "import matplotlib.pyplot as plt\n",
    "from sklearn.decomposition import PCA\n",
    "import statsmodels.formula.api as smf\n",
    "from sklearn.preprocessing import scale\n",
    "from sklearn.metrics import mean_squared_error\n",
    "from sklearn.preprocessing import StandardScaler\n",
    "from sklearn.model_selection import cross_val_score\n",
    "from sklearn.model_selection import train_test_split\n",
    "from sklearn.cross_decomposition import PLSRegression\n",
    "from sklearn.linear_model import Ridge, RidgeCV, Lasso, LassoCV"
   ]
  },
  {
   "cell_type": "code",
   "execution_count": 237,
   "metadata": {},
   "outputs": [
    {
     "data": {
      "text/html": [
       "<div>\n",
       "<style>\n",
       "    .dataframe thead tr:only-child th {\n",
       "        text-align: right;\n",
       "    }\n",
       "\n",
       "    .dataframe thead th {\n",
       "        text-align: left;\n",
       "    }\n",
       "\n",
       "    .dataframe tbody tr th {\n",
       "        vertical-align: top;\n",
       "    }\n",
       "</style>\n",
       "<table border=\"1\" class=\"dataframe\">\n",
       "  <thead>\n",
       "    <tr style=\"text-align: right;\">\n",
       "      <th></th>\n",
       "      <th>MPG</th>\n",
       "      <th>Cylinders</th>\n",
       "      <th>Displacement</th>\n",
       "      <th>horsepower</th>\n",
       "      <th>Weight</th>\n",
       "      <th>Acceleration</th>\n",
       "      <th>Model_Year</th>\n",
       "      <th>Origin</th>\n",
       "      <th>Car Name</th>\n",
       "    </tr>\n",
       "  </thead>\n",
       "  <tbody>\n",
       "    <tr>\n",
       "      <th>255</th>\n",
       "      <td>36.1</td>\n",
       "      <td>4</td>\n",
       "      <td>91.0</td>\n",
       "      <td>60.0</td>\n",
       "      <td>1800</td>\n",
       "      <td>16.4</td>\n",
       "      <td>78</td>\n",
       "      <td>3</td>\n",
       "      <td>honda civic cvcc</td>\n",
       "    </tr>\n",
       "    <tr>\n",
       "      <th>316</th>\n",
       "      <td>41.5</td>\n",
       "      <td>4</td>\n",
       "      <td>98.0</td>\n",
       "      <td>76.0</td>\n",
       "      <td>2144</td>\n",
       "      <td>14.7</td>\n",
       "      <td>80</td>\n",
       "      <td>2</td>\n",
       "      <td>vw rabbit</td>\n",
       "    </tr>\n",
       "    <tr>\n",
       "      <th>154</th>\n",
       "      <td>24.0</td>\n",
       "      <td>4</td>\n",
       "      <td>90.0</td>\n",
       "      <td>75.0</td>\n",
       "      <td>2108</td>\n",
       "      <td>15.5</td>\n",
       "      <td>74</td>\n",
       "      <td>2</td>\n",
       "      <td>fiat 128</td>\n",
       "    </tr>\n",
       "    <tr>\n",
       "      <th>351</th>\n",
       "      <td>39.0</td>\n",
       "      <td>4</td>\n",
       "      <td>86.0</td>\n",
       "      <td>64.0</td>\n",
       "      <td>1875</td>\n",
       "      <td>16.4</td>\n",
       "      <td>81</td>\n",
       "      <td>1</td>\n",
       "      <td>plymouth champ</td>\n",
       "    </tr>\n",
       "    <tr>\n",
       "      <th>356</th>\n",
       "      <td>34.1</td>\n",
       "      <td>4</td>\n",
       "      <td>91.0</td>\n",
       "      <td>68.0</td>\n",
       "      <td>1985</td>\n",
       "      <td>16.0</td>\n",
       "      <td>81</td>\n",
       "      <td>3</td>\n",
       "      <td>mazda glc 4</td>\n",
       "    </tr>\n",
       "  </tbody>\n",
       "</table>\n",
       "</div>"
      ],
      "text/plain": [
       "      MPG  Cylinders  Displacement  horsepower  Weight  Acceleration  \\\n",
       "255  36.1          4          91.0        60.0    1800          16.4   \n",
       "316  41.5          4          98.0        76.0    2144          14.7   \n",
       "154  24.0          4          90.0        75.0    2108          15.5   \n",
       "351  39.0          4          86.0        64.0    1875          16.4   \n",
       "356  34.1          4          91.0        68.0    1985          16.0   \n",
       "\n",
       "     Model_Year  Origin          Car Name  \n",
       "255          78       3  honda civic cvcc  \n",
       "316          80       2         vw rabbit  \n",
       "154          74       2          fiat 128  \n",
       "351          81       1    plymouth champ  \n",
       "356          81       3       mazda glc 4  "
      ]
     },
     "execution_count": 237,
     "metadata": {},
     "output_type": "execute_result"
    }
   ],
   "source": [
    "#load data set and randomize it and save it new file\n",
    "auto_mpg_df = pd.read_table('auto-mpg.data-original.csv', delimiter=',').dropna().sample(frac=1) #.reset_index(drop=True)\n",
    "#auto_mpg_df.to_csv('auto-mpg.data-original2.csv')\n",
    "auto_mpg_df.head()"
   ]
  },
  {
   "cell_type": "code",
   "execution_count": 238,
   "metadata": {
    "slideshow": {
     "slide_type": "slide"
    }
   },
   "outputs": [
    {
     "data": {
      "text/html": [
       "<div>\n",
       "<style>\n",
       "    .dataframe thead tr:only-child th {\n",
       "        text-align: right;\n",
       "    }\n",
       "\n",
       "    .dataframe thead th {\n",
       "        text-align: left;\n",
       "    }\n",
       "\n",
       "    .dataframe tbody tr th {\n",
       "        vertical-align: top;\n",
       "    }\n",
       "</style>\n",
       "<table border=\"1\" class=\"dataframe\">\n",
       "  <thead>\n",
       "    <tr style=\"text-align: right;\">\n",
       "      <th></th>\n",
       "      <th>MPG</th>\n",
       "      <th>Cylinders</th>\n",
       "      <th>Displacement</th>\n",
       "      <th>horsepower</th>\n",
       "      <th>Weight</th>\n",
       "      <th>Acceleration</th>\n",
       "      <th>Model_Year</th>\n",
       "      <th>Origin</th>\n",
       "      <th>Car Name</th>\n",
       "    </tr>\n",
       "  </thead>\n",
       "  <tbody>\n",
       "    <tr>\n",
       "      <th>0</th>\n",
       "      <td>12.0</td>\n",
       "      <td>8</td>\n",
       "      <td>400.0</td>\n",
       "      <td>167.0</td>\n",
       "      <td>4906</td>\n",
       "      <td>12.5</td>\n",
       "      <td>73</td>\n",
       "      <td>1</td>\n",
       "      <td>ford country</td>\n",
       "    </tr>\n",
       "    <tr>\n",
       "      <th>1</th>\n",
       "      <td>28.0</td>\n",
       "      <td>4</td>\n",
       "      <td>116.0</td>\n",
       "      <td>90.0</td>\n",
       "      <td>2123</td>\n",
       "      <td>14.0</td>\n",
       "      <td>71</td>\n",
       "      <td>2</td>\n",
       "      <td>opel 1900</td>\n",
       "    </tr>\n",
       "    <tr>\n",
       "      <th>2</th>\n",
       "      <td>39.4</td>\n",
       "      <td>4</td>\n",
       "      <td>85.0</td>\n",
       "      <td>70.0</td>\n",
       "      <td>2070</td>\n",
       "      <td>18.6</td>\n",
       "      <td>78</td>\n",
       "      <td>3</td>\n",
       "      <td>datsun b210 gx</td>\n",
       "    </tr>\n",
       "    <tr>\n",
       "      <th>3</th>\n",
       "      <td>23.8</td>\n",
       "      <td>4</td>\n",
       "      <td>151.0</td>\n",
       "      <td>85.0</td>\n",
       "      <td>2855</td>\n",
       "      <td>17.6</td>\n",
       "      <td>78</td>\n",
       "      <td>1</td>\n",
       "      <td>oldsmobile starfire sx</td>\n",
       "    </tr>\n",
       "    <tr>\n",
       "      <th>4</th>\n",
       "      <td>23.0</td>\n",
       "      <td>4</td>\n",
       "      <td>140.0</td>\n",
       "      <td>78.0</td>\n",
       "      <td>2592</td>\n",
       "      <td>18.5</td>\n",
       "      <td>75</td>\n",
       "      <td>1</td>\n",
       "      <td>pontiac astro</td>\n",
       "    </tr>\n",
       "  </tbody>\n",
       "</table>\n",
       "</div>"
      ],
      "text/plain": [
       "    MPG  Cylinders  Displacement  horsepower  Weight  Acceleration  \\\n",
       "0  12.0          8         400.0       167.0    4906          12.5   \n",
       "1  28.0          4         116.0        90.0    2123          14.0   \n",
       "2  39.4          4          85.0        70.0    2070          18.6   \n",
       "3  23.8          4         151.0        85.0    2855          17.6   \n",
       "4  23.0          4         140.0        78.0    2592          18.5   \n",
       "\n",
       "   Model_Year  Origin                Car Name  \n",
       "0          73       1            ford country  \n",
       "1          71       2               opel 1900  \n",
       "2          78       3          datsun b210 gx  \n",
       "3          78       1  oldsmobile starfire sx  \n",
       "4          75       1           pontiac astro  "
      ]
     },
     "execution_count": 238,
     "metadata": {},
     "output_type": "execute_result"
    }
   ],
   "source": [
    "#load the randomized data in pandas dataframe\n",
    "auto_mpg_df = pd.read_table('auto-mpg.data-original2.csv', delimiter=',')\n",
    "auto_mpg_df = auto_mpg_df.drop('Unnamed: 0', 1)\n",
    "auto_mpg_df.head()"
   ]
  },
  {
   "cell_type": "code",
   "execution_count": 239,
   "metadata": {
    "collapsed": true
   },
   "outputs": [],
   "source": [
    "#Name the Origin of the cars for graphing porpuse, will not be used for analysis\n",
    "Origin = pd.DataFrame(auto_mpg_df['Origin'].where(auto_mpg_df['Origin'] != 1, 'North America'))\n",
    "Origin = Origin.where(Origin != 2, 'Europe')\n",
    "Origin = Origin.where(Origin != 3, 'Asia')\n",
    "auto_mpg_df2 = auto_mpg_df.drop('Cylinders', 1)\n",
    "auto_mpg_df2['Origin'] = Origin "
   ]
  },
  {
   "cell_type": "markdown",
   "metadata": {
    "scrolled": true
   },
   "source": [
    "#Exploratory look at relationship between all the variable, except for 'Car Name'\n",
    "sns.pairplot(auto_mpg_df2, kind='scatter', hue='Origin', plot_kws=dict(s=80, edgecolor=\"white\", linewidth=2.5))\n",
    "plt.savefig('autompg_expolatory.png', bbox_inches='tight')\n",
    "plt.show()"
   ]
  },
  {
   "cell_type": "code",
   "execution_count": 240,
   "metadata": {
    "collapsed": true
   },
   "outputs": [],
   "source": [
    "#Removing outliers and creating new feature\n",
    "auto_mpg_df = auto_mpg_df.drop([121, 129, 204])\n",
    "auto_mpg_df['Engin'] = auto_mpg_df['Displacement'] * auto_mpg_df['Cylinders']"
   ]
  },
  {
   "cell_type": "code",
   "execution_count": 241,
   "metadata": {
    "collapsed": true
   },
   "outputs": [],
   "source": [
    "#applying a non-linear transformation function to features\n",
    "auto_mpg_df['Displacement'] = np.log(auto_mpg_df['Displacement'])\n",
    "auto_mpg_df['Weight'] = np.log(auto_mpg_df['Weight'])\n",
    "auto_mpg_df['MPG'] = np.log(auto_mpg_df['MPG'])\n",
    "auto_mpg_df['Engin'] = np.log(auto_mpg_df['Engin'])\n",
    "auto_mpg_df['horsepower'] = np.log(auto_mpg_df['horsepower'])"
   ]
  },
  {
   "cell_type": "markdown",
   "metadata": {},
   "source": [
    "#head map with corrilation value within\n",
    "plt.subplots(figsize=(25,20)) \n",
    "sns.heatmap(auto_mpg_df.corr(), annot=True, vmin=0, vmax=1)\n",
    "#plt.savefig('corrheatmap.png', bbox_inches='tight')\n",
    "plt.show()"
   ]
  },
  {
   "cell_type": "code",
   "execution_count": 242,
   "metadata": {
    "collapsed": true
   },
   "outputs": [],
   "source": [
    "#Drop all the cylinder 3 and 5 data because we don't have enough of them to make good prediction for them\n",
    "cy5 = auto_mpg_df[auto_mpg_df['Cylinders'] == 5]\n",
    "cy3 = auto_mpg_df[auto_mpg_df['Cylinders'] == 3]\n",
    "\n",
    "cytodrop = pd.concat([cy3, cy5])\n",
    "cyindex = cytodrop.index.values\n",
    "auto_mpg_df = auto_mpg_df.drop(cyindex)"
   ]
  },
  {
   "cell_type": "code",
   "execution_count": 243,
   "metadata": {
    "scrolled": true
   },
   "outputs": [
    {
     "data": {
      "text/html": [
       "<div>\n",
       "<style>\n",
       "    .dataframe thead tr:only-child th {\n",
       "        text-align: right;\n",
       "    }\n",
       "\n",
       "    .dataframe thead th {\n",
       "        text-align: left;\n",
       "    }\n",
       "\n",
       "    .dataframe tbody tr th {\n",
       "        vertical-align: top;\n",
       "    }\n",
       "</style>\n",
       "<table border=\"1\" class=\"dataframe\">\n",
       "  <thead>\n",
       "    <tr style=\"text-align: right;\">\n",
       "      <th></th>\n",
       "      <th>MPG</th>\n",
       "      <th>Displacement</th>\n",
       "      <th>horsepower</th>\n",
       "      <th>Weight</th>\n",
       "      <th>Acceleration</th>\n",
       "      <th>Model_Year</th>\n",
       "      <th>Engin</th>\n",
       "      <th>4</th>\n",
       "      <th>6</th>\n",
       "      <th>8</th>\n",
       "      <th>1</th>\n",
       "      <th>2</th>\n",
       "      <th>3</th>\n",
       "    </tr>\n",
       "  </thead>\n",
       "  <tbody>\n",
       "    <tr>\n",
       "      <th>0</th>\n",
       "      <td>2.484907</td>\n",
       "      <td>5.991465</td>\n",
       "      <td>5.117994</td>\n",
       "      <td>8.498214</td>\n",
       "      <td>12.5</td>\n",
       "      <td>73</td>\n",
       "      <td>8.070906</td>\n",
       "      <td>0</td>\n",
       "      <td>0</td>\n",
       "      <td>1</td>\n",
       "      <td>1</td>\n",
       "      <td>0</td>\n",
       "      <td>0</td>\n",
       "    </tr>\n",
       "    <tr>\n",
       "      <th>1</th>\n",
       "      <td>3.332205</td>\n",
       "      <td>4.753590</td>\n",
       "      <td>4.499810</td>\n",
       "      <td>7.660585</td>\n",
       "      <td>14.0</td>\n",
       "      <td>71</td>\n",
       "      <td>6.139885</td>\n",
       "      <td>1</td>\n",
       "      <td>0</td>\n",
       "      <td>0</td>\n",
       "      <td>0</td>\n",
       "      <td>1</td>\n",
       "      <td>0</td>\n",
       "    </tr>\n",
       "    <tr>\n",
       "      <th>2</th>\n",
       "      <td>3.673766</td>\n",
       "      <td>4.442651</td>\n",
       "      <td>4.248495</td>\n",
       "      <td>7.635304</td>\n",
       "      <td>18.6</td>\n",
       "      <td>78</td>\n",
       "      <td>5.828946</td>\n",
       "      <td>1</td>\n",
       "      <td>0</td>\n",
       "      <td>0</td>\n",
       "      <td>0</td>\n",
       "      <td>0</td>\n",
       "      <td>1</td>\n",
       "    </tr>\n",
       "    <tr>\n",
       "      <th>3</th>\n",
       "      <td>3.169686</td>\n",
       "      <td>5.017280</td>\n",
       "      <td>4.442651</td>\n",
       "      <td>7.956827</td>\n",
       "      <td>17.6</td>\n",
       "      <td>78</td>\n",
       "      <td>6.403574</td>\n",
       "      <td>1</td>\n",
       "      <td>0</td>\n",
       "      <td>0</td>\n",
       "      <td>1</td>\n",
       "      <td>0</td>\n",
       "      <td>0</td>\n",
       "    </tr>\n",
       "    <tr>\n",
       "      <th>4</th>\n",
       "      <td>3.135494</td>\n",
       "      <td>4.941642</td>\n",
       "      <td>4.356709</td>\n",
       "      <td>7.860185</td>\n",
       "      <td>18.5</td>\n",
       "      <td>75</td>\n",
       "      <td>6.327937</td>\n",
       "      <td>1</td>\n",
       "      <td>0</td>\n",
       "      <td>0</td>\n",
       "      <td>1</td>\n",
       "      <td>0</td>\n",
       "      <td>0</td>\n",
       "    </tr>\n",
       "  </tbody>\n",
       "</table>\n",
       "</div>"
      ],
      "text/plain": [
       "        MPG  Displacement  horsepower    Weight  Acceleration  Model_Year  \\\n",
       "0  2.484907      5.991465    5.117994  8.498214          12.5          73   \n",
       "1  3.332205      4.753590    4.499810  7.660585          14.0          71   \n",
       "2  3.673766      4.442651    4.248495  7.635304          18.6          78   \n",
       "3  3.169686      5.017280    4.442651  7.956827          17.6          78   \n",
       "4  3.135494      4.941642    4.356709  7.860185          18.5          75   \n",
       "\n",
       "      Engin  4  6  8  1  2  3  \n",
       "0  8.070906  0  0  1  1  0  0  \n",
       "1  6.139885  1  0  0  0  1  0  \n",
       "2  5.828946  1  0  0  0  0  1  \n",
       "3  6.403574  1  0  0  1  0  0  \n",
       "4  6.327937  1  0  0  1  0  0  "
      ]
     },
     "execution_count": 243,
     "metadata": {},
     "output_type": "execute_result"
    }
   ],
   "source": [
    "# Create a set of dummy variables from the sex variable\n",
    "df_Cylinders = pd.get_dummies(auto_mpg_df['Cylinders'])\n",
    "df_Origin = pd.get_dummies(auto_mpg_df['Origin'])\n",
    "\n",
    "# Join the dummy variables to the main dataframe\n",
    "auto_mpg_df = pd.concat([auto_mpg_df, df_Cylinders, df_Origin], axis=1)\n",
    "auto_mpg_df = auto_mpg_df.drop(['Cylinders', 'Origin', 'Car Name'], 1)\n",
    "auto_mpg_df.head()"
   ]
  },
  {
   "cell_type": "code",
   "execution_count": 244,
   "metadata": {},
   "outputs": [],
   "source": [
    "#Create input and outcome variable\n",
    "X = auto_mpg_df.drop('MPG', 1)\n",
    "y = auto_mpg_df['MPG']\n",
    "\n",
    "#Split the input and outcome into, train and test dataset for analysis\n",
    "X_train2, X_test2, y_train2, y_test2 = train_test_split(X, y, test_size=0.2, random_state=20)"
   ]
  },
  {
   "cell_type": "markdown",
   "metadata": {},
   "source": [
    "# OLS regression"
   ]
  },
  {
   "cell_type": "code",
   "execution_count": 249,
   "metadata": {},
   "outputs": [
    {
     "name": "stdout",
     "output_type": "stream",
     "text": [
      "\n",
      "Coefficients: \n",
      " [ 0.0297048  -0.30296936 -0.5566719  -0.01409471  0.0290789  -0.00069067\n",
      "  0.05606461 -0.0294268  -0.02663781 -0.03363767  0.00908612  0.02455155]\n",
      "\n",
      "Intercept: \n",
      " 6.78246602155\n",
      "\n",
      "R-squared:\n",
      "0.890862869747\n",
      "\n",
      " mean r2\n",
      "0.895635208399\n"
     ]
    },
    {
     "data": {
      "text/plain": [
       "array([ 0.87474484,  0.89351222,  0.8939914 ,  0.90178908,  0.91413849])"
      ]
     },
     "execution_count": 249,
     "metadata": {},
     "output_type": "execute_result"
    }
   ],
   "source": [
    "#Ordernary least squre regression, the simples regression\n",
    "regr = linear_model.LinearRegression()\n",
    "regr.fit(X_train2, y_train2)\n",
    "\n",
    "# Inspect the results.\n",
    "print('\\nCoefficients: \\n', regr.coef_)\n",
    "print('\\nIntercept: \\n', regr.intercept_)\n",
    "print('\\nR-squared:')\n",
    "print(regr.score(X_test2, y_test2))\n",
    "\n",
    "#cross validation to check for overfitting, can be done using \n",
    "k = cross_val_score(regr, X, y, cv=5)\n",
    "k.sort()\n",
    "print('\\n mean r2')\n",
    "print(np.mean(k))\n",
    "k"
   ]
  },
  {
   "cell_type": "code",
   "execution_count": 247,
   "metadata": {},
   "outputs": [
    {
     "data": {
      "text/plain": [
       "0.03939365078594137"
      ]
     },
     "execution_count": 247,
     "metadata": {},
     "output_type": "execute_result"
    }
   ],
   "source": [
    "#check variablity of the crossvalidation result, high variablity mean overfitting\n",
    "max(k) -min(k)"
   ]
  },
  {
   "cell_type": "code",
   "execution_count": 248,
   "metadata": {},
   "outputs": [
    {
     "data": {
      "image/png": "[encoded data removed]",
      "text/plain": [
       "<matplotlib.figure.Figure at 0x1c483ffebe0>"
      ]
     },
     "metadata": {},
     "output_type": "display_data"
    }
   ],
   "source": [
    "# Extract predicted values.\n",
    "predicted = regr.predict(X).ravel()\n",
    "actual = y\n",
    "\n",
    "# Calculate the error, also called the residual.\n",
    "residual = actual - predicted\n",
    "\n",
    "# This looks a bit concerning. Linear regression assumes normal distripution\n",
    "plt.hist(residual)\n",
    "plt.title('Residual counts')\n",
    "plt.xlabel('Residual')\n",
    "plt.ylabel('Count')\n",
    "plt.show()"
   ]
  },
  {
   "cell_type": "code",
   "execution_count": 215,
   "metadata": {},
   "outputs": [
    {
     "data": {
      "image/png": "[encoded data removed]",
      "text/plain": [
       "<matplotlib.figure.Figure at 0x1c4866db2e8>"
      ]
     },
     "metadata": {},
     "output_type": "display_data"
    },
    {
     "name": "stdout",
     "output_type": "stream",
     "text": [
      "0.79215241134\n"
     ]
    }
   ],
   "source": [
    "#Linear regression assumes consistend distribution, inconsisted distribution could cause over confidence in result\n",
    "plt.scatter(predicted, residual)\n",
    "plt.xlabel('Predicted')\n",
    "plt.ylabel('Residual')\n",
    "plt.axhline(y=0)\n",
    "plt.title('Residual vs. Predicted')\n",
    "plt.show()\n",
    "print(max(residual)-min(residual))"
   ]
  },
  {
   "cell_type": "markdown",
   "metadata": {},
   "source": [
    "# Lasso regression"
   ]
  },
  {
   "cell_type": "code",
   "execution_count": 250,
   "metadata": {},
   "outputs": [
    {
     "name": "stdout",
     "output_type": "stream",
     "text": [
      "R² for the model with few features:\n",
      "0.897413250801\n",
      "\n",
      "Parameter estimates for the model with few features:\n",
      "[-0.         -0.27353465 -0.45187499 -0.01437058  0.02897885 -0.06517427\n",
      "  0.01983577 -0.01622825  0.         -0.03071305 -0.          0.01226109\n",
      "  6.42724638]\n",
      "\n",
      "\n",
      " mean r2\n",
      "0.895616499894\n"
     ]
    },
    {
     "data": {
      "text/plain": [
       "array([ 0.87659772,  0.89355281,  0.89459225,  0.90026532,  0.91307439])"
      ]
     },
     "execution_count": 250,
     "metadata": {},
     "output_type": "execute_result"
    }
   ],
   "source": [
    "lass = linear_model.Lasso(alpha=0.001145)\n",
    "lass.fit(X_train2, y_train2)\n",
    "\n",
    "print('R² for the model with few features:')\n",
    "print(lass.score(X_test2, y_test2))\n",
    "origparams = np.append(lass.coef_, lass.intercept_)\n",
    "print('\\nParameter estimates for the model with few features:')\n",
    "print(str(origparams) + '\\n')\n",
    "\n",
    "k = cross_val_score(lass, X, y, cv=5)\n",
    "k.sort()\n",
    "print('\\n mean r2')\n",
    "print(np.mean(k))\n",
    "k"
   ]
  },
  {
   "cell_type": "code",
   "execution_count": 251,
   "metadata": {},
   "outputs": [
    {
     "data": {
      "text/plain": [
       "0.036476672675288091"
      ]
     },
     "execution_count": 251,
     "metadata": {},
     "output_type": "execute_result"
    }
   ],
   "source": [
    "#check variablity, low is good\n",
    "max(k) -min(k)"
   ]
  },
  {
   "cell_type": "code",
   "execution_count": 223,
   "metadata": {},
   "outputs": [
    {
     "data": {
      "image/png": "[encoded data removed]",
      "text/plain": [
       "<matplotlib.figure.Figure at 0x1c483fc6240>"
      ]
     },
     "metadata": {},
     "output_type": "display_data"
    }
   ],
   "source": [
    "#find the optimal alpha value for the model\n",
    "lasso = Lasso(max_iter = 10000, normalize = True)\n",
    "coefs = []\n",
    "\n",
    "for a in alphas:\n",
    "    lasso.set_params(alpha=a)\n",
    "    lasso.fit(scale(X_train2), y_train2)\n",
    "    coefs.append(lasso.coef_)\n",
    "    \n",
    "#Graph showing coef. change as alpha change, goal is to minimize coef. but zero alpha means the model is OLS model\n",
    "ax = plt.gca()\n",
    "ax.plot(alphas*2, coefs)\n",
    "ax.set_xscale('log')\n",
    "plt.axis('tight')\n",
    "plt.xlabel('alpha')\n",
    "plt.ylabel('weights')\n",
    "plt.show()"
   ]
  },
  {
   "cell_type": "code",
   "execution_count": 224,
   "metadata": {
    "scrolled": true
   },
   "outputs": [
    {
     "name": "stdout",
     "output_type": "stream",
     "text": [
      "6.14289791715e-05\n"
     ]
    },
    {
     "data": {
      "text/plain": [
       "0.011450031776240708"
      ]
     },
     "execution_count": 224,
     "metadata": {},
     "output_type": "execute_result"
    }
   ],
   "source": [
    "#optimal alpha value using mininum cross validation variablitiy\n",
    "lassocv = LassoCV(alphas = None, cv = 5, max_iter = 100000, normalize = True)\n",
    "lassocv.fit(X_train2, y_train2)\n",
    "\n",
    "lasso.set_params(alpha=lassocv.alpha_)\n",
    "lasso.fit(X_train2, y_train2)\n",
    "print(lassocv.alpha_)\n",
    "mean_squared_error(y, lasso.predict(X))"
   ]
  },
  {
   "cell_type": "code",
   "execution_count": 252,
   "metadata": {},
   "outputs": [
    {
     "data": {
      "image/png": "[encoded data removed]",
      "text/plain": [
       "<matplotlib.figure.Figure at 0x1c486790198>"
      ]
     },
     "metadata": {},
     "output_type": "display_data"
    }
   ],
   "source": [
    "# Extract predicted values.\n",
    "predicted = lass.predict(X).ravel()\n",
    "actual = y\n",
    "\n",
    "# Calculate the error, also called the residual.\n",
    "residual = actual - predicted\n",
    "\n",
    "# This looks a bit concerning.\n",
    "plt.hist(residual)\n",
    "plt.title('Residual counts')\n",
    "plt.xlabel('Residual')\n",
    "plt.ylabel('Count')\n",
    "plt.show()"
   ]
  },
  {
   "cell_type": "code",
   "execution_count": 253,
   "metadata": {},
   "outputs": [
    {
     "data": {
      "image/png": "[encoded data removed]",
      "text/plain": [
       "<matplotlib.figure.Figure at 0x1c484243780>"
      ]
     },
     "metadata": {},
     "output_type": "display_data"
    },
    {
     "name": "stdout",
     "output_type": "stream",
     "text": [
      "0.793237682034\n"
     ]
    }
   ],
   "source": [
    "plt.scatter(predicted, residual)\n",
    "plt.xlabel('Predicted')\n",
    "plt.ylabel('Residual')\n",
    "plt.axhline(y=0)\n",
    "plt.title('Residual vs. Predicted')\n",
    "plt.show()\n",
    "print(max(residual)-min(residual))"
   ]
  },
  {
   "cell_type": "markdown",
   "metadata": {},
   "source": [
    "# ridge regression"
   ]
  },
  {
   "cell_type": "code",
   "execution_count": 258,
   "metadata": {},
   "outputs": [
    {
     "name": "stdout",
     "output_type": "stream",
     "text": [
      "0.891301365603\n",
      "Cross Validation\n",
      "\n",
      "Parameter estimates for the model with few features:\n",
      "[-2.40242382 -0.31499678 -0.48950655 -0.01482667  0.02949201  2.42351066\n",
      "  1.99100544  0.91185479  0.20774348  1.00070233  1.04578234  1.06411903\n",
      "  0.        ]\n",
      "\n",
      "0.895206782555\n"
     ]
    },
    {
     "data": {
      "text/plain": [
       "array([ 0.87590861,  0.89017263,  0.89468374,  0.90135248,  0.91391645])"
      ]
     },
     "execution_count": 258,
     "metadata": {},
     "output_type": "execute_result"
    }
   ],
   "source": [
    "#ridge regression with no set intercept because the whole equation will increase by some constant off true value\n",
    "ridgeregr = Ridge(alpha=0.008737642000038414, fit_intercept=False, normalize = True)\n",
    "ridgeregr.fit(X_train2, y_train2)\n",
    "print(ridgeregr.score(X_test2, y_test2))\n",
    "print('Cross Validation')\n",
    "origparams = np.append(ridgeregr.coef_, ridgeregr.intercept_)\n",
    "print('\\nParameter estimates for the model with few features:')\n",
    "print(str(origparams) + '\\n')\n",
    "k = cross_val_score(ridgeregr, X, y, cv=5)\n",
    "k.sort()\n",
    "print(np.mean(k))\n",
    "k"
   ]
  },
  {
   "cell_type": "code",
   "execution_count": 259,
   "metadata": {},
   "outputs": [
    {
     "data": {
      "text/plain": [
       "0.038007839302772739"
      ]
     },
     "execution_count": 259,
     "metadata": {},
     "output_type": "execute_result"
    }
   ],
   "source": [
    "max(k) -min(k)"
   ]
  },
  {
   "cell_type": "code",
   "execution_count": 260,
   "metadata": {},
   "outputs": [],
   "source": [
    "#Finding optimal alpha value\n",
    "alphas = 10**np.linspace(10,-2,100)*0.5\n",
    "alphas\n",
    "coefs = []\n",
    "\n",
    "for a in alphas:\n",
    "    ridgeregr.set_params(alpha = a)\n",
    "    ridgeregr.fit(X_train2, y_train2)\n",
    "    coefs.append(ridgeregr.coef_)\n",
    "    "
   ]
  },
  {
   "cell_type": "code",
   "execution_count": 261,
   "metadata": {},
   "outputs": [
    {
     "data": {
      "image/png": "[encoded data removed]",
      "text/plain": [
       "<matplotlib.figure.Figure at 0x1c482e49438>"
      ]
     },
     "metadata": {},
     "output_type": "display_data"
    }
   ],
   "source": [
    "ax = plt.gca()\n",
    "ax.plot(alphas, coefs)\n",
    "ax.set_xscale('log')\n",
    "plt.axis('tight')\n",
    "plt.xlabel('alpha')\n",
    "plt.ylabel('weights')\n",
    "plt.legend(('horsepower', 'Model_Year','Engin',4,6,8,1,2,3),\n",
    "           shadow=True, loc=(0.65, 0.2), handlelength=1.5, fontsize=12)\n",
    "plt.show()"
   ]
  },
  {
   "cell_type": "code",
   "execution_count": 262,
   "metadata": {},
   "outputs": [
    {
     "data": {
      "text/plain": [
       "0.008737642000038414"
      ]
     },
     "execution_count": 262,
     "metadata": {},
     "output_type": "execute_result"
    }
   ],
   "source": [
    "#optical alpha value by minimizing varibility of cross-validation result\n",
    "ridgecv = RidgeCV(alphas = alphas, scoring = 'neg_mean_squared_error', normalize = True)\n",
    "ridgecv.fit(X_train2, y_train2)\n",
    "ridgecv.alpha_"
   ]
  },
  {
   "cell_type": "code",
   "execution_count": 263,
   "metadata": {},
   "outputs": [
    {
     "data": {
      "image/png": "[encoded data removed]",
      "text/plain": [
       "<matplotlib.figure.Figure at 0x1c48425f240>"
      ]
     },
     "metadata": {},
     "output_type": "display_data"
    }
   ],
   "source": [
    "# Extract predicted values.\n",
    "predicted = ridgeregr.predict(X).ravel()\n",
    "actual = y\n",
    "\n",
    "# Calculate the error, also called the residual.\n",
    "residual = actual - predicted\n",
    "\n",
    "# This looks a bit concerning.\n",
    "plt.hist(residual)\n",
    "plt.title('Residual counts')\n",
    "plt.xlabel('Residual')\n",
    "plt.ylabel('Count')\n",
    "plt.show()"
   ]
  },
  {
   "cell_type": "code",
   "execution_count": 264,
   "metadata": {},
   "outputs": [
    {
     "data": {
      "image/png": "[encoded data removed]",
      "text/plain": [
       "<matplotlib.figure.Figure at 0x1c483f25550>"
      ]
     },
     "metadata": {},
     "output_type": "display_data"
    },
    {
     "name": "stdout",
     "output_type": "stream",
     "text": [
      "0.785359523762\n"
     ]
    }
   ],
   "source": [
    "plt.scatter(predicted, residual)\n",
    "plt.xlabel('Predicted')\n",
    "plt.ylabel('Residual')\n",
    "plt.axhline(y=0)\n",
    "plt.title('Residual vs. Predicted')\n",
    "plt.show()\n",
    "print(max(residual)-min(residual))"
   ]
  },
  {
   "cell_type": "markdown",
   "metadata": {},
   "source": [
    "# SVM"
   ]
  },
  {
   "cell_type": "code",
   "execution_count": 265,
   "metadata": {},
   "outputs": [
    {
     "name": "stdout",
     "output_type": "stream",
     "text": [
      "0.891244124348\n",
      "Cross Validation\n"
     ]
    },
    {
     "data": {
      "text/plain": [
       "array([ 0.87552778,  0.89189949,  0.89429849,  0.90159767,  0.91396183])"
      ]
     },
     "execution_count": 265,
     "metadata": {},
     "output_type": "execute_result"
    }
   ],
   "source": [
    "#Support vector used mainly for classification and dataset with many feature (>10^6)\n",
    "#Its in the mix to see what it can do and how does it compare\n",
    "svr = SVR()\n",
    "\n",
    "svr.fit(X_train2, y_train2)\n",
    "print(ridgeregr.score(X_test2, y_test2))\n",
    "print('Cross Validation')\n",
    "k = cross_val_score(ridgeregr, X, y, cv=5)\n",
    "k.sort()\n",
    "k"
   ]
  },
  {
   "cell_type": "code",
   "execution_count": 266,
   "metadata": {},
   "outputs": [
    {
     "data": {
      "text/plain": [
       "0.038434053703432003"
      ]
     },
     "execution_count": 266,
     "metadata": {},
     "output_type": "execute_result"
    }
   ],
   "source": [
    "max(k) -min(k)"
   ]
  },
  {
   "cell_type": "code",
   "execution_count": 267,
   "metadata": {},
   "outputs": [
    {
     "data": {
      "image/png": "[encoded data removed]",
      "text/plain": [
       "<matplotlib.figure.Figure at 0x1c4829dd240>"
      ]
     },
     "metadata": {},
     "output_type": "display_data"
    }
   ],
   "source": [
    "# Extract predicted values.\n",
    "predicted = svr.predict(X).ravel()\n",
    "actual = y\n",
    "\n",
    "# Calculate the error, also called the residual.\n",
    "residual = actual - predicted\n",
    "\n",
    "# This looks a bit concerning.\n",
    "plt.hist(residual)\n",
    "plt.title('Residual counts')\n",
    "plt.xlabel('Residual')\n",
    "plt.ylabel('Count')\n",
    "plt.show()"
   ]
  },
  {
   "cell_type": "code",
   "execution_count": 268,
   "metadata": {},
   "outputs": [
    {
     "data": {
      "image/png": "[encoded data removed]",
      "text/plain": [
       "<matplotlib.figure.Figure at 0x1c4867ee5c0>"
      ]
     },
     "metadata": {},
     "output_type": "display_data"
    },
    {
     "name": "stdout",
     "output_type": "stream",
     "text": [
      "0.660862349743\n"
     ]
    }
   ],
   "source": [
    "plt.scatter(predicted, residual)\n",
    "plt.xlabel('Predicted')\n",
    "plt.ylabel('Residual')\n",
    "plt.axhline(y=0)\n",
    "plt.title('Residual vs. Predicted')\n",
    "plt.show()\n",
    "print(max(residual)-min(residual))"
   ]
  },
  {
   "cell_type": "markdown",
   "metadata": {},
   "source": [
    "# End of model"
   ]
  },
  {
   "cell_type": "code",
   "execution_count": 33,
   "metadata": {
    "collapsed": true
   },
   "outputs": [
    {
     "name": "stdout",
     "output_type": "stream",
     "text": [
      "4    199\n",
      "8    103\n",
      "6     83\n",
      "3      4\n",
      "5      3\n",
      "Name: Cylinders, dtype: int64\n"
     ]
    },
    {
     "data": {
      "image/png": "[encoded data removed]",
      "text/plain": [
       "<matplotlib.figure.Figure at 0x23e011c0a90>"
      ]
     },
     "metadata": {},
     "output_type": "display_data"
    }
   ],
   "source": [
    "#Graph to illistrate the insuffecent data point for certin input variable\n",
    "target_count = auto_mpg_df.Cylinders.value_counts()\n",
    "\n",
    "print(target_count)\n",
    "#print('Class 1:', target_count[1])\n",
    "#print('Proportion:', round(target_count[0] / target_count[1], 2), ': 1')\n",
    "\n",
    "target_count.plot(kind='bar', title='Count (target)');\n",
    "plt.savefig('autompg_cylinder_count.png', bbox_inches='tight')\n",
    "plt.show() "
   ]
  },
  {
   "cell_type": "code",
   "execution_count": 60,
   "metadata": {
    "collapsed": true
   },
   "outputs": [
    {
     "data": {
      "image/png": "[encoded data removed]",
      "text/plain": [
       "<matplotlib.figure.Figure at 0x23e2298d828>"
      ]
     },
     "metadata": {},
     "output_type": "display_data"
    }
   ],
   "source": [
    "#Graph to illistrate fix for the insuffecent data point for certin input variable\n",
    "auto_mpg_df2.groupby(['Cylinders', 'Origin'])['MPG'].size().unstack().plot(kind='bar', stacked=True)\n",
    "plt.ylabel('Count')\n",
    "plt.savefig('autompg_cylinder_count.png', bbox_inches='tight')\n",
    "plt.show()"
   ]
  },
  {
   "cell_type": "code",
   "execution_count": 36,
   "metadata": {
    "collapsed": true
   },
   "outputs": [
    {
     "name": "stdout",
     "output_type": "stream",
     "text": [
      "4    199\n",
      "8    103\n",
      "6     83\n",
      "Name: Cylinders, dtype: int64\n"
     ]
    },
    {
     "data": {
      "image/png": "[encoded data removed]",
      "text/plain": [
       "<matplotlib.figure.Figure at 0x23e7fae7208>"
      ]
     },
     "metadata": {},
     "output_type": "display_data"
    }
   ],
   "source": [
    "target_count = auto_mpg_df.Cylinders.value_counts()\n",
    "\n",
    "print(target_count)\n",
    "#print('Class 1:', target_count[1])\n",
    "#print('Proportion:', round(target_count[0] / target_count[1], 2), ': 1')\n",
    "\n",
    "target_count.plot(kind='bar', title='Count (target)');\n",
    "plt.show()"
   ]
  },
  {
   "cell_type": "code",
   "execution_count": 69,
   "metadata": {
    "collapsed": true
   },
   "outputs": [
    {
     "data": {
      "image/png": "[encoded data removed]",
      "text/plain": [
       "<matplotlib.figure.Figure at 0x23e22c7ca20>"
      ]
     },
     "metadata": {},
     "output_type": "display_data"
    }
   ],
   "source": [
    "auto_mpg_df2.groupby(['Cylinders', 'Origin'])['MPG'].size().unstack().plot(kind='bar', stacked=True)\n",
    "plt.ylabel('Count')\n",
    "plt.savefig('autompg_cylinder_count2.png', bbox_inches='tight')\n",
    "plt.show()"
   ]
  },
  {
   "cell_type": "markdown",
   "metadata": {},
   "source": [
    "Hi @Kartse, thanks for asking about the capstone presentation system..\n",
    "\n",
    "From your dashboard, go to Goals and you should see a Calendly link for scheduling time with a capstone review host.  This link is only available once you have completed all previous goals including a mock interview.\n",
    "\n",
    "Provided all prior goals have been approved, you will see a Calendly to schedule a host and time that works for you, preferably with a few days notice.\n",
    "\n",
    "After you select a time slot, come back to the Goals page and you will see a capstone submission form where you will enter a project URL, a title and a story/abstract.\n",
    "\n",
    "URL: I like the URL to point to a directory in a Github repository. In this directory you may include:\n",
    "\n",
    "1. project-name.ipynb (include URL to data)\n",
    "2. project-name.pdf (PDF of slide deck)\n",
    "3. If your data set is small and unique include it\n",
    "\n",
    "Title: project name.\n",
    "\n",
    "Story: say something about the problem you are trying to solve and what tools you used to do them with. Get creative or keep it dry. This is a chance to work on your presentation skills, including summarizing your project in a few sentences.\n",
    "\n",
    "You may reference what part of the curriculum this capstone addresses (supervised learning, unsupervised learning, or final project).\n",
    "\n",
    "Hitting the submit button will add an entry into the Workshops where folks may find your abstract/story and RSVP to join your talk.\n",
    "\n",
    "A nice way to close the loop is to send the Workshop notice to your reviewer to signal that all's good to go and they can look over your code and be prepared to host. Typically, the more lead time you give your reviewer and potential audience, the more you will get out of the process.\n",
    "\n",
    "Let me know if you have questions, happy to help!"
   ]
  }
 ],
 "metadata": {
  "kernelspec": {
   "display_name": "Python 3",
   "language": "python",
   "name": "python3"
  },
  "language_info": {
   "codemirror_mode": {
    "name": "ipython",
    "version": 3
   },
   "file_extension": ".py",
   "mimetype": "text/x-python",
   "name": "python",
   "nbconvert_exporter": "python",
   "pygments_lexer": "ipython3",
   "version": "3.6.3"
  }
 },
 "nbformat": 4,
 "nbformat_minor": 2
}
