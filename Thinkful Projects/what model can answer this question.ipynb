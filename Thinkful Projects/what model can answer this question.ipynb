{
 "cells": [
  {
   "cell_type": "markdown",
   "metadata": {},
   "source": [
    "# For each, identify which supervised learning method(s) would be best for addressing that particular problem. Explain your reasoning and discuss your answers with your mentor."
   ]
  },
  {
   "cell_type": "markdown",
   "metadata": {},
   "source": [
    "1. Predict the running times of prospective Olympic sprinters using data from the last 20 Olympics.\n",
    "    - Regresion: since we are trying to predict a time of a unknow runner, which could fall anywhere.\n",
    "2. You have more features (columns) than rows in your dataset.\n",
    "    - Lasso: has penalty factor that limits the influnce of the multicolianerty. which is a poential souce of error with large features.\n",
    "3. Identify the most important characteristic predicting likelihood of being jailed before age 20.\n",
    "    - Gradient boost: shows how many times a feature is used over the many decision trees\n",
    "4. Implement a filter to “highlight” emails that might be important to the recipient\n",
    "    - Naive Bayes: Given spicific conditions of the recipient, a feture set could be created which would predict how important a email is.\n",
    "5. You have 1000+ features.\n",
    "    - Partial least squred: reduces number of features\n",
    "6. Predict whether someone who adds items to their cart on a website will purchase the items.\n",
    "    - Naive Bayes and linear SVM: binary out comes\n",
    "7. Your dataset dimensions are 982400 x 500\n",
    "    - \n",
    "8. Identify faces in an image.\n",
    "9. Predict which of three flavors of ice cream will be most popular with boys vs girls.\n",
    "    - SVM: it can be used for multiple classification.\n"
   ]
  },
  {
   "cell_type": "code",
   "execution_count": null,
   "metadata": {
    "collapsed": true
   },
   "outputs": [],
   "source": []
  }
 ],
 "metadata": {
  "kernelspec": {
   "display_name": "Python 3",
   "language": "python",
   "name": "python3"
  },
  "language_info": {
   "codemirror_mode": {
    "name": "ipython",
    "version": 3
   },
   "file_extension": ".py",
   "mimetype": "text/x-python",
   "name": "python",
   "nbconvert_exporter": "python",
   "pygments_lexer": "ipython3",
   "version": "3.6.3"
  }
 },
 "nbformat": 4,
 "nbformat_minor": 2
}
