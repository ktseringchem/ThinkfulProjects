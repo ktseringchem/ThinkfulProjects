{
 "cells": [
  {
   "cell_type": "code",
   "execution_count": 1,
   "metadata": {
    "collapsed": true,
    "run_control": {
     "frozen": false,
     "read_only": false
    }
   },
   "outputs": [],
   "source": [
    "%matplotlib inline\n",
    "import numpy as np\n",
    "import pandas as pd\n",
    "import scipy\n",
    "import sklearn\n",
    "import spacy\n",
    "import matplotlib.pyplot as plt\n",
    "import seaborn as sns\n",
    "import re\n",
    "from sklearn.svm import SVC\n",
    "from nltk.corpus import gutenberg, stopwords\n",
    "from collections import Counter"
   ]
  },
  {
   "cell_type": "markdown",
   "metadata": {
    "run_control": {
     "frozen": false,
     "read_only": false
    }
   },
   "source": [
    "Supervised NLP requires a pre-labelled dataset for training and testing, and is generally interested in categorizing text in various ways. In this case, we are going to try to predict whether a sentence comes from _Alice in Wonderland_ by Lewis Carroll or _Persuasion_ by Jane Austen. We can use any of the supervised models we've covered previously, as long as they allow categorical outcomes. In this case, we'll try Random Forests, SVM, and KNN.\n",
    "\n",
    "Our feature-generation approach will be something called _BoW_, or _Bag of Words_. BoW is quite simple: For each sentence, we count how many times each word appears. We will then use those counts as features.  "
   ]
  },
  {
   "cell_type": "code",
   "execution_count": 2,
   "metadata": {
    "collapsed": true,
    "run_control": {
     "frozen": false,
     "read_only": false
    },
    "scrolled": true
   },
   "outputs": [],
   "source": [
    "# Utility function for standard text cleaning.\n",
    "def text_cleaner(text):\n",
    "    # Visual inspection identifies a form of punctuation spaCy does not\n",
    "    # recognize: the double dash '--'.  Better get rid of it now!\n",
    "    text = re.sub(r'--',' ',text)\n",
    "    text = re.sub(\"[\\[].*?[\\]]\", \"\", text)\n",
    "    text = ' '.join(text.split())\n",
    "    return text\n",
    "    \n",
    "# Load and clean the data.\n",
    "persuasion = gutenberg.raw('austen-persuasion.txt')\n",
    "alice = gutenberg.raw('carroll-alice.txt')\n",
    "\n",
    "# The Chapter indicator is idiosyncratic\n",
    "persuasion = re.sub(r'Chapter \\d+', '', persuasion)\n",
    "alice = re.sub(r'CHAPTER .*', '', alice)\n",
    "    \n",
    "alice = text_cleaner(alice)\n",
    "persuasion = text_cleaner(persuasion)"
   ]
  },
  {
   "cell_type": "code",
   "execution_count": 3,
   "metadata": {
    "collapsed": true
   },
   "outputs": [],
   "source": [
    "# Parse the cleaned novels. This can take a bit.\n",
    "nlp = spacy.load('en')\n",
    "alice_doc = nlp(alice)\n",
    "persuasion_doc = nlp(persuasion)"
   ]
  },
  {
   "cell_type": "code",
   "execution_count": 4,
   "metadata": {},
   "outputs": [
    {
     "data": {
      "text/html": [
       "<div>\n",
       "<style>\n",
       "    .dataframe thead tr:only-child th {\n",
       "        text-align: right;\n",
       "    }\n",
       "\n",
       "    .dataframe thead th {\n",
       "        text-align: left;\n",
       "    }\n",
       "\n",
       "    .dataframe tbody tr th {\n",
       "        vertical-align: top;\n",
       "    }\n",
       "</style>\n",
       "<table border=\"1\" class=\"dataframe\">\n",
       "  <thead>\n",
       "    <tr style=\"text-align: right;\">\n",
       "      <th></th>\n",
       "      <th>0</th>\n",
       "      <th>1</th>\n",
       "    </tr>\n",
       "  </thead>\n",
       "  <tbody>\n",
       "    <tr>\n",
       "      <th>0</th>\n",
       "      <td>(Alice, was, beginning, to, get, very, tired, ...</td>\n",
       "      <td>Carroll</td>\n",
       "    </tr>\n",
       "    <tr>\n",
       "      <th>1</th>\n",
       "      <td>(So, she, was, considering, in, her, own, mind...</td>\n",
       "      <td>Carroll</td>\n",
       "    </tr>\n",
       "    <tr>\n",
       "      <th>2</th>\n",
       "      <td>(There, was, nothing, so, VERY, remarkable, in...</td>\n",
       "      <td>Carroll</td>\n",
       "    </tr>\n",
       "    <tr>\n",
       "      <th>3</th>\n",
       "      <td>(Oh, dear, !)</td>\n",
       "      <td>Carroll</td>\n",
       "    </tr>\n",
       "    <tr>\n",
       "      <th>4</th>\n",
       "      <td>(I, shall, be, late, !, ')</td>\n",
       "      <td>Carroll</td>\n",
       "    </tr>\n",
       "  </tbody>\n",
       "</table>\n",
       "</div>"
      ],
      "text/plain": [
       "                                                   0        1\n",
       "0  (Alice, was, beginning, to, get, very, tired, ...  Carroll\n",
       "1  (So, she, was, considering, in, her, own, mind...  Carroll\n",
       "2  (There, was, nothing, so, VERY, remarkable, in...  Carroll\n",
       "3                                      (Oh, dear, !)  Carroll\n",
       "4                         (I, shall, be, late, !, ')  Carroll"
      ]
     },
     "execution_count": 4,
     "metadata": {},
     "output_type": "execute_result"
    }
   ],
   "source": [
    "# Group into sentences.\n",
    "alice_sents = [[sent, \"Carroll\"] for sent in alice_doc.sents]\n",
    "persuasion_sents = [[sent, \"Austen\"] for sent in persuasion_doc.sents]\n",
    "\n",
    "# Combine the sentences from the two novels into one data frame.\n",
    "sentences = pd.DataFrame(alice_sents + persuasion_sents)\n",
    "sentences.head()"
   ]
  },
  {
   "cell_type": "markdown",
   "metadata": {
    "run_control": {
     "frozen": false,
     "read_only": false
    }
   },
   "source": [
    "Time to bag some words!  Since spaCy has already tokenized and labelled our data, we can move directly to recording how often various words occur.  We will exclude stopwords and punctuation.  In addition, in an attempt to keep our feature space from exploding, we will work with lemmas (root words) rather than the raw text terms, and we'll only use the 2000 most common words for each text."
   ]
  },
  {
   "cell_type": "code",
   "execution_count": 5,
   "metadata": {
    "collapsed": true,
    "run_control": {
     "frozen": false,
     "read_only": false
    },
    "scrolled": false
   },
   "outputs": [],
   "source": [
    "# Utility function to create a list of the 2000 most common words.\n",
    "def bag_of_words(text):\n",
    "    \n",
    "    # Filter out punctuation and stop words.\n",
    "    allwords = [token.lemma_\n",
    "                for token in text\n",
    "                if not token.is_punct\n",
    "                and not token.is_stop]\n",
    "    \n",
    "    # Return the most common words.\n",
    "    return [item[0] for item in Counter(allwords).most_common(2000)]\n",
    "    \n",
    "\n",
    "# Creates a data frame with features for each word in our common word set.\n",
    "# Each value is the count of the times the word appears in each sentence.\n",
    "def bow_features(sentences, common_words):\n",
    "    \n",
    "    # Scaffold the data frame and initialize counts to zero.\n",
    "    df = pd.DataFrame(columns=common_words)\n",
    "    df['text_sentence'] = sentences[0]\n",
    "    df['text_source'] = sentences[1]\n",
    "    df.loc[:, common_words] = 0\n",
    "    \n",
    "    # Process each row, counting the occurrence of words in each sentence.\n",
    "    for i, sentence in enumerate(df['text_sentence']):\n",
    "        \n",
    "        # Convert the sentence to lemmas, then filter out punctuation,\n",
    "        # stop words, and uncommon words.\n",
    "        words = [token.lemma_\n",
    "                 for token in sentence\n",
    "                 if (\n",
    "                     not token.is_punct\n",
    "                     and not token.is_stop\n",
    "                     and token.lemma_ in common_words\n",
    "                 )]\n",
    "        \n",
    "        # Populate the row with word counts.\n",
    "        for word in words:\n",
    "            df.loc[i, word] += 1\n",
    "        \n",
    "        # This counter is just to make sure the kernel didn't hang.\n",
    "        if i % 500 == 0:\n",
    "            print(\"Processing row {}\".format(i))\n",
    "            \n",
    "    return df\n",
    "\n",
    "# Set up the bags.\n",
    "alicewords = bag_of_words(alice_doc)\n",
    "persuasionwords = bag_of_words(persuasion_doc)\n",
    "\n",
    "# Combine bags to create a set of unique words.\n",
    "common_words = set(alicewords + persuasionwords)"
   ]
  },
  {
   "cell_type": "code",
   "execution_count": 6,
   "metadata": {},
   "outputs": [
    {
     "name": "stdout",
     "output_type": "stream",
     "text": [
      "Processing row 0\n",
      "Processing row 500\n",
      "Processing row 1000\n",
      "Processing row 1500\n",
      "Processing row 2000\n",
      "Processing row 2500\n",
      "Processing row 3000\n",
      "Processing row 3500\n",
      "Processing row 4000\n",
      "Processing row 4500\n",
      "Processing row 5000\n"
     ]
    },
    {
     "data": {
      "text/html": [
       "<div>\n",
       "<style>\n",
       "    .dataframe thead tr:only-child th {\n",
       "        text-align: right;\n",
       "    }\n",
       "\n",
       "    .dataframe thead th {\n",
       "        text-align: left;\n",
       "    }\n",
       "\n",
       "    .dataframe tbody tr th {\n",
       "        vertical-align: top;\n",
       "    }\n",
       "</style>\n",
       "<table border=\"1\" class=\"dataframe\">\n",
       "  <thead>\n",
       "    <tr style=\"text-align: right;\">\n",
       "      <th></th>\n",
       "      <th>but</th>\n",
       "      <th>slowly</th>\n",
       "      <th>rejoinder</th>\n",
       "      <th>butterfly</th>\n",
       "      <th>superior</th>\n",
       "      <th>muscular</th>\n",
       "      <th>alter</th>\n",
       "      <th>solicitude</th>\n",
       "      <th>snout</th>\n",
       "      <th>child</th>\n",
       "      <th>...</th>\n",
       "      <th>hurriedly</th>\n",
       "      <th>rosetree</th>\n",
       "      <th>decide</th>\n",
       "      <th>drawl</th>\n",
       "      <th>agitation</th>\n",
       "      <th>her</th>\n",
       "      <th>start</th>\n",
       "      <th>cunning</th>\n",
       "      <th>text_sentence</th>\n",
       "      <th>text_source</th>\n",
       "    </tr>\n",
       "  </thead>\n",
       "  <tbody>\n",
       "    <tr>\n",
       "      <th>0</th>\n",
       "      <td>0</td>\n",
       "      <td>0</td>\n",
       "      <td>0</td>\n",
       "      <td>0</td>\n",
       "      <td>0</td>\n",
       "      <td>0</td>\n",
       "      <td>0</td>\n",
       "      <td>0</td>\n",
       "      <td>0</td>\n",
       "      <td>0</td>\n",
       "      <td>...</td>\n",
       "      <td>0</td>\n",
       "      <td>0</td>\n",
       "      <td>0</td>\n",
       "      <td>0</td>\n",
       "      <td>0</td>\n",
       "      <td>0</td>\n",
       "      <td>0</td>\n",
       "      <td>0</td>\n",
       "      <td>(Alice, was, beginning, to, get, very, tired, ...</td>\n",
       "      <td>Carroll</td>\n",
       "    </tr>\n",
       "    <tr>\n",
       "      <th>1</th>\n",
       "      <td>0</td>\n",
       "      <td>0</td>\n",
       "      <td>0</td>\n",
       "      <td>0</td>\n",
       "      <td>0</td>\n",
       "      <td>0</td>\n",
       "      <td>0</td>\n",
       "      <td>0</td>\n",
       "      <td>0</td>\n",
       "      <td>0</td>\n",
       "      <td>...</td>\n",
       "      <td>0</td>\n",
       "      <td>0</td>\n",
       "      <td>0</td>\n",
       "      <td>0</td>\n",
       "      <td>0</td>\n",
       "      <td>0</td>\n",
       "      <td>0</td>\n",
       "      <td>0</td>\n",
       "      <td>(So, she, was, considering, in, her, own, mind...</td>\n",
       "      <td>Carroll</td>\n",
       "    </tr>\n",
       "    <tr>\n",
       "      <th>2</th>\n",
       "      <td>0</td>\n",
       "      <td>0</td>\n",
       "      <td>0</td>\n",
       "      <td>0</td>\n",
       "      <td>0</td>\n",
       "      <td>0</td>\n",
       "      <td>0</td>\n",
       "      <td>0</td>\n",
       "      <td>0</td>\n",
       "      <td>0</td>\n",
       "      <td>...</td>\n",
       "      <td>0</td>\n",
       "      <td>0</td>\n",
       "      <td>0</td>\n",
       "      <td>0</td>\n",
       "      <td>0</td>\n",
       "      <td>0</td>\n",
       "      <td>0</td>\n",
       "      <td>0</td>\n",
       "      <td>(There, was, nothing, so, VERY, remarkable, in...</td>\n",
       "      <td>Carroll</td>\n",
       "    </tr>\n",
       "    <tr>\n",
       "      <th>3</th>\n",
       "      <td>0</td>\n",
       "      <td>0</td>\n",
       "      <td>0</td>\n",
       "      <td>0</td>\n",
       "      <td>0</td>\n",
       "      <td>0</td>\n",
       "      <td>0</td>\n",
       "      <td>0</td>\n",
       "      <td>0</td>\n",
       "      <td>0</td>\n",
       "      <td>...</td>\n",
       "      <td>0</td>\n",
       "      <td>0</td>\n",
       "      <td>0</td>\n",
       "      <td>0</td>\n",
       "      <td>0</td>\n",
       "      <td>0</td>\n",
       "      <td>0</td>\n",
       "      <td>0</td>\n",
       "      <td>(Oh, dear, !)</td>\n",
       "      <td>Carroll</td>\n",
       "    </tr>\n",
       "    <tr>\n",
       "      <th>4</th>\n",
       "      <td>0</td>\n",
       "      <td>0</td>\n",
       "      <td>0</td>\n",
       "      <td>0</td>\n",
       "      <td>0</td>\n",
       "      <td>0</td>\n",
       "      <td>0</td>\n",
       "      <td>0</td>\n",
       "      <td>0</td>\n",
       "      <td>0</td>\n",
       "      <td>...</td>\n",
       "      <td>0</td>\n",
       "      <td>0</td>\n",
       "      <td>0</td>\n",
       "      <td>0</td>\n",
       "      <td>0</td>\n",
       "      <td>0</td>\n",
       "      <td>0</td>\n",
       "      <td>0</td>\n",
       "      <td>(I, shall, be, late, !, ')</td>\n",
       "      <td>Carroll</td>\n",
       "    </tr>\n",
       "  </tbody>\n",
       "</table>\n",
       "<p>5 rows × 3064 columns</p>\n",
       "</div>"
      ],
      "text/plain": [
       "  but slowly rejoinder butterfly superior muscular alter solicitude snout  \\\n",
       "0   0      0         0         0        0        0     0          0     0   \n",
       "1   0      0         0         0        0        0     0          0     0   \n",
       "2   0      0         0         0        0        0     0          0     0   \n",
       "3   0      0         0         0        0        0     0          0     0   \n",
       "4   0      0         0         0        0        0     0          0     0   \n",
       "\n",
       "  child     ...     hurriedly rosetree decide drawl agitation her start  \\\n",
       "0     0     ...             0        0      0     0         0   0     0   \n",
       "1     0     ...             0        0      0     0         0   0     0   \n",
       "2     0     ...             0        0      0     0         0   0     0   \n",
       "3     0     ...             0        0      0     0         0   0     0   \n",
       "4     0     ...             0        0      0     0         0   0     0   \n",
       "\n",
       "  cunning                                      text_sentence text_source  \n",
       "0       0  (Alice, was, beginning, to, get, very, tired, ...     Carroll  \n",
       "1       0  (So, she, was, considering, in, her, own, mind...     Carroll  \n",
       "2       0  (There, was, nothing, so, VERY, remarkable, in...     Carroll  \n",
       "3       0                                      (Oh, dear, !)     Carroll  \n",
       "4       0                         (I, shall, be, late, !, ')     Carroll  \n",
       "\n",
       "[5 rows x 3064 columns]"
      ]
     },
     "execution_count": 6,
     "metadata": {},
     "output_type": "execute_result"
    }
   ],
   "source": [
    "# Create our data frame with features. This can take a while to run.\n",
    "word_counts = bow_features(sentences, common_words)\n",
    "word_counts.head()"
   ]
  },
  {
   "cell_type": "markdown",
   "metadata": {
    "run_control": {
     "frozen": false,
     "read_only": false
    }
   },
   "source": [
    "## Trying out BoW\n",
    "\n",
    "Now let's give the bag of words features a whirl by trying a random forest."
   ]
  },
  {
   "cell_type": "code",
   "execution_count": 7,
   "metadata": {
    "run_control": {
     "frozen": false,
     "read_only": false
    },
    "scrolled": false
   },
   "outputs": [
    {
     "name": "stdout",
     "output_type": "stream",
     "text": [
      "Training set score: 0.9890282131661442\n",
      "\n",
      "Test set score: 0.8919172932330827\n"
     ]
    }
   ],
   "source": [
    "from sklearn import ensemble\n",
    "from sklearn.model_selection import train_test_split\n",
    "\n",
    "rfc = ensemble.RandomForestClassifier()\n",
    "Y = word_counts['text_source']\n",
    "X = np.array(word_counts.drop(['text_sentence','text_source'], 1))\n",
    "\n",
    "X_train, X_test, y_train, y_test = train_test_split(X, \n",
    "                                                    Y,\n",
    "                                                    test_size=0.4,\n",
    "                                                    random_state=0)\n",
    "train = rfc.fit(X_train, y_train)\n",
    "\n",
    "print('Training set score:', rfc.score(X_train, y_train))\n",
    "print('\\nTest set score:', rfc.score(X_test, y_test))"
   ]
  },
  {
   "cell_type": "markdown",
   "metadata": {
    "run_control": {
     "frozen": false,
     "read_only": false
    }
   },
   "source": [
    "## BoW with Logistic Regression\n",
    "\n",
    "Let's try a technique with some protection against overfitting due to extraneous features – logistic regression with ridge regularization (from ridge regression, also called L2 regularization)."
   ]
  },
  {
   "cell_type": "code",
   "execution_count": 8,
   "metadata": {
    "run_control": {
     "frozen": false,
     "read_only": false
    }
   },
   "outputs": [
    {
     "name": "stdout",
     "output_type": "stream",
     "text": [
      "(3190, 3062) (3190,)\n",
      "Training set score: 0.9579937304075236\n",
      "\n",
      "Test set score: 0.9158834586466166\n"
     ]
    }
   ],
   "source": [
    "from sklearn.linear_model import LogisticRegression\n",
    "\n",
    "lr = LogisticRegression()\n",
    "train = lr.fit(X_train, y_train)\n",
    "print(X_train.shape, y_train.shape)\n",
    "print('Training set score:', lr.score(X_train, y_train))\n",
    "print('\\nTest set score:', lr.score(X_test, y_test))"
   ]
  },
  {
   "cell_type": "markdown",
   "metadata": {
    "run_control": {
     "frozen": false,
     "read_only": false
    }
   },
   "source": [
    "Logistic regression performs a bit better than the random forest.  \n",
    "\n",
    "# BoW with Gradient Boosting\n",
    "\n",
    "And finally, let's see what gradient boosting can do:"
   ]
  },
  {
   "cell_type": "code",
   "execution_count": 9,
   "metadata": {
    "run_control": {
     "frozen": false,
     "read_only": false
    }
   },
   "outputs": [
    {
     "name": "stdout",
     "output_type": "stream",
     "text": [
      "Training set score: 0.8846394984326019\n",
      "\n",
      "Test set score: 0.8731203007518797\n"
     ]
    }
   ],
   "source": [
    "clf = ensemble.GradientBoostingClassifier()\n",
    "train = clf.fit(X_train, y_train)\n",
    "\n",
    "print('Training set score:', clf.score(X_train, y_train))\n",
    "print('\\nTest set score:', clf.score(X_test, y_test))"
   ]
  },
  {
   "cell_type": "markdown",
   "metadata": {
    "run_control": {
     "frozen": false,
     "read_only": false
    }
   },
   "source": [
    "Looks like logistic regression is the winner, but there's room for improvement.\n",
    "\n",
    "# Same model, new inputs\n",
    "\n",
    "What if we feed the model a different novel by Jane Austen, like _Emma_?  Will it be able to distinguish Austen from Carroll with the same level of accuracy if we insert a different sample of Austen's writing?\n",
    "\n",
    "First, we need to process _Emma_ the same way we processed the other data, and combine it with the Alice data:"
   ]
  },
  {
   "cell_type": "code",
   "execution_count": 10,
   "metadata": {
    "run_control": {
     "frozen": false,
     "read_only": false
    }
   },
   "outputs": [
    {
     "name": "stdout",
     "output_type": "stream",
     "text": [
      "Emma Woodhouse, handsome, clever, and rich, with a comfortable home and happy disposition, seemed to\n"
     ]
    }
   ],
   "source": [
    "# Clean the Emma data.\n",
    "emma = gutenberg.raw('austen-emma.txt')\n",
    "emma = re.sub(r'VOLUME \\w+', '', emma)\n",
    "emma = re.sub(r'CHAPTER \\w+', '', emma)\n",
    "emma = text_cleaner(emma)\n",
    "print(emma[:100])"
   ]
  },
  {
   "cell_type": "code",
   "execution_count": 11,
   "metadata": {
    "collapsed": true
   },
   "outputs": [],
   "source": [
    "# Parse our cleaned data.\n",
    "emma_doc = nlp(emma)"
   ]
  },
  {
   "cell_type": "code",
   "execution_count": 12,
   "metadata": {
    "collapsed": true
   },
   "outputs": [],
   "source": [
    "# Group into sentences.\n",
    "persuasion_sents = [[sent, \"Austen\"] for sent in persuasion_doc.sents]\n",
    "emma_sents = [[sent, \"Austen\"] for sent in emma_doc.sents]\n",
    "\n",
    "# Emma is quite long, let's cut it down to the same length as Alice.\n",
    "emma_sents = emma_sents[0:len(alice_sents)]"
   ]
  },
  {
   "cell_type": "code",
   "execution_count": 13,
   "metadata": {},
   "outputs": [
    {
     "name": "stdout",
     "output_type": "stream",
     "text": [
      "Processing row 0\n",
      "Processing row 500\n",
      "Processing row 1000\n",
      "Processing row 1500\n",
      "done\n"
     ]
    }
   ],
   "source": [
    "# Build a new Bag of Words data frame for Emma word counts.\n",
    "# We'll use the same common words from Alice and Persuasion.\n",
    "emma_sentences = pd.DataFrame(emma_sents)\n",
    "emma_bow = bow_features(emma_sentences, common_words)\n",
    "\n",
    "print('done')"
   ]
  },
  {
   "cell_type": "code",
   "execution_count": 14,
   "metadata": {},
   "outputs": [
    {
     "name": "stdout",
     "output_type": "stream",
     "text": [
      "\n",
      "Test set score: 0.6976137211036539\n"
     ]
    },
    {
     "data": {
      "text/html": [
       "<div>\n",
       "<style>\n",
       "    .dataframe thead tr:only-child th {\n",
       "        text-align: right;\n",
       "    }\n",
       "\n",
       "    .dataframe thead th {\n",
       "        text-align: left;\n",
       "    }\n",
       "\n",
       "    .dataframe tbody tr th {\n",
       "        vertical-align: top;\n",
       "    }\n",
       "</style>\n",
       "<table border=\"1\" class=\"dataframe\">\n",
       "  <thead>\n",
       "    <tr style=\"text-align: right;\">\n",
       "      <th>col_0</th>\n",
       "      <th>Austen</th>\n",
       "      <th>Carroll</th>\n",
       "    </tr>\n",
       "    <tr>\n",
       "      <th>row_0</th>\n",
       "      <th></th>\n",
       "      <th></th>\n",
       "    </tr>\n",
       "  </thead>\n",
       "  <tbody>\n",
       "    <tr>\n",
       "      <th>Austen</th>\n",
       "      <td>1564</td>\n",
       "      <td>105</td>\n",
       "    </tr>\n",
       "    <tr>\n",
       "      <th>Carroll</th>\n",
       "      <td>706</td>\n",
       "      <td>307</td>\n",
       "    </tr>\n",
       "  </tbody>\n",
       "</table>\n",
       "</div>"
      ],
      "text/plain": [
       "col_0    Austen  Carroll\n",
       "row_0                   \n",
       "Austen     1564      105\n",
       "Carroll     706      307"
      ]
     },
     "execution_count": 14,
     "metadata": {},
     "output_type": "execute_result"
    }
   ],
   "source": [
    "# Now we can model it!\n",
    "# Let's use logistic regression again.\n",
    "\n",
    "# Combine the Emma sentence data with the Alice data from the test set.\n",
    "X_Emma_test = np.concatenate((\n",
    "    X_train[y_train[y_train=='Carroll'].index],\n",
    "    emma_bow.drop(['text_sentence','text_source'], 1)\n",
    "), axis=0)\n",
    "y_Emma_test = pd.concat([y_train[y_train=='Carroll'],\n",
    "                         pd.Series(['Austen'] * emma_bow.shape[0])])\n",
    "\n",
    "# Model.\n",
    "print('\\nTest set score:', lr.score(X_Emma_test, y_Emma_test))\n",
    "lr_Emma_predicted = lr.predict(X_Emma_test)\n",
    "pd.crosstab(y_Emma_test, lr_Emma_predicted)"
   ]
  },
  {
   "cell_type": "markdown",
   "metadata": {},
   "source": [
    "# Challenge 0:\n",
    "Suggested avenues of investigation include: Other modeling techniques (SVM?), "
   ]
  },
  {
   "cell_type": "markdown",
   "metadata": {},
   "source": [
    "Here I am trying out svm with different kernals and pick the best one."
   ]
  },
  {
   "cell_type": "code",
   "execution_count": 15,
   "metadata": {},
   "outputs": [
    {
     "name": "stdout",
     "output_type": "stream",
     "text": [
      "Training set score: 0.9730407523510972\n",
      "\n",
      "Test set score: 0.9055451127819549\n",
      "\n",
      "Test set score: 0.6778523489932886\n"
     ]
    },
    {
     "data": {
      "text/html": [
       "<div>\n",
       "<style>\n",
       "    .dataframe thead tr:only-child th {\n",
       "        text-align: right;\n",
       "    }\n",
       "\n",
       "    .dataframe thead th {\n",
       "        text-align: left;\n",
       "    }\n",
       "\n",
       "    .dataframe tbody tr th {\n",
       "        vertical-align: top;\n",
       "    }\n",
       "</style>\n",
       "<table border=\"1\" class=\"dataframe\">\n",
       "  <thead>\n",
       "    <tr style=\"text-align: right;\">\n",
       "      <th>col_0</th>\n",
       "      <th>Austen</th>\n",
       "      <th>Carroll</th>\n",
       "    </tr>\n",
       "    <tr>\n",
       "      <th>row_0</th>\n",
       "      <th></th>\n",
       "      <th></th>\n",
       "    </tr>\n",
       "  </thead>\n",
       "  <tbody>\n",
       "    <tr>\n",
       "      <th>Austen</th>\n",
       "      <td>1497</td>\n",
       "      <td>172</td>\n",
       "    </tr>\n",
       "    <tr>\n",
       "      <th>Carroll</th>\n",
       "      <td>692</td>\n",
       "      <td>321</td>\n",
       "    </tr>\n",
       "  </tbody>\n",
       "</table>\n",
       "</div>"
      ],
      "text/plain": [
       "col_0    Austen  Carroll\n",
       "row_0                   \n",
       "Austen     1497      172\n",
       "Carroll     692      321"
      ]
     },
     "execution_count": 15,
     "metadata": {},
     "output_type": "execute_result"
    }
   ],
   "source": [
    "# Instantiate our model and fit the data.\n",
    "svm = SVC(kernel='linear')\n",
    "svm.fit(X_train, y_train)\n",
    "\n",
    "print('Training set score:', svm.score(X_train, y_train))\n",
    "print('\\nTest set score:', svm.score(X_test, y_test))\n",
    "\n",
    "print('\\nTest set score:', svm.score(X_Emma_test, y_Emma_test))\n",
    "\n",
    "svm_Emma_predicted = svm.predict(X_Emma_test)\n",
    "pd.crosstab(y_Emma_test, svm_Emma_predicted)"
   ]
  },
  {
   "cell_type": "markdown",
   "metadata": {},
   "source": [
    "making more features that take advantage of the spaCy information (include grammar, phrases, POS, etc), making sentence-level features (number of words, amount of punctuation), or including contextual information (length of previous and next sentences, words repeated from one sentence to the next, etc), and anything else your heart desires. Make sure to design your models on the test set, or use cross_validation with multiple folds, and see if you can get accuracy above 90%."
   ]
  },
  {
   "cell_type": "code",
   "execution_count": null,
   "metadata": {
    "collapsed": true
   },
   "outputs": [],
   "source": []
  },
  {
   "cell_type": "markdown",
   "metadata": {
    "run_control": {
     "frozen": false,
     "read_only": false
    }
   },
   "source": [
    "Well look at that!  NLP approaches are generally effective on the same type of material as they were trained on. It looks like this model is actually able to differentiate multiple works by Austen from Alice in Wonderland.  Now the question is whether the model is very good at identifying Austen, or very good at identifying Alice in Wonderland, or both...\n",
    " \n",
    "\n",
    "# Challenge 1:\n",
    "Find out whether your new model is good at identifying Alice in Wonderland vs any other work, Persuasion vs any other work, or Austen vs any other work.  This will involve pulling a new book from the Project Gutenberg corpus (print(gutenberg.fileids()) for a list) and processing it.\n",
    "\n",
    "Record your work for each challenge in a notebook and submit it below."
   ]
  },
  {
   "cell_type": "code",
   "execution_count": 134,
   "metadata": {},
   "outputs": [],
   "source": [
    "def bag_of_words2(text):\n",
    "    \n",
    "    # Filter out punctuation and stop words.\n",
    "    allwords = [token.lemma_\n",
    "                for token in text\n",
    "                if not token.is_punct\n",
    "                and not token.is_stop]\n",
    "                \n",
    "    # Return the most common words.\n",
    "    return [item[0] for item in Counter(allwords).most_common(2000)]"
   ]
  },
  {
   "cell_type": "code",
   "execution_count": 135,
   "metadata": {
    "scrolled": true
   },
   "outputs": [
    {
     "name": "stdout",
     "output_type": "stream",
     "text": [
      "['-PRON-', 'say', 'alice', 'be', 'not', 'think', 'go', 'little', 'the', 'know', 'look', 'come', 'begin', 'like', 'will', 'thing', 'time', 'queen', 'and', 'get', 'king', 'have', 'head', 'turtle', 'way', 'find', 'hatter', 'mock', 'gryphon', \"'s\", 'voice', 'rabbit', 'cat', 'hear', 'mouse', 'what', 'oh', 'try', 'good', 'tell', 'turn', 'duchess', 'tone', 'large', 'would', 'round', 'that', 'dormouse', 'take', 'great', 'speak', 'feel', 'but', 'sit', 'eye', 'hand', 'march', 'there', 'long', 'reply', 'day', 'ask', 'dear', 'right', 'door', 'minute', 'shall', 'see', 'moment', 'word', 'talk', 'grow', 'hare', 'white', 'foot', 'run', 'how', 'do', 'so', 'why', 'poor', 'caterpillar', 'wonder', 'cry', 'change', 'course', 'remark', 'soon', 'away', 'leave', 'sure', 'add', 'well', 'sort', 'half', 'let', 'eat', 'old', 'then', 'jury', 'hurry', 'happen', 'no', 'wish', 'question', 'child', 'give', 'till', 'this', 'arm', 'walk', 'remember', 'wait', 'face', 'repeat', 'call', 'mean', 'make', 'fall', 'house', 'end', 'open', 'curious', 'use', 'very', 'write', 'tea', 'table', 'finish', 'if', 'soup', 'court', 'high', 'hold', 'keep', 'as', 'air', 'low', 'garden', 'hastily', 'bill', 'pig', 'a', 'near', 'idea', 'bit', 'small', 'want', 'live', 'tree', 'footman', 'read', 'close', 'ought', 'of', 'notice', 'answer', 'certainly', 'size', 'game', 'anxiously', 'set', 'who', 'sea', 'suppose', 'you', 'creature', 'silence', 'stand', 'mouth', 'baby', 'mad', 'dance', 'book', 'mind', 'suddenly', 'watch', 'lesson', 'yes', 'people', 'sound', 'however', 'for', 'forget', 'follow', 'lie', 'life', 'far', 'queer', 'dodo', 'shake', 'room', 'beautiful', 'cook', 'lobster', 'in', 'manage', 'learn', 'dinah', 'afraid', 'now', 'hardly', 'deal', 'fan', 'tail', 'bird', 'rest', 'sigh', 'join', 'here', 'draw', 'serpent', 'pigeon', 'interrupt', 'majesty', 'sister', 'conversation', 'glad', 'matter', 'ear', 'box', 'play', 'one', 'glove', 'grin', 'nearly', 'explain', 'place', 'trial', 'slate', 'shout', 'appear', 'off', 'soldier', 'consider', 'stop', 'listen', 'fancy', 'dry', 'jump', 'sight', 'glass', 'bottle', 'tear', 'croquet', 'pool', 'help', 'puzzle', 'when', 'at', 'believe', 'reason', 'sing', 'hedgehog', 'witness', 'catch', 'dream', 'hall', 'key', 'rate', 'drink', 'mark', 'bring', 'work', 'different', 'fish', 'beg', 'crowd', 'party', 'continue', 'piece', 'whisper', 'angrily', 'order', 'timidly', 'sneeze', 'all', 'butter', 'twinkle', 'knave', 'moral', 'deep', 'slowly', 'which', 'opportunity', 'distance', 'bright', 'shoulder', 'rule', 'history', 'fact', 'direction', 'ready', 'hard', 'william', 'eagerly', 'throw', 'meaning', 'everybody', 'exactly', 'move', 'execute', 'window', 'two', 'wood', 'mushroom', 'nose', 'sob', 'verse', 'asleep', 'gardener', 'whiting', 'hot', 'stupid', 'pocket', 'world', 'first', 'pass', 'drop', 'somebody', 'please', 'girl', 'bat', 'middle', 'golden', 'shut', 'neck', 'me', 'venture', 'tart', 'generally', 'kind', 'nonsense', 'just', 'sir', 'hair', 'chin', 'swim', 'understand', 'sentence', 'pardon', 'paw', 'subject', 'fetch', 'lory', 'important', 'story', 'your', 'temper', 'better', 'break', 'chimney', 'shriek', 'business', 'loud', 'puppy', 'scream', 'silent', 'ground', 'pepper', 'cheshire', 'pleased', 'carry', 'song', 'bread', 'hearts', 'treacle', 'five', 'flamingo', 'soo', 'oop', 'evidence', 'tired', 'picture', 'trouble', 'late', 'never', 'nice', 'miss', 'leaf', 'roof', 'thought', 'inch', 'cut', 'taste', 'blow', 'after', 'cake', 'care', 'surprised', 'english', 'shoe', 'pair', 'present', 'seven', 'cross', 'water', 'smile', 'stay', 'can', 'guess', 'animal', 'offend', 'dog', 'politely', 'melancholy', 'hour', 'prize', 'chorus', 'short', 'growl', 'are', 'sharp', 'surprise', 'lizard', 'guinea', 'father', 'man', 'youth', 'fly', 'beat', 'egg', 'sleep', 'deny', 'dish', 'while', 'wow', 'dreadfully', 'exclaim', 'rose', 'procession', 'executioner', 'school', 'e', 'twice', 'sleepy', 'pick', 'curiosity', 'fear', 'home', 'likely', 'mile', 'aloud', 'new', 'night', 'stick', 'lose', 'corner', 'sadly', 'fit', 'lead', 'simple', 'friend', 'teach', 'finger', 'shrink', 'nervous', 'altogether', 'reach', 'person', 'remain', 'plan', 'send', 'with', 'kid', 'mutter', 'usual', 'morning', 'ah', 'she', 'wrong', 'strange', 'sudden', 'bad', 'case', 'number', 'dig', 'swam', 'nearer', 'shrill', 'angry', 'nurse', 'tremble', 'argument', 'meet', 'offended', 'race', 'point', 'dare', 'bow', 'confusion', 'judge', 'attend', 'impatiently', 'young', 'where', 'vanish', 'plate', 'interesting', 'chance', 'prove', 'an', 'fellow', 'thank', 'sky', 'instantly', 'difficulty', 'height', 'quietly', 'hookah', 'nibble', 'settle', 'grunt', 'behead', 'pack', 'knee', 'execution', 'arch', 'tis', 'evening', 'juror', 'teacup', 'officer', 'suppress', 'unimportant', 'bank', 'peep', 'worth', 'natural', 'burn', 'hole', 'side', 'fill', 'hang', 'true', 'earth', 'passage', 'lock', 'tiny', 'alas', 'second', 'wander', 'flower', 'telescope', 'hop', 'paper', 'letter', 'deeply', 'sharply', 'severely', 'fond', 'expect', 'savage', 'violently', 'age', 'mabel', 'capital', 'on', 'spread', 'because', 'escape', 'frighten', 'splash', 'french', 'clear', 'fire', 'wash', 'pale', 'trembling', 'shore', 'duck', 'uncomfortable', 'it', 'solemnly', 'rise', 'shape', 'press', 'confused', 'thimble', 'laugh', 'noise', 'choke', 'pat', 'tale', 'breath', 'pity', 'tongue', 'particular', 'mary', 'ann', 'frightened', 'knock', 'by', 'elbow', 'outside', 'crash', 'y', 'honour', 'could', 'master', 'dead', 'doubt', 'grass', 'fold', 'beginning', 'perfectly', 'yet', 'stuff', 'decidedly', 'yawn', 'thoughtfully', 'green', 'indignantly', 'week', 'need', 'star', 'kitchen', 'busily', 'figure', 'toss', 'wave', 'to', 'fast', 'crumb', 'him', 'twinkling', 'quarrel', 'he', 'pinch', 'upset', 'm', 'player', 'porpoise', 'adventure', 'beau', 'ootiful', 'verdict', 'juryman', 'nothing', 'hedge', 'dark', 'label', 'kill', 'past', 'tumble', 'stair', 'knowledge', 'grand', 'funny', 'hope', 'hurt', 'whisker', 'belong', 'delight', 'lovely', 'bed', 'impossible', 'poison', 'beast', 'red', 'knife', 'certain', 'later', 'apple', 'feeling', 'candle', 'decide', 'possibly', 'leg', 'dull', 'boot', 'love', 'pattering', 'trot', 'timid', 'yesterday', 'doth', 'hoarse', 'gently', 'jaw', 'put', 'declare', 'slip', 'general', 'o', 'perhaps', 'notion', 'passion', 'eaglet', 'fur', 'sulky', 'allow', 'frog', 'crown', 'bend', 'pause', 'pant', 'win', 'gravely', 'only', 'speech', 'cheer', 'grave', 'simply', 'solemn', 'mine', 'sad', 'fury', 'waste', 'plead', 'easily', 'quick', 'crab', 'address', 'some', 'carefully', 'suit', 'mention', 'nobody', 'hunt', 'mistake', 'real', 'floor', 'effect', 'curl', 'attempt', 'broken', 'bear', 'kick', 'last', 'sense', 'rattle', 'swallow', 'rush', 'bark', 'stretch', 'hungry', 'edge', 'immediately', 'smoke', 'confusing', 'pray', 'eel', 'choose', 'free', 'alarm', 'succeed', 'puzzled', 'raise', 'branch', 'livery', 'loudly', 'instance', 'howl', 'manner', 'courage', 'introduce', 'faster', 'advantage', 'line', 'boy', 'double', 'proper', 'wide', 'explanation', 'instead', 'civil', 'lay', 'writing', 'fun', 'riddle', 'breathe', 'best', \"o'clock\", 'year', 'cautiously', 'music', 'lady', 'wake', 'once', 'rub', 'muchness', 'paint', 'check', 'eager', 'heart', 'guest', 'card', 'these', 'examine', 'unfortunate', 'hush', 'tuck', 'fight', 'alive', 'anxious', 'bite', 'mustard', 'frown', 'sorrow', 'must', 'tortoise', 'quadrille', 'advance', 'toe', 'snail', 'oblige', 'owl', 'panther', 'share', 'pie', 'trumpet', 'spectacle', 'pencil', 'list', 'sign', 'pleasure', 'daisy', 'chain', 'remarkable', 'occur', 'waistcoat', 'start', 'straight', 'dip', 'plenty', 'cupboard', 'shelf', 'jar', 'down', 'thousand', 'show', 'latitude', 'longitude', 'presently', \"dinah'll\", 'milk', 'doze', 'earnestly', 'thump', 'wind', 'row', 'legged', 'rat', 'kneel', 'cool', 'fountain', 'beautifully', 'wise', 'wild', 'unpleasant', 'usually', 'sooner', 'brighten', 'pretend', 'creep', 'curiouser', 'bye', 'strike', 'ashamed', 'return', 'ringlet', 'signify', 'paris', 'rome', 'lap', 'pour', 'neatly', 'claws', 'burst', 'rapidly', 'narrow', 'salt', 'railway', 'conclusion', 'sand', 'everything', 'wink', 'conqueror', 'ago', 'ma', 'fright', 'quiet', 'nicely', 'hat', 'brown', 'dinner', 'useful', 'sorrowful', 'hate', 'assemble', 'feather', 'wet', 'authority', 'ring', 'fix', 'edwin', 'morcar', 'earl', 'mercia', 'northumbria', 'ugh', 'proceed', 'archbishop', 'advisable', 'hurriedly', 'offer', 'hide', 'caucus', 'easy', 'forehead', 'position', 'pull', 'comfit', 'luckily', 'absurd', 'cause', 'complain', 'promise', 'law', 'humbly', 'knot', 'sensation', 'throat', 'lonely', 'footstep', 'ferret', 'message', 'directly', 'stoop', 'save', 'unhappy', 'woman', 'snatch', 'conclude', 'cucumber', 'frame', 'next', 'goose', 'longer', 'tie', 'feeble', 'squeak', 'barrowful', 'shower', 'pebble', 'hit', 'produce', 'delighted', 'safe', 'excellent', 'coax', 'whistle', 'thistle', 'tiptoe', 'encouraging', 'contemptuously', 'anger', 'unfold', 'busy', 'somersault', 'sell', 'couple', 'weak', 'bone', 'argue', 'clever', 'quite', 'wretched', 'patiently', 'crawl', 'merely', 'tall', 'difficult', 'violent', 'lefthand', 'distant', 'root', 'annoy', 'invent', 'doubtfully', 'entangle', 'invitation', 'from', 'secondly', 'inside', 'extraordinary', 'constant', 'sneezing', 'maybe', 'dreadful', 'drive', 'lean', 'stir', 'cauldron', 'even', 'saucepan', 'hint', 'thoroughly', 'fling', 'straighten', 'twist', 'murder', 'extremely', 'ugly', 'startled', 'yard', 'treat', 'wag', 'invite', 'may', 'rave', 'giddy', 'cushion', 'wine', 'personal', 'rude', 'raven', 'desk', 'month', 'uneasily', 'meekly', 'cup', 'account', 'clock', 'spoon', 'concert', 'up', 'name', 'ill', 'more', 'triumphantly', 'sh', 'sulkily', 'really', 'brush', 'flat', 'courtier', 'royal', 'hurried', 'crimson', 'doubtful', 'back', 'fine', 'ridge', 'furrow', 'body', 'unrolled', 'stamp', 'dispute', 'kiss', 'remove', 'collect', 'her', 'entirely', 'disappear', 'wildly', \"i'm\", 'sugar', 'tut', 'squeeze', 'experiment', 'agree', 'imagine', 'die', 'choice', 'custody', 'sun', 'heavy', 'proud', 'extra', 'relief', 'regular', 'uglification', 'uglify', 'pretty', 'encourage', 'mystery', 'flapper', 'drawling', 'recover', 'delightful', 'partner', 'said', 'kindly', 'dinn', 'edition', 'shark', 'persist', 'pennyworth', 'scroll', 'parchment', 'wig', 'neighbour', 'quickly', 'blast', 'summer', 'fashion', 'singer', 'miserable', 'undertone', 'goldfish', 'accident', 'note', 'prisoner', 'direct', 'before', 'atom', 'they', 'adventures', 'wonderful', 'rustle', 'wonderland', 'pink', 'actually', 'out', 'its', 'flash', 'field', 'fortunately', 'pop', 'tunnel', 'either', 'map', 'peg', 'orange', 'marmalade', 'disappointment', 'brave', 'centre', 'schoolroom', 'practice', 'through', 'downward', 'antipathies', 'listening', 'country', 'madam', 'zealand', 'australia', 'curtsey', 'curtseying', 'ignorant', 'saucer', 'dreamy', 'truth', 'heap', 'overhead', 'light', 'lamp', 'solid', 'curtain', 'doorway', 'lately', 'print', 'poker', 'bleed', 'disagree', 'mixed', 'flavour', 'cherry', 'custard', 'pine', 'roast', 'turkey', 'toffee', 'buttered', 'toast', 'flame', 'plainly', 'climb', 'slippery', 'tire', 'advise', 'advice', 'seldom', 'scold', 'cheat', 'respectable', 'currant', 'common', 'stocking', 'able', 'christmas', 'carrier', 'odd', 'esq', 'hearthrug', 'fender', 'hopeless', 'shed', 'gallon', 'splendidly', 'dressed', 'waiting', 'desperate', 'skurri', 'darkness', 'ada', 'besides', 'thirteen', 'multiplication', 'geography', 'london', 'crocodile', 'improve', 'shin', 'nile', 'scale', 'cheerfully', 'welcome', 'poky', 'toy', 'measure', 'avoid', 'existence', 'speed', 'seaside', 'coast', 'bath', 'machine', 'wooden', 'spade', 'lodge', 'station', 'weep', 'punish', 'drown', 'walrus', 'hippopotamus', 'harm', 'brother', 'latin', 'grammar', 'inquisitively', 'daresay', 'ou', 'est', 'chatte', 'leap', 'quiver', 'passionate', 'soothe', 'lazily', 'purr', 'lick', 'soft', 'bristle', 'family', 'nasty', 'vulgar', 'eyed', 'terrier', 'curly', 'farmer', 'pound', 'commotion', 'softly', 'draggled', 'cling', 'dripping', 'consultation', 'familiarly', 'indeed', 'positively', 'refuse', \"i'll\", 'cold', 'ahem', 'favour', 'pope', 'submit', 'leader', 'accustomed', 'usurpation', 'conquest', 'shiver', 'frowning', 'stigand', 'patriotic', 'canterbury', 'crossly', 'worm', 'edgar', 'athel', 'conduct', 'moderate', 'insolence', 'normans', 'meeting', 'adjourn', 'immediate', 'adoption', 'energetic', 'remedy', 'titter', 'audibly', 'inclined', 'winter', 'circle', 'exact', 'shakespeare', 'despair', 'acceptance', 'elegant', 'c', 'd', 'prosecute', 'denial', 'cur', 'such', 'cunning', 'condemn', 'death', 'fifth', 'undo', 'insult', 'daughter', 'snappishly', 'patience', 'oyster', 'pet', 'magpie', 'wrap', 'canary', 'pretext', 'spirited', 'naturedly', 'completely', 'housemaid', 'neat', 'brass', 'w.', 'engrave', 'upstairs', 'lest', 'tidy', 'looking', 'uncork', 'lip', 'something', 'drunk', 'ceiling', 'still', 'resource', 'magic', 'pleasanter', 'fairy', 'comfort', 'foolish', 'inward', 'failure', 'possible', 'pronounce', 'arrum', 'coward', 'rumbling', 'cartwheel', 'ladder', 'lad', 'rope', 'loose', 'nay', 'shy', 'fireplace', 'scratch', 'scramble', 'brandy', 'ye', 'fluster', 'jack', 'rocket', 'thick', 'arrange', 'peer', 'enormous', 'feebly', 'touch', 'terribly', 'spite', 'yelp', 'worry', 'dodge', 'heel', 'cart', 'horse', 'trample', 'series', 'charge', 'forwards', 'hoarsely', 'faint', 'leant', 'buttercup', 'trick', 'blade', 'circumstance', 'languid', 'opening', 'shyly', 'sternly', 'myself', 'clearly', 'chrysalis', 'butterfly', 'irritated', 'puzzling', 'state', 'promising', 'puff', 'bee', 'incessantly', 'son', 'injure', 'brain', 'uncommonly', 'fat', 'sage', 'grey', 'limb', 'supple', 'ointment', 'shill', 'tough', 'suet', 'beak', 'wife', 'muscular', 'strength', 'steady', 'balance', 'awfully', 'alter', \"don't\", 'contradict', 'content', 'rear', 'upright', 'piteous', 'underneath', 'closely', 'morsel', 'immense', 'length', 'stalk', 'result', 'curve', 'graceful', 'zigzag', 'dive', 'top', 'hiss', 'wing', 'subdued', 'pleasing', 'hatch', 'sorry', 'wriggle', 'contempt', 'truthful', 'yours', 'raw', 'nest', 'crouch', 'untwist', 'whoever', 'wit', 'righthand', 'rap', 'knuckle', 'powdered', 'stupidly', 'howling', 'kettle', 'knocking', 'uncivil', 'tomorrow', 'skim', 'graze', 'crazy', 'variation', 'anything', 'desperately', 'idiotic', 'stool', 'occasionally', 'alternately', 'hearth', 'violence', 'iron', 'agony', 'terror', 'precious', 'unusually', 'axis', 'ax', 'chop', 'glance', 'twenty', 'bother', 'abide', 'lullaby', 'roughly', 'tease', 'enjoy', 'fry', 'pan', 'snort', 'steam', 'engine', 'nursing', 'tight', 'prevent', 'undoing', 'express', 'snout', 'seriously', 'relieved', 'handsome', 'bough', 'natured', 'tooth', 'respect', 'puss', 'depend', 'somewhere', 'visit', 'grant', 'therefore', 'purring', 'fig', 'farther', 'thatch', 'chair', 'severity', 'fourth', 'grumble', 'gloomily', 'readily', 'slight', 'nor', 'wearily', 'term', 'mournfully', 'tray', 'bawl', 'mournful', 'vote', 'proposal', 'elsie', 'lacie', 'tillie', 'interest', 'living', 'less', 'opinion', 'consent', 'clean', 'unwillingly', 'jug', 'eh', 'trap', 'moon', 'memory', 'drawing', 'rudeness', 'disgust', 'teapot', 'today', 'unlock', 'entrance', 'jog', 'always', 'blame', \"you'd\", 'deserve', 'tulip', 'onion', 'unjust', 'afore', 'club', 'oblong', 'ornament', 'diamond', 'merrily', 'ornamented', 'queens', 'recognise', 'velvet', 'opposite', 'idiot', 'rosetree', 'pattern', 'glare', 'humble', 'protection', 'pot', 'evidently', 'roar', 'laughter', 'thunder', 'ball', 'mallet', 'chief', 'comfortably', 'expression', 'provoking', 'act', 'part', 'furious', 'uneasy', 'appearance', 'nod', 'fairly', 'oneself', 'impertinent', 'search', 'engage', 'helpless', 'appeal', 'his', 'prison', 'arrow', 'fade', 'affectionately', 'pleasant', 'hopeful', 'vinegar', 'sour', 'camomile', 'bitter', 'barley', 'sweet', 'stingy', 'closer', 'uncomfortably', 'waist', 'flock', 'mineral', 'vegetable', 'cheap', 'birthday', 'worried', 'favourite', 'link', 'thunderstorm', 'fair', 'warning', 'absence', 'shade', 'delay', 'cost', 'those', 'company', 'lazy', 'chuckle', 'ledge', 'rock', 'hollow', 'occasional', 'exclamation', 'hjckrrh', 'sobbing', 'calmly', 'sink', 'education', \"i've\", 'ours', 'washing', 'afford', 'inquire', 'reel', 'writhing', 'arithmetic', 'ambition', 'distraction', 'derision', 'lift', 'beautify', 'simpleton', 'count', 'ancient', 'modern', 'seaography', 'drawl', 'conger', 'stretching', 'fainting', 'coils', 'stiff', 'classic', 'laughing', 'grief', 'ten', 'lessen', 'eleventh', 'holiday', 'twelfth', 'same', 'punch', 'cheek', 'form', 'seal', 'salmon', 'jelly', 'each', 'retire', 'bound', 'caper', 'yell', 'land', 'tread', 'forepaw', 'treading', 'shingle', 'too', 'askance', 'scaly', 'england', 'france', 'beloved', 'boots', 'shoes', 'shiny', 'blacking', 'sol', 'shrimp', 'journey', 'purpose', 'impatient', 'gain', 'listener', 'sluggard', 'bake', 'eyelid', 'trim', 'belt', 'button', 'gay', 'lark', 'contemptuous', 'tide', 'tremulous', 'uncommon', 'ever', 'dancing', 'disobey', 'crust', 'gravy', 'meat', 'boon', 'permit', 'receive', 'fork', 'banquet', 'or', 'hm', 'accounting', 'rich', 'tureen', 'dainty', 'beauti', 'ful', 'faintly', 'breeze', 'seat', 'throne', 'arrive', 'guard', 'refreshment', 'justice', 'wear', 'frontispiece', 'comfortable', 'rightly', 'indignant', 'spell', 'muddle', \"slates'll\", 'herald', 'accusation', 'steal', 'fourteenth', 'fifteenth', 'sixteenth', 'date', 'reduce', 'shilling', 'penny', 'stolen', 'memorandum', 'fidgeted', 'spot', 'shift', 'boldly', 'reasonable', 'pace', 'ridiculous', 'thin', 't', 'dunce', 'speaker', 'canvas', 'bag', 'string', 'newspaper', 'applause', 'collar', 'ache', 'fumble', 'flurry', 'tip', 'skirt', 'sprawl', 'remind', 'globe', 'accidentally', 'dismay', 'vague', 'emphasis', 'haste', 'downwards', 'unable', 'shock', 'diligently', 'overcome', 'gaze', 'whatever', 'respectful', 'cackle', 'forty', 'than', 'handwriting', 'imitate', 'mischief', 'honest', 'clapping', 'guilt', 'character', 'push', 'though', 'involve', 'affair', 'trust', 'obstacle', 'secret', 'between', 'sixpence', 'cardboard', 'we', 'returned', 'had', 'furiously', 'inkstand', 'ink', 'trickle', 'pun', 'twentieth', 'purple', 'flutter', 'setting', 'clasp', 'wandering', 'meal', 'squeaking', 'choking', 'mix', 'closed', 'reality', 'ripple', 'waving', 'reed', 'tinkle', 'sheep', 'bell', 'shepherd', 'clamour', 'farm', 'lowing', 'cattle', 'lastly', 'grown', 'riper', 'loving', 'childhood', 'gather', 'their', 'joy', 'happy']"
     ]
    },
    {
     "name": "stdout",
     "output_type": "stream",
     "text": [
      "\n"
     ]
    }
   ],
   "source": [
    "print(bag_of_words(alice_doc))"
   ]
  },
  {
   "cell_type": "code",
   "execution_count": 136,
   "metadata": {},
   "outputs": [
    {
     "name": "stdout",
     "output_type": "stream",
     "text": [
      "\n",
      "Parts of speech:\n"
     ]
    }
   ],
   "source": [
    "# View the part of speech for some tokens in our sentence.\n",
    "print('\\nParts of speech:')\n",
    "words_as_pos = []\n",
    "for token in list(alice_doc.sents)[:2]:\n",
    "    for x in token:\n",
    "        words_as_pos.append([x, x.pos_])"
   ]
  },
  {
   "cell_type": "code",
   "execution_count": 139,
   "metadata": {},
   "outputs": [
    {
     "data": {
      "text/plain": [
       "[]"
      ]
     },
     "execution_count": 139,
     "metadata": {},
     "output_type": "execute_result"
    }
   ],
   "source": [
    "words_as_pos[:0]"
   ]
  },
  {
   "cell_type": "code",
   "execution_count": null,
   "metadata": {
    "collapsed": true
   },
   "outputs": [],
   "source": []
  }
 ],
 "metadata": {
  "hide_input": false,
  "kernelspec": {
   "display_name": "Python 3",
   "language": "python",
   "name": "python3"
  },
  "language_info": {
   "codemirror_mode": {
    "name": "ipython",
    "version": 3
   },
   "file_extension": ".py",
   "mimetype": "text/x-python",
   "name": "python",
   "nbconvert_exporter": "python",
   "pygments_lexer": "ipython3",
   "version": "3.6.3"
  },
  "toc": {
   "colors": {
    "hover_highlight": "#DAA520",
    "running_highlight": "#FF0000",
    "selected_highlight": "#FFD700"
   },
   "moveMenuLeft": true,
   "nav_menu": {
    "height": "49px",
    "width": "252px"
   },
   "navigate_menu": true,
   "number_sections": true,
   "sideBar": true,
   "threshold": 4,
   "toc_cell": false,
   "toc_section_display": "block",
   "toc_window_display": false
  }
 },
 "nbformat": 4,
 "nbformat_minor": 2
}
