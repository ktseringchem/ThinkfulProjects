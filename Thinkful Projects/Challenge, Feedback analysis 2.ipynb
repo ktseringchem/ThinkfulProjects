{
 "cells": [
  {
   "cell_type": "code",
   "execution_count": 2,
   "metadata": {
    "collapsed": true
   },
   "outputs": [],
   "source": [
    "%matplotlib inline\n",
    "import numpy as np\n",
    "import pandas as pd\n",
    "import scipy\n",
    "import sklearn\n",
    "import matplotlib.pyplot as plt\n",
    "import seaborn as sns\n",
    "from sklearn.model_selection import train_test_split\n",
    "import random\n",
    "from sklearn.model_selection import cross_val_score\n",
    "from sklearn.metrics import confusion_matrix\n",
    "from sklearn.naive_bayes import BernoulliNB"
   ]
  },
  {
   "cell_type": "code",
   "execution_count": 3,
   "metadata": {},
   "outputs": [
    {
     "data": {
      "text/html": [
       "<div>\n",
       "<style>\n",
       "    .dataframe thead tr:only-child th {\n",
       "        text-align: right;\n",
       "    }\n",
       "\n",
       "    .dataframe thead th {\n",
       "        text-align: left;\n",
       "    }\n",
       "\n",
       "    .dataframe tbody tr th {\n",
       "        vertical-align: top;\n",
       "    }\n",
       "</style>\n",
       "<table border=\"1\" class=\"dataframe\">\n",
       "  <thead>\n",
       "    <tr style=\"text-align: right;\">\n",
       "      <th></th>\n",
       "      <th>message</th>\n",
       "      <th>sentement</th>\n",
       "    </tr>\n",
       "  </thead>\n",
       "  <tbody>\n",
       "    <tr>\n",
       "      <th>0</th>\n",
       "      <td>Wow... Loved this place.</td>\n",
       "      <td>1</td>\n",
       "    </tr>\n",
       "    <tr>\n",
       "      <th>1</th>\n",
       "      <td>Crust is not good.</td>\n",
       "      <td>0</td>\n",
       "    </tr>\n",
       "    <tr>\n",
       "      <th>2</th>\n",
       "      <td>Not tasty and the texture was just nasty.</td>\n",
       "      <td>0</td>\n",
       "    </tr>\n",
       "    <tr>\n",
       "      <th>3</th>\n",
       "      <td>Stopped by during the late May bank holiday of...</td>\n",
       "      <td>1</td>\n",
       "    </tr>\n",
       "    <tr>\n",
       "      <th>4</th>\n",
       "      <td>The selection on the menu was great and so wer...</td>\n",
       "      <td>1</td>\n",
       "    </tr>\n",
       "  </tbody>\n",
       "</table>\n",
       "</div>"
      ],
      "text/plain": [
       "                                             message  sentement\n",
       "0                           Wow... Loved this place.          1\n",
       "1                                 Crust is not good.          0\n",
       "2          Not tasty and the texture was just nasty.          0\n",
       "3  Stopped by during the late May bank holiday of...          1\n",
       "4  The selection on the menu was great and so wer...          1"
      ]
     },
     "execution_count": 3,
     "metadata": {},
     "output_type": "execute_result"
    }
   ],
   "source": [
    "review_raw = pd.read_csv('yelp_labelled.txt', delimiter= '\\t', header=None)\n",
    "review_raw.columns = ['message', 'sentement']\n",
    "review_raw.head()"
   ]
  },
  {
   "cell_type": "code",
   "execution_count": 4,
   "metadata": {
    "collapsed": true
   },
   "outputs": [],
   "source": [
    "keywords = [ 'only', 'back', 'very', 'over', 'food', 'took', 'horrible', 'don\\'t', 'least', 'much', 'excuse', 'down', 'bad', 'any', 'sucks', 'final', 'worst', 'hate', 'hated', 'never','not', 'slow', 'nasty', 'angry', 'didn\\'t', 'poor', 'no']"
   ]
  },
  {
   "cell_type": "code",
   "execution_count": 5,
   "metadata": {
    "collapsed": true
   },
   "outputs": [],
   "source": [
    "for key in keywords:\n",
    "    # Note that we add spaces around the key so that we're getting the word,\n",
    "    # not just pattern matching.\n",
    "    review_raw[str(key)] = review_raw.message.str.contains(\n",
    "        ' ' + str(key) + ' ',\n",
    "        case=False\n",
    "    )\n",
    "    \n",
    "review_raw['allcaps'] = review_raw.message.str.isupper()\n",
    "\n",
    "data = review_raw[keywords + ['allcaps']]\n",
    "target = review_raw['sentement']\n",
    "\n",
    "# Instantiate our model and store it in a new variable.\n",
    "bnb = BernoulliNB()"
   ]
  },
  {
   "cell_type": "code",
   "execution_count": 16,
   "metadata": {
    "collapsed": true
   },
   "outputs": [],
   "source": [
    "#divid the data and the target into ten diffent, without overlaping, datasets.\n",
    "datafold = data\n",
    "targetfold = target\n",
    "d={}\n",
    "t={}\n",
    "for i in range(0, 10):\n",
    "    d['datafoldsample{}'.format(i)] = datafold.sample(n=100, replace=False)\n",
    "    indexNum = d['datafoldsample{}'.format(i)].index.tolist()\n",
    "    datafold = datafold.drop(indexNum)\n",
    "    \n",
    "    t['targetfoldsample{}'.format(i)] = targetfold.take(indexNum)"
   ]
  },
  {
   "cell_type": "code",
   "execution_count": 9,
   "metadata": {},
   "outputs": [
    {
     "name": "stdout",
     "output_type": "stream",
     "text": [
      "[ 0.72  0.62  0.72  0.59  0.67  0.64  0.69  0.66  0.62  0.66]\n",
      "With 20% Holdout: 62.0\n",
      "[[14 33]\n",
      " [ 5 48]]\n",
      "percentage of true positive: 29.7872340426\n",
      "percentage of true negative: 90.5660377358\n",
      "\n",
      "With 20% Holdout: 61.0\n",
      "[[19 35]\n",
      " [ 4 42]]\n",
      "percentage of true positive: 35.1851851852\n",
      "percentage of true negative: 91.3043478261\n",
      "\n",
      "With 20% Holdout: 70.0\n",
      "[[19 26]\n",
      " [ 4 51]]\n",
      "percentage of true positive: 42.2222222222\n",
      "percentage of true negative: 92.7272727273\n",
      "\n",
      "With 20% Holdout: 70.0\n",
      "[[24 28]\n",
      " [ 2 46]]\n",
      "percentage of true positive: 46.1538461538\n",
      "percentage of true negative: 95.8333333333\n",
      "\n",
      "With 20% Holdout: 69.0\n",
      "[[18 25]\n",
      " [ 6 51]]\n",
      "percentage of true positive: 41.8604651163\n",
      "percentage of true negative: 89.4736842105\n",
      "\n",
      "With 20% Holdout: 64.0\n",
      "[[14 31]\n",
      " [ 5 50]]\n",
      "percentage of true positive: 31.1111111111\n",
      "percentage of true negative: 90.9090909091\n",
      "\n",
      "With 20% Holdout: 69.0\n",
      "[[24 25]\n",
      " [ 6 45]]\n",
      "percentage of true positive: 48.9795918367\n",
      "percentage of true negative: 88.2352941176\n",
      "\n"
     ]
    },
    {
     "name": "stderr",
     "output_type": "stream",
     "text": [
      "C:\\Users\\ktser\\Anaconda3\\lib\\site-packages\\sklearn\\utils\\validation.py:578: DataConversionWarning: A column-vector y was passed when a 1d array was expected. Please change the shape of y to (n_samples, ), for example using ravel().\n",
      "  y = column_or_1d(y, warn=True)\n"
     ]
    },
    {
     "name": "stdout",
     "output_type": "stream",
     "text": [
      "With 20% Holdout: 61.0\n",
      "[[19 36]\n",
      " [ 3 42]]\n",
      "percentage of true positive: 34.5454545455\n",
      "percentage of true negative: 93.3333333333\n",
      "\n",
      "With 20% Holdout: 65.0\n",
      "[[26 31]\n",
      " [ 4 39]]\n",
      "percentage of true positive: 45.6140350877\n",
      "percentage of true negative: 90.6976744186\n",
      "\n",
      "With 20% Holdout: 66.0\n",
      "[[24 29]\n",
      " [ 5 42]]\n",
      "percentage of true positive: 45.2830188679\n",
      "percentage of true negative: 89.3617021277\n",
      "\n"
     ]
    }
   ],
   "source": [
    "#Go through each of the ten equaly divided data and target sets and create traing and testing sets\n",
    "print(cross_val_score(bnb, data, target, cv=10))\n",
    "for sample in d:\n",
    "    X_train = pd.DataFrame()\n",
    "    Y_train = pd.DataFrame()\n",
    "    for x in range(0, 10):\n",
    "        if sample != 'datafoldsample{}'.format(x):\n",
    "            X_train = X_train.append(d['datafoldsample{}'.format(x)])\n",
    "            Y_train = pd.concat([Y_train, t['targetfoldsample{}'.format(x)]])\n",
    "        else:\n",
    "            X_test = d['datafoldsample{}'.format(x)]\n",
    "            Y_test = t['targetfoldsample{}'.format(x)]\n",
    "    \n",
    "    y_pred = bnb.fit(X_train, Y_train).predict(X_test)\n",
    "    \n",
    "    k = confusion_matrix(Y_test, y_pred)\n",
    "    print('With 20% Holdout: ' + str(100*bnb.fit(X_train, Y_train).score(X_test, Y_test)))\n",
    "    print(k)\n",
    "    print('percentage of true positive: ' + str(100*k[0][0]/(k[0][0] + k[0][1])))\n",
    "    print('percentage of true negative: ' + str(100*k[1][1]/(k[1][0] + k[1][1])) + '\\n')"
   ]
  },
  {
   "cell_type": "markdown",
   "metadata": {},
   "source": [
    "### Above is evaluation of my first classifier model. The performance based on accuracy. There overfitting due to the difference in perforance of training and test data sets and the inconsistancy between the folds. Lot of the error is due to false positive, our feature set is more email as spam than ham. Although we are perdicting hams at very high percentage, we are letting in alot of spams, so I should focus more on feature engeneering to correctly perdict spams."
   ]
  },
  {
   "cell_type": "code",
   "execution_count": 10,
   "metadata": {
    "collapsed": true
   },
   "outputs": [],
   "source": [
    "keywords2 = [ 'only', 'very', 'over', 'don\\'t', 'least', 'took', 'much', 'down', 'bad', 'any', 'hate', 'hated', 'never','not', 'didn\\'t', 'no']"
   ]
  },
  {
   "cell_type": "code",
   "execution_count": 20,
   "metadata": {},
   "outputs": [
    {
     "name": "stdout",
     "output_type": "stream",
     "text": [
      "[ 0.72  0.64  0.71  0.59  0.65  0.61  0.66  0.62  0.6   0.66]\n",
      "With 20% Holdout: 68.0\n",
      "[[15 29]\n",
      " [ 3 53]]\n",
      "percentage of true positive: 34.0909090909\n",
      "percentage of true negative: 94.6428571429\n",
      "\n",
      "With 20% Holdout: 61.0\n",
      "[[21 34]\n",
      " [ 5 40]]\n",
      "percentage of true positive: 38.1818181818\n",
      "percentage of true negative: 88.8888888889\n",
      "\n",
      "With 20% Holdout: 69.0\n",
      "[[20 30]\n",
      " [ 1 49]]\n",
      "percentage of true positive: 40.0\n",
      "percentage of true negative: 98.0\n",
      "\n",
      "With 20% Holdout: 58.0\n",
      "[[14 36]\n",
      " [ 6 44]]\n",
      "percentage of true positive: 28.0\n",
      "percentage of true negative: 88.0\n",
      "\n",
      "With 20% Holdout: 67.0\n",
      "[[19 29]\n",
      " [ 4 48]]\n",
      "percentage of true positive: 39.5833333333\n",
      "percentage of true negative: 92.3076923077\n",
      "\n",
      "With 20% Holdout: 66.0\n",
      "[[22 30]\n",
      " [ 4 44]]\n",
      "percentage of true positive: 42.3076923077\n",
      "percentage of true negative: 91.6666666667\n",
      "\n",
      "With 20% Holdout: 65.0"
     ]
    },
    {
     "name": "stderr",
     "output_type": "stream",
     "text": [
      "C:\\Users\\ktser\\Anaconda3\\lib\\site-packages\\sklearn\\utils\\validation.py:578: DataConversionWarning: A column-vector y was passed when a 1d array was expected. Please change the shape of y to (n_samples, ), for example using ravel().\n",
      "  y = column_or_1d(y, warn=True)\n"
     ]
    },
    {
     "name": "stdout",
     "output_type": "stream",
     "text": [
      "\n",
      "[[22 33]\n",
      " [ 2 43]]\n",
      "percentage of true positive: 40.0\n",
      "percentage of true negative: 95.5555555556\n",
      "\n",
      "With 20% Holdout: 63.0\n",
      "[[19 36]\n",
      " [ 1 44]]\n",
      "percentage of true positive: 34.5454545455\n",
      "percentage of true negative: 97.7777777778\n",
      "\n",
      "With 20% Holdout: 65.0\n",
      "[[17 31]\n",
      " [ 4 48]]\n",
      "percentage of true positive: 35.4166666667\n",
      "percentage of true negative: 92.3076923077\n",
      "\n",
      "With 20% Holdout: 65.0\n",
      "[[14 29]\n",
      " [ 6 51]]\n",
      "percentage of true positive: 32.5581395349\n",
      "percentage of true negative: 89.4736842105\n",
      "\n"
     ]
    }
   ],
   "source": [
    "review_raw = pd.read_csv('yelp_labelled.txt', delimiter= '\\t', header=None)\n",
    "review_raw.columns = ['message', 'sentement']\n",
    "\n",
    "for key in keywords2:\n",
    "    # Note that we add spaces around the key so that we're getting the word,\n",
    "    # not just pattern matching.\n",
    "    review_raw[str(key)] = review_raw.message.str.contains(\n",
    "        ' ' + str(key) + ' ',\n",
    "        case=False\n",
    "    )\n",
    "\n",
    "data2 = review_raw[keywords2]\n",
    "\n",
    "datafold = data2\n",
    "targetfold = target\n",
    "d={}\n",
    "t={}\n",
    "for i in range(0, 10):\n",
    "    d['datafoldsample{}'.format(i)] = datafold.sample(n=100, replace=False)\n",
    "    indexNum = d['datafoldsample{}'.format(i)].index.tolist()\n",
    "    datafold = datafold.drop(indexNum)\n",
    "    \n",
    "    t['targetfoldsample{}'.format(i)] = targetfold.take(indexNum)\n",
    "    \n",
    "\n",
    "print(cross_val_score(bnb, data2, target, cv=10))\n",
    "\n",
    "for sample in d:\n",
    "    X_train = pd.DataFrame()\n",
    "    Y_train = pd.DataFrame()\n",
    "    for x in range(0, 10):\n",
    "        if sample != 'datafoldsample{}'.format(x):\n",
    "            X_train = X_train.append(d['datafoldsample{}'.format(x)])\n",
    "            Y_train = pd.concat([Y_train, t['targetfoldsample{}'.format(x)]])\n",
    "        else:\n",
    "            X_test = d['datafoldsample{}'.format(x)]\n",
    "            Y_test = t['targetfoldsample{}'.format(x)]\n",
    "    \n",
    "    y_pred = bnb.fit(X_train, Y_train).predict(X_test)\n",
    "    \n",
    "    k = confusion_matrix(Y_test, y_pred)\n",
    "    print('With 20% Holdout: ' + str(100*bnb.fit(X_train, Y_train).score(X_test, Y_test)))\n",
    "    print(k)\n",
    "    print('percentage of true positive: ' + str(100*k[0][0]/(k[0][0] + k[0][1])))\n",
    "    print('percentage of true negative: ' + str(100*k[1][1]/(k[1][0] + k[1][1])) + '\\n')"
   ]
  },
  {
   "cell_type": "markdown",
   "metadata": {},
   "source": [
    "### For the second feature set I removed all the words that are not adverb. The result did not improve, overfitting is lager and the type of error contributing to over all error is random between the folds. The type of error being random might be due to imbalance is the samples for the folds."
   ]
  },
  {
   "cell_type": "code",
   "execution_count": 14,
   "metadata": {
    "collapsed": true
   },
   "outputs": [],
   "source": [
    "k = review_raw[review_raw.sentement == 0].reset_index().drop('index', axis=1)\n",
    "negFeatureslist = []\n",
    "\n",
    "for i in k['message']:\n",
    "    c = i.split(' ')\n",
    "    for x in c:\n",
    "        negFeatureslist.append(x)\n",
    "\n",
    "#negFeatureslist = list(negFeatureslist)\n",
    "negFeatureslist = ','.join([i for i in negFeatureslist if i.isalpha()])\n",
    "negFeatureslist = negFeatureslist.split(',')"
   ]
  },
  {
   "cell_type": "markdown",
   "metadata": {},
   "source": [
    "### The third feature set includes all the words in the spam email, excluding the words also found in the ham email."
   ]
  },
  {
   "cell_type": "code",
   "execution_count": 19,
   "metadata": {},
   "outputs": [
    {
     "name": "stdout",
     "output_type": "stream",
     "text": [
      "[ 0.65  0.67  0.7   0.62  0.66  0.67  0.58  0.69  0.55  0.62]\n"
     ]
    },
    {
     "name": "stderr",
     "output_type": "stream",
     "text": [
      "C:\\Users\\ktser\\Anaconda3\\lib\\site-packages\\sklearn\\utils\\validation.py:578: DataConversionWarning: A column-vector y was passed when a 1d array was expected. Please change the shape of y to (n_samples, ), for example using ravel().\n",
      "  y = column_or_1d(y, warn=True)\n"
     ]
    },
    {
     "name": "stdout",
     "output_type": "stream",
     "text": [
      "With 20% Holdout: 57.0\n",
      "[[22 28]\n",
      " [15 35]]\n",
      "percentage of true positive: 44.0\n",
      "percentage of true negative: 70.0\n",
      "\n",
      "With 20% Holdout: 68.0\n",
      "[[24 23]\n",
      " [ 9 44]]\n",
      "percentage of true positive: 51.0638297872\n",
      "percentage of true negative: 83.0188679245\n",
      "\n",
      "With 20% Holdout: 65.0\n",
      "[[23 26]\n",
      " [ 9 42]]\n",
      "percentage of true positive: 46.9387755102\n",
      "percentage of true negative: 82.3529411765\n",
      "\n",
      "With 20% Holdout: 61.0\n",
      "[[23 25]\n",
      " [14 38]]\n",
      "percentage of true positive: 47.9166666667\n",
      "percentage of true negative: 73.0769230769\n",
      "\n",
      "With 20% Holdout: 61.0\n",
      "[[23 27]\n",
      " [12 38]]\n",
      "percentage of true positive: 46.0\n",
      "percentage of true negative: 76.0\n",
      "\n",
      "With 20% Holdout: 62.0\n",
      "[[30 23]\n",
      " [15 32]]\n",
      "percentage of true positive: 56.6037735849\n",
      "percentage of true negative: 68.085106383\n",
      "\n",
      "With 20% Holdout: 75.0\n",
      "[[27 16]\n",
      " [ 9 48]]\n",
      "percentage of true positive: 62.7906976744\n",
      "percentage of true negative: 84.2105263158\n",
      "\n",
      "With 20% Holdout: 63.0\n",
      "[[29 29]\n",
      " [ 8 34]]\n",
      "percentage of true positive: 50.0\n",
      "percentage of true negative: 80.9523809524\n",
      "\n",
      "With 20% Holdout: 67.0\n",
      "[[26 21]\n",
      " [12 41]]\n",
      "percentage of true positive: 55.3191489362\n",
      "percentage of true negative: 77.358490566\n",
      "\n",
      "With 20% Holdout: 61.0\n",
      "[[28 27]\n",
      " [12 33]]\n",
      "percentage of true positive: 50.9090909091\n",
      "percentage of true negative: 73.3333333333\n",
      "\n"
     ]
    }
   ],
   "source": [
    "for key in negFeatureslist:\n",
    "    # Note that we add spaces around the key so that we're getting the word,\n",
    "    # not just pattern matching.\n",
    "    review_raw[str(key)] = review_raw.message.str.contains(\n",
    "        ' ' + str(key) + ' ',\n",
    "        case=False\n",
    "    )\n",
    "\n",
    "data3 = review_raw[negFeatureslist]\n",
    "\n",
    "datafold = data3\n",
    "targetfold = target\n",
    "d={}\n",
    "t={}\n",
    "for i in range(0, 10):\n",
    "    d['datafoldsample{}'.format(i)] = datafold.sample(n=100, replace=False)\n",
    "    indexNum = d['datafoldsample{}'.format(i)].index.tolist()\n",
    "    datafold = datafold.drop(indexNum)\n",
    "    \n",
    "    t['targetfoldsample{}'.format(i)] = targetfold.take(indexNum)\n",
    "\n",
    "print(cross_val_score(bnb, data3, target, cv=10))\n",
    "\n",
    "for sample in d:\n",
    "    X_train = pd.DataFrame()\n",
    "    Y_train = pd.DataFrame()\n",
    "    for x in range(0, 10):\n",
    "        if sample != 'datafoldsample{}'.format(x):\n",
    "            X_train = X_train.append(d['datafoldsample{}'.format(x)])\n",
    "            Y_train = pd.concat([Y_train, t['targetfoldsample{}'.format(x)]])\n",
    "        else:\n",
    "            X_test = d['datafoldsample{}'.format(x)]\n",
    "            Y_test = t['targetfoldsample{}'.format(x)]\n",
    "    \n",
    "    y_pred = bnb.fit(X_train, Y_train).predict(X_test)\n",
    "    \n",
    "    k = confusion_matrix(Y_test, y_pred)\n",
    "    print('With 20% Holdout: ' + str(100*bnb.fit(X_train, Y_train).score(X_test, Y_test)))\n",
    "    print(k)\n",
    "    print('percentage of true positive: ' + str(100*k[0][0]/(k[0][0] + k[0][1])))\n",
    "    print('percentage of true negative: ' + str(100*k[1][1]/(k[1][0] + k[1][1])) + '\\n')"
   ]
  },
  {
   "cell_type": "markdown",
   "metadata": {},
   "source": []
  },
  {
   "cell_type": "code",
   "execution_count": null,
   "metadata": {
    "collapsed": true
   },
   "outputs": [],
   "source": []
  }
 ],
 "metadata": {
  "kernelspec": {
   "display_name": "Python 3",
   "language": "python",
   "name": "python3"
  },
  "language_info": {
   "codemirror_mode": {
    "name": "ipython",
    "version": 3
   },
   "file_extension": ".py",
   "mimetype": "text/x-python",
   "name": "python",
   "nbconvert_exporter": "python",
   "pygments_lexer": "ipython3",
   "version": "3.6.3"
  }
 },
 "nbformat": 4,
 "nbformat_minor": 2
}
