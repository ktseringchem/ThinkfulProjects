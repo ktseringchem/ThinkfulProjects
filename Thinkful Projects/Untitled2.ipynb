{
 "cells": [
  {
   "cell_type": "code",
   "execution_count": 1,
   "metadata": {
    "collapsed": true
   },
   "outputs": [],
   "source": [
    "import numpy as np\n",
    "import pandas as pd\n",
    "import matplotlib.pyplot as plt\n",
    "%matplotlib inline"
   ]
  },
  {
   "cell_type": "code",
   "execution_count": 6,
   "metadata": {},
   "outputs": [
    {
     "data": {
      "text/html": [
       "<div>\n",
       "<style>\n",
       "    .dataframe thead tr:only-child th {\n",
       "        text-align: right;\n",
       "    }\n",
       "\n",
       "    .dataframe thead th {\n",
       "        text-align: left;\n",
       "    }\n",
       "\n",
       "    .dataframe tbody tr th {\n",
       "        vertical-align: top;\n",
       "    }\n",
       "</style>\n",
       "<table border=\"1\" class=\"dataframe\">\n",
       "  <thead>\n",
       "    <tr style=\"text-align: right;\">\n",
       "      <th></th>\n",
       "      <th>month</th>\n",
       "      <th>hour</th>\n",
       "      <th>year</th>\n",
       "      <th>location</th>\n",
       "      <th>operator</th>\n",
       "      <th>route</th>\n",
       "      <th>type</th>\n",
       "      <th>aboard</th>\n",
       "      <th>fatalities</th>\n",
       "      <th>summary</th>\n",
       "    </tr>\n",
       "  </thead>\n",
       "  <tbody>\n",
       "    <tr>\n",
       "      <th>0</th>\n",
       "      <td>1</td>\n",
       "      <td>12</td>\n",
       "      <td>1950</td>\n",
       "      <td>Near Vacas, Bolivia</td>\n",
       "      <td>Military - Bolivian Air Force</td>\n",
       "      <td>Valle grande - Cochabamba</td>\n",
       "      <td>Douglas C-47</td>\n",
       "      <td>32</td>\n",
       "      <td>32</td>\n",
       "      <td>Crashed while en route in the Andes mountains ...</td>\n",
       "    </tr>\n",
       "    <tr>\n",
       "      <th>1</th>\n",
       "      <td>3</td>\n",
       "      <td>20</td>\n",
       "      <td>1950</td>\n",
       "      <td>Minneapolis, Minnesota</td>\n",
       "      <td>Northwest Orient Airlines</td>\n",
       "      <td>Rochester Minn. - Minneapolis</td>\n",
       "      <td>Martin 202</td>\n",
       "      <td>13</td>\n",
       "      <td>13</td>\n",
       "      <td>Crashed into a flag pole, well marked by red n...</td>\n",
       "    </tr>\n",
       "    <tr>\n",
       "      <th>2</th>\n",
       "      <td>3</td>\n",
       "      <td>14</td>\n",
       "      <td>1950</td>\n",
       "      <td>Llandow Airport, Cardiff, Wales</td>\n",
       "      <td>Fairflight Ltd.</td>\n",
       "      <td>Llandow - Dublin</td>\n",
       "      <td>Avro 689 Tudor 5</td>\n",
       "      <td>83</td>\n",
       "      <td>80</td>\n",
       "      <td>During the approach to Runway 28 at Llandow Ai...</td>\n",
       "    </tr>\n",
       "    <tr>\n",
       "      <th>3</th>\n",
       "      <td>4</td>\n",
       "      <td>23</td>\n",
       "      <td>1950</td>\n",
       "      <td>Near Atsugi, Japan</td>\n",
       "      <td>Military - U.S. Air Force</td>\n",
       "      <td>Philippines - Japan</td>\n",
       "      <td>Douglas C-54D</td>\n",
       "      <td>35</td>\n",
       "      <td>35</td>\n",
       "      <td>Flew off its prescribed course and crashed int...</td>\n",
       "    </tr>\n",
       "    <tr>\n",
       "      <th>4</th>\n",
       "      <td>5</td>\n",
       "      <td>20</td>\n",
       "      <td>1950</td>\n",
       "      <td>Lagens Air Force Base, Azores</td>\n",
       "      <td>Military - U.S. Air Force</td>\n",
       "      <td>Bermuda - England</td>\n",
       "      <td>Boeing B-29</td>\n",
       "      <td>16</td>\n",
       "      <td>16</td>\n",
       "      <td>Crashed while attempting to land after being d...</td>\n",
       "    </tr>\n",
       "  </tbody>\n",
       "</table>\n",
       "</div>"
      ],
      "text/plain": [
       "   month hour  year                         location  \\\n",
       "0      1   12  1950              Near Vacas, Bolivia   \n",
       "1      3   20  1950           Minneapolis, Minnesota   \n",
       "2      3   14  1950  Llandow Airport, Cardiff, Wales   \n",
       "3      4   23  1950               Near Atsugi, Japan   \n",
       "4      5   20  1950    Lagens Air Force Base, Azores   \n",
       "\n",
       "                        operator                          route  \\\n",
       "0  Military - Bolivian Air Force      Valle grande - Cochabamba   \n",
       "1      Northwest Orient Airlines  Rochester Minn. - Minneapolis   \n",
       "2                Fairflight Ltd.               Llandow - Dublin   \n",
       "3      Military - U.S. Air Force            Philippines - Japan   \n",
       "4      Military - U.S. Air Force              Bermuda - England   \n",
       "\n",
       "               type  aboard  fatalities  \\\n",
       "0      Douglas C-47      32          32   \n",
       "1        Martin 202      13          13   \n",
       "2  Avro 689 Tudor 5      83          80   \n",
       "3     Douglas C-54D      35          35   \n",
       "4       Boeing B-29      16          16   \n",
       "\n",
       "                                             summary  \n",
       "0  Crashed while en route in the Andes mountains ...  \n",
       "1  Crashed into a flag pole, well marked by red n...  \n",
       "2  During the approach to Runway 28 at Llandow Ai...  \n",
       "3  Flew off its prescribed course and crashed int...  \n",
       "4  Crashed while attempting to land after being d...  "
      ]
     },
     "execution_count": 6,
     "metadata": {},
     "output_type": "execute_result"
    }
   ],
   "source": [
    "df = pd.read_csv('plane_crashes_data.csv')\n",
    "df.head()"
   ]
  },
  {
   "cell_type": "code",
   "execution_count": 16,
   "metadata": {},
   "outputs": [
    {
     "data": {
      "text/plain": [
       "138180000"
      ]
     },
     "execution_count": 16,
     "metadata": {},
     "output_type": "execute_result"
    }
   ],
   "source": [
    "x = (50)*(49)*(48)*(47)*(25)\n",
    "x"
   ]
  },
  {
   "cell_type": "code",
   "execution_count": 44,
   "metadata": {},
   "outputs": [
    {
     "data": {
      "text/plain": [
       "month         2709\n",
       "hour          2709\n",
       "year          2709\n",
       "location      2706\n",
       "operator      2707\n",
       "route         2318\n",
       "type          2708\n",
       "aboard        2709\n",
       "fatalities    2709\n",
       "summary       2696\n",
       "dtype: int64"
      ]
     },
     "execution_count": 44,
     "metadata": {},
     "output_type": "execute_result"
    }
   ],
   "source": [
    "month = df['month']\n",
    "death = df.loc[df['fatalities'] >= 1]\n",
    "death.count()\n",
    "df.count()"
   ]
  },
  {
   "cell_type": "code",
   "execution_count": 45,
   "metadata": {},
   "outputs": [
    {
     "data": {
      "text/plain": [
       "98.19121447028424"
      ]
     },
     "execution_count": 45,
     "metadata": {},
     "output_type": "execute_result"
    }
   ],
   "source": [
    "(2660/2709)*100"
   ]
  },
  {
   "cell_type": "code",
   "execution_count": 46,
   "metadata": {},
   "outputs": [
    {
     "data": {
      "text/html": [
       "<div>\n",
       "<style>\n",
       "    .dataframe thead tr:only-child th {\n",
       "        text-align: right;\n",
       "    }\n",
       "\n",
       "    .dataframe thead th {\n",
       "        text-align: left;\n",
       "    }\n",
       "\n",
       "    .dataframe tbody tr th {\n",
       "        vertical-align: top;\n",
       "    }\n",
       "</style>\n",
       "<table border=\"1\" class=\"dataframe\">\n",
       "  <thead>\n",
       "    <tr style=\"text-align: right;\">\n",
       "      <th></th>\n",
       "      <th>month</th>\n",
       "      <th>year</th>\n",
       "      <th>aboard</th>\n",
       "      <th>fatalities</th>\n",
       "    </tr>\n",
       "  </thead>\n",
       "  <tbody>\n",
       "    <tr>\n",
       "      <th>count</th>\n",
       "      <td>2709.000000</td>\n",
       "      <td>2709.000000</td>\n",
       "      <td>2709.000000</td>\n",
       "      <td>2709.000000</td>\n",
       "    </tr>\n",
       "    <tr>\n",
       "      <th>mean</th>\n",
       "      <td>6.554079</td>\n",
       "      <td>1981.927279</td>\n",
       "      <td>35.817276</td>\n",
       "      <td>25.816537</td>\n",
       "    </tr>\n",
       "    <tr>\n",
       "      <th>std</th>\n",
       "      <td>3.532468</td>\n",
       "      <td>16.709136</td>\n",
       "      <td>54.306779</td>\n",
       "      <td>42.599461</td>\n",
       "    </tr>\n",
       "    <tr>\n",
       "      <th>min</th>\n",
       "      <td>1.000000</td>\n",
       "      <td>1950.000000</td>\n",
       "      <td>0.000000</td>\n",
       "      <td>0.000000</td>\n",
       "    </tr>\n",
       "    <tr>\n",
       "      <th>25%</th>\n",
       "      <td>3.000000</td>\n",
       "      <td>1968.000000</td>\n",
       "      <td>5.000000</td>\n",
       "      <td>3.000000</td>\n",
       "    </tr>\n",
       "    <tr>\n",
       "      <th>50%</th>\n",
       "      <td>7.000000</td>\n",
       "      <td>1983.000000</td>\n",
       "      <td>15.000000</td>\n",
       "      <td>9.000000</td>\n",
       "    </tr>\n",
       "    <tr>\n",
       "      <th>75%</th>\n",
       "      <td>10.000000</td>\n",
       "      <td>1997.000000</td>\n",
       "      <td>44.000000</td>\n",
       "      <td>29.000000</td>\n",
       "    </tr>\n",
       "    <tr>\n",
       "      <th>max</th>\n",
       "      <td>12.000000</td>\n",
       "      <td>2009.000000</td>\n",
       "      <td>644.000000</td>\n",
       "      <td>583.000000</td>\n",
       "    </tr>\n",
       "  </tbody>\n",
       "</table>\n",
       "</div>"
      ],
      "text/plain": [
       "             month         year       aboard   fatalities\n",
       "count  2709.000000  2709.000000  2709.000000  2709.000000\n",
       "mean      6.554079  1981.927279    35.817276    25.816537\n",
       "std       3.532468    16.709136    54.306779    42.599461\n",
       "min       1.000000  1950.000000     0.000000     0.000000\n",
       "25%       3.000000  1968.000000     5.000000     3.000000\n",
       "50%       7.000000  1983.000000    15.000000     9.000000\n",
       "75%      10.000000  1997.000000    44.000000    29.000000\n",
       "max      12.000000  2009.000000   644.000000   583.000000"
      ]
     },
     "execution_count": 46,
     "metadata": {},
     "output_type": "execute_result"
    }
   ],
   "source": [
    " df.describe()"
   ]
  },
  {
   "cell_type": "code",
   "execution_count": 48,
   "metadata": {},
   "outputs": [
    {
     "data": {
      "text/plain": [
       "69937"
      ]
     },
     "execution_count": 48,
     "metadata": {},
     "output_type": "execute_result"
    }
   ],
   "source": [
    "total = df['fatalities'].sum()\n",
    "total"
   ]
  },
  {
   "cell_type": "code",
   "execution_count": 49,
   "metadata": {},
   "outputs": [
    {
     "data": {
      "text/plain": [
       "2581.653746770026"
      ]
     },
     "execution_count": 49,
     "metadata": {},
     "output_type": "execute_result"
    }
   ],
   "source": [
    "(69937/2709)*100"
   ]
  },
  {
   "cell_type": "code",
   "execution_count": null,
   "metadata": {
    "collapsed": true
   },
   "outputs": [],
   "source": []
  }
 ],
 "metadata": {
  "kernelspec": {
   "display_name": "Python 3",
   "language": "python",
   "name": "python3"
  },
  "language_info": {
   "codemirror_mode": {
    "name": "ipython",
    "version": 3
   },
   "file_extension": ".py",
   "mimetype": "text/x-python",
   "name": "python",
   "nbconvert_exporter": "python",
   "pygments_lexer": "ipython3",
   "version": "3.6.3"
  }
 },
 "nbformat": 4,
 "nbformat_minor": 2
}
