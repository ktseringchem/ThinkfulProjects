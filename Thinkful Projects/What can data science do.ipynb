{
 "cells": [
  {
   "cell_type": "markdown",
   "metadata": {},
   "source": [
    "# Drill: What can data science do?"
   ]
  },
  {
   "cell_type": "markdown",
   "metadata": {},
   "source": [
    "1) Simple answer would be to see if the ad works and put the product that is selling the least. Effect of price on sale and effect of advertisement on sale. Customer don’t think about how much it cost to produce the product, decisions is mainly made by how much it cost them to get it, Price."
   ]
  },
  {
   "cell_type": "markdown",
   "metadata": {},
   "source": [
    "2) Find the bottle neck and roll it back or find a new method of removing the bottle neck. The cause could be the marketing or the layout. To rule in or out marketing I would compare marketing spending vs. number of people who start to sign up. If the trend matches in down ward direction, the answer is increase marketing spending. If not, then we should look at time spend on each process and where they gave up, which might give us some indications of the cause. "
   ]
  },
  {
   "cell_type": "markdown",
   "metadata": {},
   "source": [
    "3) Lowest price available room"
   ]
  },
  {
   "cell_type": "markdown",
   "metadata": {},
   "source": [
    "4) Graph the data in such a way as to show login over time and length of session, such as size of the circle (dot). Look for a pattern, if it does not fit the pattern it is atypical. This pattern will not be perfect because humans are erratic so we will have to calculate confidence interval for the gap or continues activity."
   ]
  },
  {
   "cell_type": "code",
   "execution_count": null,
   "metadata": {
    "collapsed": true
   },
   "outputs": [],
   "source": []
  }
 ],
 "metadata": {
  "kernelspec": {
   "display_name": "Python 3",
   "language": "python",
   "name": "python3"
  },
  "language_info": {
   "codemirror_mode": {
    "name": "ipython",
    "version": 3
   },
   "file_extension": ".py",
   "mimetype": "text/x-python",
   "name": "python",
   "nbconvert_exporter": "python",
   "pygments_lexer": "ipython3",
   "version": "3.6.3"
  }
 },
 "nbformat": 4,
 "nbformat_minor": 2
}
