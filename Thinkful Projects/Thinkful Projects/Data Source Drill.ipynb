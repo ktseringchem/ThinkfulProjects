{
 "cells": [
  {
   "cell_type": "markdown",
   "metadata": {},
   "source": [
    "1. The data was collected under abnormal circumstances, chrismas eve, and one single day. This might answer questions about populer neighborhood on that perticular day.\n",
    "\n",
    "2. Abnormal circumstances for NY citiy\n",
    "\n",
    "3. Unclear how the survy was taken, given (made aware of) and the questions on the "
   ]
  }
 ],
 "metadata": {
  "kernelspec": {
   "display_name": "Python 3",
   "language": "python",
   "name": "python3"
  },
  "language_info": {
   "codemirror_mode": {
    "name": "ipython",
    "version": 3
   },
   "file_extension": ".py",
   "mimetype": "text/x-python",
   "name": "python",
   "nbconvert_exporter": "python",
   "pygments_lexer": "ipython3",
   "version": "3.6.3"
  }
 },
 "nbformat": 4,
 "nbformat_minor": 2
}
