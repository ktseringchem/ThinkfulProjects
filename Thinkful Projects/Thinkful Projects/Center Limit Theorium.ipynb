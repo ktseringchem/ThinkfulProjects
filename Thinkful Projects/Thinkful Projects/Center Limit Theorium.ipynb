{
 "cells": [
  {
   "cell_type": "code",
   "execution_count": 51,
   "metadata": {
    "collapsed": true
   },
   "outputs": [],
   "source": [
    "import numpy as np\n",
    "import pandas as pd\n",
    "import matplotlib.pyplot as plt\n",
    "from scipy.stats import ttest_ind\n",
    "%matplotlib inline"
   ]
  },
  {
   "cell_type": "code",
   "execution_count": 57,
   "metadata": {},
   "outputs": [
    {
     "name": "stdout",
     "output_type": "stream",
     "text": [
      "sample_pop1_mean = 3.95\n",
      "sample_pop1_STD = 1.5898113095584645\n",
      "sample_pop2_mean = 4.94\n",
      "sample_pop2_STD = 1.6359706598836055\n"
     ]
    }
   ],
   "source": [
    "df = pd.DataFrame()\n",
    "df['pop1'] = np.random.binomial(10,0.4,10000)\n",
    "df['pop2'] = np.random.binomial(10,0.5,10000)\n",
    "\n",
    "sample_pop1  = np.random.choice(df['pop1'], 100, replace=True)\n",
    "sample_pop2  = np.random.choice(df['pop2'], 100, replace=True)\n",
    "print('sample_pop1_mean = {}'.format(sample_pop1.mean()))\n",
    "print('sample_pop1_STD = {}'.format(sample_pop1.std()))\n",
    "print('sample_pop2_mean = {}'.format(sample_pop2.mean()))\n",
    "print('sample_pop2_STD = {}'.format(sample_pop2.std()))"
   ]
  },
  {
   "cell_type": "markdown",
   "metadata": {},
   "source": [
    "1. I expect the standard devation will decrease and mean will have not much changed."
   ]
  },
  {
   "cell_type": "code",
   "execution_count": 53,
   "metadata": {},
   "outputs": [
    {
     "name": "stdout",
     "output_type": "stream",
     "text": [
      "sample_pop1_mean = 4.19\n",
      "sample_pop1_STD = 1.4331433982682962\n",
      "sample_pop2_mean = 5.07\n",
      "sample_pop2_STD = 1.6748432762500496\n"
     ]
    },
    {
     "data": {
      "image/png": "[encoded data removed]",
      "text/plain": [
       "<matplotlib.figure.Figure at 0x1a46027b978>"
      ]
     },
     "metadata": {},
     "output_type": "display_data"
    }
   ],
   "source": [
    "#sample_pop1  = np.random.choice(df['pop1'], 2000, replace=True)\n",
    "#sample_pop2  = np.random.choice(df['pop2'], 2000, replace=True)\n",
    "print('sample_pop1_mean = {}'.format(sample_pop1.mean()))\n",
    "print('sample_pop1_STD = {}'.format(sample_pop1.std()))\n",
    "print('sample_pop2_mean = {}'.format(sample_pop2.mean()))\n",
    "print('sample_pop2_STD = {}'.format(sample_pop2.std()))\n",
    "plt.hist(sample_pop1)\n",
    "plt.hist(sample_pop2)\n",
    "plt.show()"
   ]
  },
  {
   "cell_type": "markdown",
   "metadata": {},
   "source": [
    "Standard Deviation increases as sample size is increased but the mean remains around the same."
   ]
  },
  {
   "cell_type": "code",
   "execution_count": 54,
   "metadata": {},
   "outputs": [],
   "source": [
    "df_2 = pd.DataFrame()\n",
    "df_2['pop1'] = np.random.binomial(10,0.3,10000)\n",
    "df_2['pop2'] = np.random.binomial(10,0.5,10000)\n",
    "\n",
    "sample2_pop1 = np.random.choice(df_2['pop1'], 100, replace=True)\n",
    "sample2_pop2 = np.random.choice(df_2['pop2'], 100, replace=True)"
   ]
  },
  {
   "cell_type": "code",
   "execution_count": 59,
   "metadata": {},
   "outputs": [
    {
     "name": "stdout",
     "output_type": "stream",
     "text": [
      "sample1 Stat = Ttest_indResult(statistic=4.3180565008910543, pvalue=2.4877186198739704e-05)\n",
      "pop1 Stat = Ttest_indResult(statistic=46.902833405283545, pvalue=0.0)\n",
      "sample2 Stat = Ttest_indResult(statistic=10.250802279257027, pvalue=5.7053194457870919e-20)\n",
      "pop2 Stat = Ttest_indResult(statistic=46.171575290758426, pvalue=0.0)\n"
     ]
    }
   ],
   "source": [
    "print('sample1 Stat = {}'.format(ttest_ind(sample_pop2, sample_pop1, equal_var=False)))\n",
    "print('pop1 Stat = {}'.format(ttest_ind(df['pop2'], df['pop1'], equal_var=False)))\n",
    "print('sample2 Stat = {}'.format(ttest_ind(sample2_pop2, sample2_pop1, equal_var=False)))\n",
    "print('pop2 Stat = {}'.format(ttest_ind(df_2['pop2'], df['pop1'], equal_var=False)))"
   ]
  },
  {
   "cell_type": "markdown",
   "metadata": {},
   "source": [
    "For pop1 p equal to 0.4 has t-statistic of 3.972 and pvalue is 2.488e-5, where as p = 0.3 has t-statistic = 10.251 and pvalue = 5.705e-20. When the probabilities of pop1 and pop2 are closer togather t-statistic is smaller and pvalue is larger."
   ]
  },
  {
   "cell_type": "code",
   "execution_count": 95,
   "metadata": {},
   "outputs": [
    {
     "name": "stdout",
     "output_type": "stream",
     "text": [
      "sample3_pop1_mean = 3.02 and pop1_mean = 399.3389585471731\n",
      "sample3_pop1_STD = 1.5898113095584645\n",
      "sample3_pop2_mean = 4.94 and pop1_mean = 40006.66212156941\n",
      "sample3_pop2_STD = 1.6359706598836055\n"
     ]
    },
    {
     "data": {
      "image/png": "[encoded data removed]",
      "text/plain": [
       "<matplotlib.figure.Figure at 0x1a46030a5c0>"
      ]
     },
     "metadata": {},
     "output_type": "display_data"
    }
   ],
   "source": [
    "df_3 = pd.DataFrame()\n",
    "df_3['pop1'] = np.random.gamma(20,20,10000)\n",
    "df_3['pop2'] = np.random.gamma(200,200,10000)\n",
    "\n",
    "sample3_pop1 = np.random.choice(df_2['pop1'], 100, replace=True)\n",
    "sample3_pop2 = np.random.choice(df_2['pop2'], 100, replace=True)\n",
    "\n",
    "print('sample3_pop1_mean = {} and pop1_mean = {}'.format(sample3_pop1.mean(),df_3['pop1'].mean()))\n",
    "print('sample3_pop1_STD = {}'.format(sample_pop1.std()))\n",
    "print('sample3_pop2_mean = {} and pop1_mean = {}'.format(sample_pop2.mean(),df_3['pop2'].mean()))\n",
    "print('sample3_pop2_STD = {}'.format(sample_pop2.std()))\n",
    "\n",
    "plt.hist(sample2_pop1)\n",
    "plt.hist(sample3_pop2)\n",
    "plt.show()"
   ]
  },
  {
   "cell_type": "markdown",
   "metadata": {},
   "source": [
    "No, they are order of magnitute different"
   ]
  }
 ],
 "metadata": {
  "kernelspec": {
   "display_name": "Python 3",
   "language": "python",
   "name": "python3"
  },
  "language_info": {
   "codemirror_mode": {
    "name": "ipython",
    "version": 3
   },
   "file_extension": ".py",
   "mimetype": "text/x-python",
   "name": "python",
   "nbconvert_exporter": "python",
   "pygments_lexer": "ipython3",
   "version": "3.6.3"
  }
 },
 "nbformat": 4,
 "nbformat_minor": 2
}
