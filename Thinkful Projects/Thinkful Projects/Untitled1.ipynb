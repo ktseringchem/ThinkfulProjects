{
 "cells": [
  {
   "cell_type": "markdown",
   "metadata": {},
   "source": [
    "Greg was 14, Marcia was 12, Peter was 11, Jan was 10, Bobby was 8, and Cindy was 6 when they started playing the Brady kids on The Brady Bunch. Cousin Oliver was 8 years old when he joined the show. What are the mean, median, and mode of the kids' ages when they first appeared on the show? What are the variance, standard deviation, and standard error?"
   ]
  },
  {
   "cell_type": "markdown",
   "metadata": {},
   "source": [
    "- $total = 14 + 12 + 11 + 10 + 8 + 6 + 8$\n",
    "- $n = 7$\n",
    "- $mean = \\frac{total}{n} = 9.86$\n",
    "- $\\sum(age - mean)^2 = 17.1396 + 4.5796 + 1.2996 + 0.0196 + 3.4596 + 14.8996 + 3.4596 = 44.8572$\n",
    "- $ var = \\sum(\\frac{(age - mean)^2}{n}) = 6.4081$\n",
    "- $std = \\sqrt{var} = 2.5314$\n",
    "- $se = \\frac{std}{\\sqrt{n}} =0.9568$\n"
   ]
  },
  {
   "cell_type": "code",
   "execution_count": 52,
   "metadata": {},
   "outputs": [
    {
     "name": "stdout",
     "output_type": "stream",
     "text": [
      "mean = 9.857142857142858\n",
      "var = 7.476190476190475\n",
      "std = 2.734262327610589\n",
      "se = 1.0334540197243192\n"
     ]
    }
   ],
   "source": [
    "import pandas as pd\n",
    "import numpy as np\n",
    "\n",
    "df = pd.DataFrame()\n",
    "df['Name'] = ['Greg', 'Marcia', 'Peter', 'Jan', 'Bobby', 'Cindy', 'Oliver']\n",
    "df['Age'] = [14, 12, 11, 10, 8, 6, 8]\n",
    "\n",
    "new_array = df.describe()\n",
    "print('mean = {}'.format(new_array.loc['mean', 'Age']))\n",
    "print('var = {}'.format(df['Age'].var()))\n",
    "print('std = {}'.format(new_array.loc['std', 'Age']))\n",
    "print('se = {}'.format(new_array.loc['std', 'Age']/(len(df['Age'])**0.5)))\n",
    "#new_array"
   ]
  },
  {
   "cell_type": "markdown",
   "metadata": {},
   "source": [
    "### I would pick mean and var because mean is the average and var is age away from the average they might pick if they had to     pick another kid."
   ]
  },
  {
   "cell_type": "code",
   "execution_count": 51,
   "metadata": {},
   "outputs": [
    {
     "name": "stdout",
     "output_type": "stream",
     "text": [
      "mean = 10.0\n",
      "var = 6.333333333333333\n",
      "std = 2.516611478423583\n",
      "se = 0.9511897312113418\n"
     ]
    }
   ],
   "source": [
    "df = pd.DataFrame()\n",
    "df['Name'] = ['Greg', 'Marcia', 'Peter', 'Jan', 'Bobby', 'Cindy', 'Oliver']\n",
    "df['Age'] = [14, 12, 11, 10, 8, 7, 8]\n",
    "\n",
    "new_array = df.describe()\n",
    "print('mean = {}'.format(new_array.loc['mean', 'Age']))\n",
    "print('var = {}'.format(df['Age'].var()))\n",
    "print('std = {}'.format(new_array.loc['std', 'Age']))\n",
    "print('se = {}'.format(new_array.loc['std', 'Age']/(len(df['Age'])**0.5)))\n",
    "#new_array"
   ]
  },
  {
   "cell_type": "markdown",
   "metadata": {},
   "source": [
    "### All the estimates changed"
   ]
  },
  {
   "cell_type": "code",
   "execution_count": 57,
   "metadata": {},
   "outputs": [
    {
     "name": "stdout",
     "output_type": "stream",
     "text": [
      "mean = 9.0\n",
      "median = 10.0\n",
      "var = 18.0\n",
      "std = 4.242640687119285\n",
      "se = 1.6035674514745462\n"
     ]
    }
   ],
   "source": [
    "df = pd.DataFrame()\n",
    "df['Name'] = ['Greg', 'Marcia', 'Peter', 'Jan', 'Bobby', 'Cindy', 'Jessica']\n",
    "df['Age'] = [14, 12, 11, 10, 8, 7, 1]\n",
    "\n",
    "new_array = df.describe()\n",
    "print('mean = {}'.format(new_array.loc['mean', 'Age']))\n",
    "print('median = {}'.format(np.median(df['Age'])))\n",
    "print('var = {}'.format(df['Age'].var()))\n",
    "print('std = {}'.format(new_array.loc['std', 'Age']))\n",
    "print('se = {}'.format(new_array.loc['std', 'Age']/(len(df['Age'])**0.5)))\n",
    "#new_array"
   ]
  },
  {
   "cell_type": "markdown",
   "metadata": {},
   "source": [
    "### Although this chage did not change mean too much, median is more accurete reprentation of the center and I would use standard deviation age value away from the median to pick the next kid. Which might meet their perfernce better. "
   ]
  },
  {
   "cell_type": "code",
   "execution_count": 60,
   "metadata": {},
   "outputs": [
    {
     "name": "stdout",
     "output_type": "stream",
     "text": [
      "mean = 16.25\n",
      "std = 6.832825184358224\n"
     ]
    }
   ],
   "source": [
    "df_2 = [20,23,17,5]\n",
    "print(\"mean = {}\".format(np.mean(df_2)))\n",
    "print(\"std = {}\".format(np.std(df_2)))"
   ]
  },
  {
   "cell_type": "markdown",
   "metadata": {},
   "source": [
    "### Percentage of fan could have been anywhere from 9% to 23%, rough estimation."
   ]
  },
  {
   "cell_type": "code",
   "execution_count": null,
   "metadata": {
    "collapsed": true
   },
   "outputs": [],
   "source": []
  }
 ],
 "metadata": {
  "kernelspec": {
   "display_name": "Python 3",
   "language": "python",
   "name": "python3"
  },
  "language_info": {
   "codemirror_mode": {
    "name": "ipython",
    "version": 3
   },
   "file_extension": ".py",
   "mimetype": "text/x-python",
   "name": "python",
   "nbconvert_exporter": "python",
   "pygments_lexer": "ipython3",
   "version": "3.6.3"
  }
 },
 "nbformat": 4,
 "nbformat_minor": 2
}
