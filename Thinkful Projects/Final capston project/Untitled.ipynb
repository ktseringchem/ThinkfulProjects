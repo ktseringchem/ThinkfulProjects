{
 "cells": [
  {
   "cell_type": "markdown",
   "metadata": {},
   "source": [
    "<div> Drill: Matrix multiplication and similarity</div>\n",
    "* multipling A \\* B = 4.85445, A * C = 0.342225. These terms are representation of weighted vector created by term frequency, meaning if the term is not present in one of the senctences being comapred than the term does not contribute in value indicating the simalirties, which is doen by adding up all the vector multipilcation. "
   ]
  },
  {
   "cell_type": "markdown",
   "metadata": {},
   "source": [
    "The formula for the TextRank score for a sentence $V_i$ of a list of sentences $V$ requires the following information:\n",
    "\n",
    "$d$: A damping factor: Traditionally set to .85\n",
    "$V_j\\epsilon V_i$: The set of sentences $V_j$ that have similarity scores > 0 with $V_i$.\n",
    "$w_{ji}$: The similarity of sentences $V_i$ and $V_j$.\n",
    "$V_k\\epsilon V_j$ The set of sentences $V_k$ that have similarity scores > 0 with $V_j$.\n",
    "$R(V_j)$: The rank of sentence $V_j$.\n",
    "\n",
    "$$Rank(V_i)=(1-d)+d\\sum_{V_j\\epsilon V_i}\\dfrac{w_{ji}}{\\sum\\limits_{V_k\\epsilon V_j} w_{jk}}R(V_j)$$\n",
    "\n",
    "In words, the rank of sentence $V_i$ is calculated by:\n",
    "\n",
    "The rank of sentence $V_j$ multiplied by:\n",
    "The sum of the similarity scores ($w_{ji}$) for all the sentences with sentence $V_i$, where each is each divided by the sum of the similarity scores ($w_{jk}$) for all the sentences with sentence $V_k$.\n",
    "This is multiplied by the damping factor $d$, and added to $(1-d)$."
   ]
  },
  {
   "cell_type": "code",
   "execution_count": null,
   "metadata": {
    "collapsed": true
   },
   "outputs": [],
   "source": []
  }
 ],
 "metadata": {
  "kernelspec": {
   "display_name": "Python 3",
   "language": "python",
   "name": "python3"
  },
  "language_info": {
   "codemirror_mode": {
    "name": "ipython",
    "version": 3
   },
   "file_extension": ".py",
   "mimetype": "text/x-python",
   "name": "python",
   "nbconvert_exporter": "python",
   "pygments_lexer": "ipython3",
   "version": "3.6.3"
  }
 },
 "nbformat": 4,
 "nbformat_minor": 2
}
