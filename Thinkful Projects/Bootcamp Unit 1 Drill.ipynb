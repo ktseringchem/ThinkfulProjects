{
 "cells": [
  {
   "cell_type": "markdown",
   "metadata": {},
   "source": [
    "# Drill: What can data science do?"
   ]
  },
  {
   "cell_type": "markdown",
   "metadata": {},
   "source": [
    "1) Simple answer would be to see if the ad works and put the product that is selling the least. Effect of price on sale and effect of advertisement on sale. Customer don’t think about how much it cost to produce the product, decisions is mainly made by how much it cost them to get it, Price."
   ]
  },
  {
   "cell_type": "markdown",
   "metadata": {},
   "source": [
    "2) Find the bottle neck and roll it back or find a new method of removing the bottle neck. The cause could be the marketing or the layout. To rule in or out marketing I would compare marketing spending vs. number of people who start to sign up. If the trend matches in down ward direction, the answer is increase marketing spending. If not, then we should look at time spend on each process and where they gave up, which might give us some indications of the cause. "
   ]
  },
  {
   "cell_type": "markdown",
   "metadata": {},
   "source": [
    "3) Lowest price available room"
   ]
  },
  {
   "cell_type": "markdown",
   "metadata": {},
   "source": [
    "4) Graph the data in such a way as to show login over time and length of session, such as size of the circle (dot). Look for a pattern, if it does not fit the pattern it is atypical. This pattern will not be perfect because humans are erratic so we will have to calculate confidence interval for the gap or continues activity."
   ]
  },
  {
   "cell_type": "markdown",
   "metadata": {
    "collapsed": true
   },
   "source": [
    "# SQL DRILL"
   ]
  },
  {
   "cell_type": "markdown",
   "metadata": {},
   "source": [
    "1)\n",
    "```\n",
    "SELECT\n",
    "\ttrip_id,\n",
    "\tduration\n",
    "FROM\n",
    "\ttrips\n",
    "WHERE\n",
    "\tduration > 500\n",
    "```"
   ]
  },
  {
   "cell_type": "markdown",
   "metadata": {},
   "source": [
    "2)\n",
    "```\n",
    "SELECT\n",
    "\t*\n",
    "FROM\n",
    "\tstations\n",
    "WHERE\n",
    "\tstation_id = 84\n",
    "```"
   ]
  },
  {
   "cell_type": "markdown",
   "metadata": {},
   "source": [
    "3)\n",
    "```\n",
    "SELECT\n",
    "\tMinTemperatureF\n",
    "FROM\n",
    "\tweather\n",
    "WHERE\n",
    "\tZIP = 94301 AND\n",
    "\tPrecipitationIn like 'T'\n",
    "```\n"
   ]
  },
  {
   "cell_type": "markdown",
   "metadata": {},
   "source": [
    "# Drill Aggregates and group"
   ]
  },
  {
   "cell_type": "markdown",
   "metadata": {},
   "source": [
    "1) \n",
    "```\n",
    "SELECT\n",
    "\tZIP,\n",
    "\tMax(MaxTemperatureF) MaxTemperatureF\n",
    "FROM\n",
    "\tweather\n",
    "```"
   ]
  },
  {
   "cell_type": "markdown",
   "metadata": {},
   "source": [
    "2)\n",
    "```\n",
    "SELECT\n",
    "\tstart_station,\n",
    "\tCOUNT(start_station) start_station\n",
    "FROM\n",
    "\ttrips\n",
    "GROUP BY start_station\n",
    "```"
   ]
  },
  {
   "cell_type": "markdown",
   "metadata": {},
   "source": [
    "3)\n",
    "```\n",
    "SELECT\n",
    "\ttrip_id,\n",
    "\tMin(duration) duration,\n",
    "\t\n",
    "FROM\n",
    "\ttrips\n",
    "```"
   ]
  },
  {
   "cell_type": "markdown",
   "metadata": {},
   "source": [
    "4)\n",
    "```\n",
    "SELECT\n",
    "\tend_station,\n",
    "\tAVG(duration) duration\n",
    "\t\n",
    "FROM\n",
    "\ttrips\n",
    "GROUP BY end_station\n",
    "```"
   ]
  },
  {
   "cell_type": "markdown",
   "metadata": {},
   "source": [
    "# Join and CTE"
   ]
  },
  {
   "cell_type": "markdown",
   "metadata": {},
   "source": [
    "What are the three longest trips on rainy days?\n",
    "```\n",
    "WITH\n",
    "\tDay\n",
    "AS (\n",
    "\tSELECT\n",
    "\t\tstart_date,\n",
    "\t\tduration\n",
    "\tFROM\n",
    "\t\ttrips\n",
    "\tGROUP BY 1,2\n",
    "\tORDER BY duration DESC\n",
    "\tLIMIT 3\n",
    "\t)\n",
    "\n",
    "SELECT\n",
    "\tD.start_date,\n",
    "\tD.duration\n",
    "From\n",
    "\tDay D\n",
    "JOIN\n",
    "\ttrips t\n",
    "ON\n",
    "\tD.start_date = t.start_date\n",
    "JOIN\n",
    "\tweather w\n",
    "ON\n",
    "\tw.Date = t.start_date\n",
    "GROUP BY 1\n",
    "```"
   ]
  },
  {
   "cell_type": "markdown",
   "metadata": {},
   "source": [
    "Which station is full most often?\n",
    "```\n",
    "SELECT\n",
    "\tstation_id,\n",
    "\tCOUNT(docks_available) number_of\n",
    "FROM\n",
    "\tstatus\n",
    "WHERE\n",
    "\tdocks_available = 0\n",
    "GROUP BY station_id\n",
    "ORDER BY number_of DESC\n",
    "```"
   ]
  },
  {
   "cell_type": "markdown",
   "metadata": {},
   "source": [
    "Return a list of stations with a count of number of trips starting at that station but ordered by dock count.\n",
    "```\n",
    "WITH\n",
    "    numb_trip\n",
    "AS (\n",
    "    SELECT\n",
    "        start_station,\n",
    "\t\tCOUNT(trip_id) trip_count\n",
    "    FROM\n",
    "        trips\n",
    "    GROUP BY start_station\n",
    "    )\n",
    "SELECT\n",
    "\tn.start_station,\n",
    "\tn.trip_count,\n",
    "\ts.station_id,\n",
    "\ts.docks_available\n",
    "FROM\n",
    "\tnumb_trip n\n",
    "JOIN\n",
    "\tstatus s\n",
    "ON\n",
    "\tn.start_station = s.station_id\n",
    "```"
   ]
  },
  {
   "cell_type": "markdown",
   "metadata": {},
   "source": [
    "(Challenge) What's the length of the longest trip for each day it rains anywhere?\n",
    "```\n",
    "WITH\n",
    "    longest_trip\n",
    "AS (\n",
    "    SELECT\n",
    "\t\tstart_date,\n",
    "\t\tMax(duration) max_time\n",
    "\tFROM\n",
    "\t\ttrips\n",
    "\tGROUP BY start_date\n",
    "\tORDER BY start_date DESC\n",
    "    )\n",
    "\n",
    "\n",
    "SELECT\n",
    "\tl.start_date,\n",
    "\tl.max_time\n",
    "FROM\n",
    "\tlongest_trip l\n",
    "JOIN\n",
    "\tweather w\n",
    "ON\n",
    "\tl.start_date = w.date\n",
    "WHERE\n",
    "\tPrecipitationIn like 'T'\n",
    "GROUP BY Date\n",
    "ORDER BY Date DESC\n",
    "```"
   ]
  },
  {
   "cell_type": "code",
   "execution_count": null,
   "metadata": {
    "collapsed": true
   },
   "outputs": [],
   "source": []
  }
 ],
 "metadata": {
  "kernelspec": {
   "display_name": "Python 3",
   "language": "python",
   "name": "python3"
  },
  "language_info": {
   "codemirror_mode": {
    "name": "ipython",
    "version": 3
   },
   "file_extension": ".py",
   "mimetype": "text/x-python",
   "name": "python",
   "nbconvert_exporter": "python",
   "pygments_lexer": "ipython3",
   "version": "3.6.3"
  }
 },
 "nbformat": 4,
 "nbformat_minor": 2
}
