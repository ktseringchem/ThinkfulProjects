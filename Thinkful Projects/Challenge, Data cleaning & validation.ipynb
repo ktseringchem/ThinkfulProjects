{
 "cells": [
  {
   "cell_type": "code",
   "execution_count": 259,
   "metadata": {
    "collapsed": true
   },
   "outputs": [],
   "source": [
    "import numpy as np\n",
    "import pandas as pd\n",
    "import matplotlib.pyplot as plt\n",
    "import seaborn as sns\n",
    "%matplotlib inline\n",
    "import re"
   ]
  },
  {
   "cell_type": "code",
   "execution_count": 367,
   "metadata": {},
   "outputs": [],
   "source": [
    "#import data as csv and encoded as \"mac_roman\"\n",
    "APCspend = pd.read_csv(\"WELLCOME_APCspend2013_forThinkful.csv\", encoding=\"mac_roman\")"
   ]
  },
  {
   "cell_type": "code",
   "execution_count": 365,
   "metadata": {},
   "outputs": [
    {
     "name": "stderr",
     "output_type": "stream",
     "text": [
      "C:\\Users\\ktser\\Anaconda3\\lib\\site-packages\\ipykernel_launcher.py:20: RuntimeWarning: invalid value encountered in long_scalars\n",
      "C:\\Users\\ktser\\Anaconda3\\lib\\site-packages\\numpy\\core\\fromnumeric.py:2909: RuntimeWarning: Mean of empty slice.\n",
      "  out=out, **kwargs)\n",
      "C:\\Users\\ktser\\Anaconda3\\lib\\site-packages\\numpy\\core\\_methods.py:80: RuntimeWarning: invalid value encountered in double_scalars\n",
      "  ret = ret.dtype.type(ret / rcount)\n"
     ]
    },
    {
     "data": {
      "text/html": [
       "<div>\n",
       "<style>\n",
       "    .dataframe thead tr:only-child th {\n",
       "        text-align: right;\n",
       "    }\n",
       "\n",
       "    .dataframe thead th {\n",
       "        text-align: left;\n",
       "    }\n",
       "\n",
       "    .dataframe tbody tr th {\n",
       "        vertical-align: top;\n",
       "    }\n",
       "</style>\n",
       "<table border=\"1\" class=\"dataframe\">\n",
       "  <thead>\n",
       "    <tr style=\"text-align: right;\">\n",
       "      <th></th>\n",
       "      <th>Journal title</th>\n",
       "      <th>Count</th>\n",
       "      <th>Mean Cost</th>\n",
       "      <th>Median Cost</th>\n",
       "      <th>STD</th>\n",
       "    </tr>\n",
       "  </thead>\n",
       "  <tbody>\n",
       "    <tr>\n",
       "      <th>622</th>\n",
       "      <td>plos one</td>\n",
       "      <td>183</td>\n",
       "      <td>1982.25</td>\n",
       "      <td>896.99</td>\n",
       "      <td>14173.07</td>\n",
       "    </tr>\n",
       "    <tr>\n",
       "      <th>11</th>\n",
       "      <td>journal of biological chemistry</td>\n",
       "      <td>52</td>\n",
       "      <td>1423.59</td>\n",
       "      <td>1301.14</td>\n",
       "      <td>411.95</td>\n",
       "    </tr>\n",
       "    <tr>\n",
       "      <th>212</th>\n",
       "      <td>neuroimage</td>\n",
       "      <td>29</td>\n",
       "      <td>2215.17</td>\n",
       "      <td>2326.43</td>\n",
       "      <td>266.65</td>\n",
       "    </tr>\n",
       "    <tr>\n",
       "      <th>572</th>\n",
       "      <td>nucleic acids research</td>\n",
       "      <td>23</td>\n",
       "      <td>1169.22</td>\n",
       "      <td>852.00</td>\n",
       "      <td>454.33</td>\n",
       "    </tr>\n",
       "    <tr>\n",
       "      <th>620</th>\n",
       "      <td>plos genetics</td>\n",
       "      <td>22</td>\n",
       "      <td>1643.11</td>\n",
       "      <td>1712.73</td>\n",
       "      <td>153.37</td>\n",
       "    </tr>\n",
       "  </tbody>\n",
       "</table>\n",
       "</div>"
      ],
      "text/plain": [
       "                       Journal title  Count  Mean Cost  Median Cost       STD\n",
       "622                         plos one    183    1982.25       896.99  14173.07\n",
       "11   journal of biological chemistry     52    1423.59      1301.14    411.95\n",
       "212                       neuroimage     29    2215.17      2326.43    266.65\n",
       "572           nucleic acids research     23    1169.22       852.00    454.33\n",
       "620                    plos genetics     22    1643.11      1712.73    153.37"
      ]
     },
     "execution_count": 365,
     "metadata": {},
     "output_type": "execute_result"
    }
   ],
   "source": [
    "topJournal5 = APCspend[\"Journal title\"].str.lower().unique().tolist()\n",
    "\n",
    "b = []\n",
    "for rep in APCspend[\"COST (£) charged to Wellcome (inc VAT when charged)\"]:\n",
    "    l =  re.split(\"£|\\$\", rep)\n",
    "    l = l[0]+l[1]\n",
    "    b.append(l)\n",
    "APCspend[\"COST\"] = pd.to_numeric(b, errors='coerce')\n",
    "\n",
    "\n",
    "APCspend.fillna(0)\n",
    "placehold = []\n",
    "for journal in topJournal5:\n",
    "    J = 0\n",
    "    cost = 0\n",
    "    Jcount = APCspend[APCspend[\"Journal title\"].str.lower() == journal]\n",
    "    Jcount = Jcount[Jcount[\"COST\"] != 999999.00]\n",
    "    \n",
    "    J = Jcount[\"Article title\"].count()\n",
    "    Meancost = np.around(Jcount[\"COST\"].sum()/J, 2)\n",
    "    Mediancost = np.around(np.median(Jcount[\"COST\"]),2)\n",
    "    STD = np.around((Jcount[\"COST\"]).std(),2)\n",
    "    \n",
    "    holdlist1 = [journal, J, Meancost, Mediancost, STD]\n",
    "    placehold.append(holdlist1)\n",
    "\n",
    "APCdf =pd.DataFrame(placehold)\n",
    "APCdf.columns = [\"Journal title\", \"Count\", \"Mean Cost\", \"Median Cost\", \"STD\"]\n",
    "APCdf.sort_values(by=[\"Count\"], ascending=False).head()"
   ]
  },
  {
   "cell_type": "code",
   "execution_count": 361,
   "metadata": {},
   "outputs": [
    {
     "data": {
      "text/plain": [
       "192645.0"
      ]
     },
     "execution_count": 361,
     "metadata": {},
     "output_type": "execute_result"
    }
   ],
   "source": [
    "Jcount = APCspend[APCspend[\"Journal title\"].str.lower() == \"plos one\"]\n",
    "Jcount = Jcount[Jcount[\"COST\"] != 999999.00]\n",
    "Jcount[\"COST\"].max()"
   ]
  },
  {
   "cell_type": "code",
   "execution_count": null,
   "metadata": {
    "collapsed": true
   },
   "outputs": [],
   "source": []
  }
 ],
 "metadata": {
  "kernelspec": {
   "display_name": "Python 3",
   "language": "python",
   "name": "python3"
  },
  "language_info": {
   "codemirror_mode": {
    "name": "ipython",
    "version": 3
   },
   "file_extension": ".py",
   "mimetype": "text/x-python",
   "name": "python",
   "nbconvert_exporter": "python",
   "pygments_lexer": "ipython3",
   "version": "3.6.3"
  }
 },
 "nbformat": 4,
 "nbformat_minor": 2
}
